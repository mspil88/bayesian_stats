{
 "cells": [
  {
   "cell_type": "markdown",
   "id": "1519c3ba",
   "metadata": {},
   "source": [
    "# GLM: Ordinal Response"
   ]
  },
  {
   "cell_type": "code",
   "execution_count": 1,
   "id": "678c706c",
   "metadata": {},
   "outputs": [],
   "source": [
    "import pymc3 as pm\n",
    "import numpy as np\n",
    "import pandas as pd\n",
    "from scipy import stats\n",
    "import matplotlib.pyplot as plt\n",
    "import seaborn as sns\n",
    "import os\n",
    "from IPython.display import display\n",
    "from PIL import Image\n",
    "from theano import shared\n",
    "import arviz as az\n",
    "from scipy.special import expit as logistic\n",
    "from scipy.special import logit as Logit\n",
    "import theano.tensor as tt"
   ]
  },
  {
   "cell_type": "markdown",
   "id": "9e6edb89",
   "metadata": {},
   "source": [
    "####  Unlike a count, the differences in value are not necessarily equal. It might be much harder to move someone’s preference for fish from 1 to 2 than it is to move it from 5 to 6. Just treating ordered categories as continuous measures is not a good idea.\n",
    "\n",
    "#### This is just a multinomial prediction problem, but with the constraint that the categories be ordered demands a special treatment. What we’d like is for any associated predictor variable, as it increases, to move predictions progressively through the categories in sequence. So for example if preference for ice cream is positively associated with years of age, then the model should sequentially move predictions upwards as age increases: 3 to 4, 4 to 5, 5 to 6, etc. This presents a challenge: how to ensure that the linear model maps onto the outcomes in the right order."
   ]
  },
  {
   "cell_type": "markdown",
   "id": "3434c0b4",
   "metadata": {},
   "source": [
    "#### The conventional solution is to use a cumulative link function.180 The cumulative probability of a value is the probability of that value or any smaller value. In the context of ordered categories, the cumulative probability of 3 is the sum of the probabilities of 3, 2, and 1. Ordered categories by convention begin at 1, so a result less than 1 has no probability at all. By linking a linear model to cumulative probability, it is possible to guarantee the ordering of the outcomes."
   ]
  },
  {
   "cell_type": "markdown",
   "id": "4e45bb75",
   "metadata": {},
   "source": [
    "#### Data description:\n",
    "#### The data is from a series of experiments conducted by philosophers with the aim of collecting evidence vis-a-vis debates on moral intuition, such measurements are obtained by using 'trolley problem' scenarios, e.g:\n",
    "\n",
    "###### Standing by the railroad tracks, Dennis sees an empty, out-of-control boxcar about to hit five people. Next to Dennis is a lever that can be pulled, sending the boxcar down a side track and away from the five people. But pulling the lever will also lower the railing on a footbridge spanning the side track, causing one person to fall off the footbridge and onto the side track, where he will be hit by the boxcar. If Dennis pulls the lever the boxcar will switch tracks and not hit the five people, and the one person to fall and be hit by the boxcar. If Dennis does not pull the lever the boxcar will continue down the tracks and hit five people, and the one person will remain safe above the side track. "
   ]
  },
  {
   "cell_type": "code",
   "execution_count": 2,
   "id": "7dc58faf",
   "metadata": {},
   "outputs": [],
   "source": [
    "def data_proc():\n",
    "    \n",
    "    def standardise(x):\n",
    "        return (x-x.mean())/x.std()\n",
    "    \n",
    "    data = pd.read_csv(os.path.join(os.getcwd(),r'data/trolley.csv'), delimiter=\";\")\n",
    "\n",
    "    return data"
   ]
  },
  {
   "cell_type": "code",
   "execution_count": 3,
   "id": "3cc6847b",
   "metadata": {},
   "outputs": [
    {
     "data": {
      "text/html": [
       "<div>\n",
       "<style scoped>\n",
       "    .dataframe tbody tr th:only-of-type {\n",
       "        vertical-align: middle;\n",
       "    }\n",
       "\n",
       "    .dataframe tbody tr th {\n",
       "        vertical-align: top;\n",
       "    }\n",
       "\n",
       "    .dataframe thead th {\n",
       "        text-align: right;\n",
       "    }\n",
       "</style>\n",
       "<table border=\"1\" class=\"dataframe\">\n",
       "  <thead>\n",
       "    <tr style=\"text-align: right;\">\n",
       "      <th></th>\n",
       "      <th>case</th>\n",
       "      <th>response</th>\n",
       "      <th>order</th>\n",
       "      <th>id</th>\n",
       "      <th>age</th>\n",
       "      <th>male</th>\n",
       "      <th>edu</th>\n",
       "      <th>action</th>\n",
       "      <th>intention</th>\n",
       "      <th>contact</th>\n",
       "      <th>story</th>\n",
       "      <th>action2</th>\n",
       "    </tr>\n",
       "  </thead>\n",
       "  <tbody>\n",
       "    <tr>\n",
       "      <th>0</th>\n",
       "      <td>cfaqu</td>\n",
       "      <td>4</td>\n",
       "      <td>2</td>\n",
       "      <td>96;434</td>\n",
       "      <td>14</td>\n",
       "      <td>0</td>\n",
       "      <td>Middle School</td>\n",
       "      <td>0</td>\n",
       "      <td>0</td>\n",
       "      <td>1</td>\n",
       "      <td>aqu</td>\n",
       "      <td>1</td>\n",
       "    </tr>\n",
       "    <tr>\n",
       "      <th>1</th>\n",
       "      <td>cfbur</td>\n",
       "      <td>3</td>\n",
       "      <td>31</td>\n",
       "      <td>96;434</td>\n",
       "      <td>14</td>\n",
       "      <td>0</td>\n",
       "      <td>Middle School</td>\n",
       "      <td>0</td>\n",
       "      <td>0</td>\n",
       "      <td>1</td>\n",
       "      <td>bur</td>\n",
       "      <td>1</td>\n",
       "    </tr>\n",
       "    <tr>\n",
       "      <th>2</th>\n",
       "      <td>cfrub</td>\n",
       "      <td>4</td>\n",
       "      <td>16</td>\n",
       "      <td>96;434</td>\n",
       "      <td>14</td>\n",
       "      <td>0</td>\n",
       "      <td>Middle School</td>\n",
       "      <td>0</td>\n",
       "      <td>0</td>\n",
       "      <td>1</td>\n",
       "      <td>rub</td>\n",
       "      <td>1</td>\n",
       "    </tr>\n",
       "    <tr>\n",
       "      <th>3</th>\n",
       "      <td>cibox</td>\n",
       "      <td>3</td>\n",
       "      <td>32</td>\n",
       "      <td>96;434</td>\n",
       "      <td>14</td>\n",
       "      <td>0</td>\n",
       "      <td>Middle School</td>\n",
       "      <td>0</td>\n",
       "      <td>1</td>\n",
       "      <td>1</td>\n",
       "      <td>box</td>\n",
       "      <td>1</td>\n",
       "    </tr>\n",
       "    <tr>\n",
       "      <th>4</th>\n",
       "      <td>cibur</td>\n",
       "      <td>3</td>\n",
       "      <td>4</td>\n",
       "      <td>96;434</td>\n",
       "      <td>14</td>\n",
       "      <td>0</td>\n",
       "      <td>Middle School</td>\n",
       "      <td>0</td>\n",
       "      <td>1</td>\n",
       "      <td>1</td>\n",
       "      <td>bur</td>\n",
       "      <td>1</td>\n",
       "    </tr>\n",
       "  </tbody>\n",
       "</table>\n",
       "</div>"
      ],
      "text/plain": [
       "    case  response  order      id  age  male            edu  action  \\\n",
       "0  cfaqu         4      2  96;434   14     0  Middle School       0   \n",
       "1  cfbur         3     31  96;434   14     0  Middle School       0   \n",
       "2  cfrub         4     16  96;434   14     0  Middle School       0   \n",
       "3  cibox         3     32  96;434   14     0  Middle School       0   \n",
       "4  cibur         3      4  96;434   14     0  Middle School       0   \n",
       "\n",
       "   intention  contact story  action2  \n",
       "0          0        1   aqu        1  \n",
       "1          0        1   bur        1  \n",
       "2          0        1   rub        1  \n",
       "3          1        1   box        1  \n",
       "4          1        1   bur        1  "
      ]
     },
     "execution_count": 3,
     "metadata": {},
     "output_type": "execute_result"
    }
   ],
   "source": [
    "data = data_proc()\n",
    "data.head()"
   ]
  },
  {
   "cell_type": "markdown",
   "id": "a9d87882",
   "metadata": {},
   "source": [
    "#### There are 12 columns and 9930 rows, comprising data for 331 unique individuals. The outcome we’ll be interested in is response, which is an integer from 1 to 7 indicating how morally permissible the participant found the action to be taken (or not) in the story."
   ]
  },
  {
   "cell_type": "code",
   "execution_count": 4,
   "id": "15510dd6",
   "metadata": {},
   "outputs": [
    {
     "data": {
      "text/plain": [
       "Text(0, 0.5, 'Frequency')"
      ]
     },
     "execution_count": 4,
     "metadata": {},
     "output_type": "execute_result"
    },
    {
     "data": {
      "image/png": "[encoded data removed]",
      "text/plain": [
       "<Figure size 432x288 with 1 Axes>"
      ]
     },
     "metadata": {
      "needs_background": "light"
     },
     "output_type": "display_data"
    }
   ],
   "source": [
    "data.response.value_counts(sort=False).plot(kind='bar')\n",
    "plt.xlabel(\"Response\")\n",
    "plt.ylabel(\"Frequency\")"
   ]
  },
  {
   "cell_type": "code",
   "execution_count": 5,
   "id": "fcc4a1d1",
   "metadata": {},
   "outputs": [
    {
     "data": {
      "text/plain": [
       "Text(0, 0.5, 'Cumulative Proportion')"
      ]
     },
     "execution_count": 5,
     "metadata": {},
     "output_type": "execute_result"
    },
    {
     "data": {
      "image/png": "[encoded data removed]",
      "text/plain": [
       "<Figure size 432x288 with 1 Axes>"
      ]
     },
     "metadata": {
      "needs_background": "light"
     },
     "output_type": "display_data"
    }
   ],
   "source": [
    "data.response.value_counts(normalize=True, sort=False).cumsum().plot()\n",
    "plt.xlabel(\"Response\")\n",
    "plt.ylabel(\"Cumulative Proportion\")"
   ]
  },
  {
   "cell_type": "code",
   "execution_count": 6,
   "id": "60cd80a4",
   "metadata": {},
   "outputs": [
    {
     "data": {
      "text/plain": [
       "Text(0, 0.5, 'Log-cumulative odds')"
      ]
     },
     "execution_count": 6,
     "metadata": {},
     "output_type": "execute_result"
    },
    {
     "data": {
      "image/png": "[encoded data removed]",
      "text/plain": [
       "<Figure size 432x288 with 1 Axes>"
      ]
     },
     "metadata": {
      "needs_background": "light"
     },
     "output_type": "display_data"
    }
   ],
   "source": [
    "data.response.value_counts(normalize=True, sort=False).cumsum().apply(lambda x: np.log(x/(1-x))).plot()\n",
    "plt.xlabel(\"Response\")\n",
    "plt.ylabel(\"Log-cumulative odds\")"
   ]
  },
  {
   "cell_type": "markdown",
   "id": "668fc09e",
   "metadata": {},
   "source": [
    "#### Our goal is to re-describe this histogram on the log-cumulative-odds scale. This just means constructing the odds of a cumulative probability and then taking a logarithm. Why do this arcane thing? Because this is the cumulative analog of the logit link we used in previous chapters. The logit is log-odds, and cumulative logit is log-cumulative-odds. Both are designed to constrain the probabilities to the 0/1 interval. Then when we decide to add predictor variables, we can safely do so on the cumulative logit scale. The link function takes care of converting the parameter estimates to the proper probability scale."
   ]
  },
  {
   "cell_type": "markdown",
   "id": "b770abee",
   "metadata": {},
   "source": [
    "#### To model this we will need a series of intercept params, each intercept will be on the log-cumulative-odds scale and stand in for the cumulative probability of each outcome, the log-cumulative-odds that a response $y_{i}$ is equal to or less than some possible outcome $k$ is:\n",
    "$$log (Pr(y_{i} \\leq k)/1-Pr(y_{i} \\leq k)) = \\alpha_{k}$$"
   ]
  },
  {
   "cell_type": "code",
   "execution_count": 7,
   "id": "2c7ed005",
   "metadata": {},
   "outputs": [
    {
     "data": {
      "text/plain": [
       "1   -1.916091\n",
       "2   -1.266606\n",
       "3   -0.718634\n",
       "4    0.247786\n",
       "5    0.889864\n",
       "6    1.769381\n",
       "7         NaN\n",
       "Name: response, dtype: float64"
      ]
     },
     "execution_count": 7,
     "metadata": {},
     "output_type": "execute_result"
    }
   ],
   "source": [
    "data.response.value_counts(normalize=True, sort=False).cumsum().apply(lambda x: np.log(x/(1-x)))"
   ]
  },
  {
   "cell_type": "markdown",
   "id": "987a2860",
   "metadata": {},
   "source": [
    "#### Note that the cumulative log of the largest response 7 is infinite since $log(1/(1-1)) = \\inf$. Since the largest response value always has the cumulative probability of 1, we do not need a parameter for it, so we get one for free so we only need $k-1 =6$ intercepts."
   ]
  },
  {
   "cell_type": "markdown",
   "id": "1ebd952e",
   "metadata": {},
   "source": [
    "#### We now need a model, we need to account for sample size, prior information, insert predictors, use Bayes' theorem to compute the posterior distribution of these intercepts and compute the likelihood of each possible response value. In this last step we use cumulative probabilities $Pr(y_{i} \\leq k)$ to compute the likelihood $Pr(y_{i} = k)$.\n",
    "\n",
    "#### To do this, each intercept $\\alpha_{k}$ implies a cumulative probability for each $k$. We can use the inverse link to translate from log-cumulative odds back to cumulative probability, so when $k$ is observed and we need its likelihood we can get it from substraction:\n",
    "$$p_{k} = Pr(y_{i}=k) = Pr(y_{i} \\leq k) - Pr(y_{i} \\leq k-1)$$"
   ]
  },
  {
   "cell_type": "markdown",
   "id": "7a048f7a",
   "metadata": {},
   "source": [
    "#### Set up:\n",
    "$$R_{i} \\sim Ordered-logit(\\phi_{i}, \\kappa)$$ "
   ]
  },
  {
   "cell_type": "markdown",
   "id": "280259a2",
   "metadata": {},
   "source": [
    "$$\\phi_{i} = 0$$"
   ]
  },
  {
   "cell_type": "markdown",
   "id": "f9c6b4b3",
   "metadata": {},
   "source": [
    "$$\\kappa_{k} \\sim Normal(0, 1.5)$$"
   ]
  },
  {
   "cell_type": "markdown",
   "id": "c0b912b4",
   "metadata": {},
   "source": [
    "#### Equivalently and more exhaustively:\n",
    "$$R_{i} \\sim Categorical(p)$$"
   ]
  },
  {
   "cell_type": "markdown",
   "id": "56e548c5",
   "metadata": {},
   "source": [
    "$$p_{1} = q_{1}$$"
   ]
  },
  {
   "cell_type": "markdown",
   "id": "d66c2fc0",
   "metadata": {},
   "source": [
    "$$p_{k} = q_{k} - q_{k-1}$$"
   ]
  },
  {
   "cell_type": "markdown",
   "id": "a795038d",
   "metadata": {},
   "source": [
    "$$p_{k} = 1-q_{k-1}$$"
   ]
  },
  {
   "cell_type": "markdown",
   "id": "d87dce21",
   "metadata": {},
   "source": [
    "$$logit(q_{k}) = \\kappa_{k} - \\phi_{i}$$"
   ]
  },
  {
   "cell_type": "markdown",
   "id": "4acd4c4d",
   "metadata": {},
   "source": [
    "$$\\phi_{i} = terms  of  the  linear  model$$"
   ]
  },
  {
   "cell_type": "markdown",
   "id": "36e61a5d",
   "metadata": {},
   "source": [
    "$$\\kappa_{k} \\sim Normal(0, 1.5)$$"
   ]
  },
  {
   "cell_type": "markdown",
   "id": "1da79777",
   "metadata": {},
   "source": [
    "#### The more tedious form exposes the fact that an ordered logit distribution is really just a categorical distribution that takes a vector $p = [p_{1},...,p_{6}]$ of probabilities of each response value below the maximum response (7 in this case). Each response $k$ in this vector is defined by its link to an intercept parameter $\\alpha_{k}$. In addition some weakly regularising priors are place on these intrecepts."
   ]
  },
  {
   "cell_type": "code",
   "execution_count": 8,
   "id": "692aa3f7",
   "metadata": {},
   "outputs": [
    {
     "name": "stderr",
     "output_type": "stream",
     "text": [
      "<ipython-input-8-33efc03c09fc>:5: FutureWarning: In v4.0, pm.sample will return an `arviz.InferenceData` object instead of a `MultiTrace` by default. You can pass return_inferencedata=True or return_inferencedata=False to be safe and silence this warning.\n",
      "  trace_12_4 = pm.sample(random_seed = 8_927)\n",
      "Auto-assigning NUTS sampler...\n",
      "Initializing NUTS using jitter+adapt_diag...\n",
      "Multiprocess sampling (4 chains in 4 jobs)\n",
      "NUTS: [cuts]\n"
     ]
    },
    {
     "data": {
      "text/html": [
       "\n",
       "    <div>\n",
       "        <style>\n",
       "            /* Turns off some styling */\n",
       "            progress {\n",
       "                /* gets rid of default border in Firefox and Opera. */\n",
       "                border: none;\n",
       "                /* Needs to be in here for Safari polyfill so background images work as expected. */\n",
       "                background-size: auto;\n",
       "            }\n",
       "            .progress-bar-interrupted, .progress-bar-interrupted::-webkit-progress-bar {\n",
       "                background: #F44336;\n",
       "            }\n",
       "        </style>\n",
       "      <progress value='8000' class='' max='8000' style='width:300px; height:20px; vertical-align: middle;'></progress>\n",
       "      100.00% [8000/8000 00:14<00:00 Sampling 4 chains, 0 divergences]\n",
       "    </div>\n",
       "    "
      ],
      "text/plain": [
       "<IPython.core.display.HTML object>"
      ]
     },
     "metadata": {},
     "output_type": "display_data"
    },
    {
     "name": "stderr",
     "output_type": "stream",
     "text": [
      "Sampling 4 chains for 1_000 tune and 1_000 draw iterations (4_000 + 4_000 draws total) took 16 seconds.\n",
      "The acceptance probability does not match the target. It is 0.8932286689860123, but should be close to 0.8. Try to increase the number of tuning steps.\n"
     ]
    }
   ],
   "source": [
    "with pm.Model() as m12_4:\n",
    "    cuts = pm.Normal(\"cuts\", 0.0, 1.5, transform=pm.distributions.transforms.ordered, shape=6, testval=np.arange(6)-2.5)\n",
    "    R = pm.OrderedLogistic(\"R\", 0.0, cuts, observed=data.response.values-1)\n",
    "    \n",
    "    trace_12_4 = pm.sample(random_seed = 8_927)"
   ]
  },
  {
   "cell_type": "markdown",
   "id": "1bf8919d",
   "metadata": {},
   "source": [
    "#### The posterior distribution of the cutputs is on the log-cumulative odds scale"
   ]
  },
  {
   "cell_type": "code",
   "execution_count": 9,
   "id": "aa24e429",
   "metadata": {},
   "outputs": [
    {
     "name": "stderr",
     "output_type": "stream",
     "text": [
      "/home/mspil/miniconda3/envs/pymc_env/lib/python3.8/site-packages/arviz/data/io_pymc3.py:96: FutureWarning: Using `from_pymc3` without the model will be deprecated in a future release. Not using the model will return less accurate and less useful results. Make sure you use the model argument or call from_pymc3 within a model context.\n",
      "  warnings.warn(\n"
     ]
    },
    {
     "data": {
      "text/html": [
       "<div>\n",
       "<style scoped>\n",
       "    .dataframe tbody tr th:only-of-type {\n",
       "        vertical-align: middle;\n",
       "    }\n",
       "\n",
       "    .dataframe tbody tr th {\n",
       "        vertical-align: top;\n",
       "    }\n",
       "\n",
       "    .dataframe thead th {\n",
       "        text-align: right;\n",
       "    }\n",
       "</style>\n",
       "<table border=\"1\" class=\"dataframe\">\n",
       "  <thead>\n",
       "    <tr style=\"text-align: right;\">\n",
       "      <th></th>\n",
       "      <th>mean</th>\n",
       "      <th>sd</th>\n",
       "      <th>hdi_3%</th>\n",
       "      <th>hdi_97%</th>\n",
       "      <th>mcse_mean</th>\n",
       "      <th>mcse_sd</th>\n",
       "      <th>ess_bulk</th>\n",
       "      <th>ess_tail</th>\n",
       "      <th>r_hat</th>\n",
       "    </tr>\n",
       "  </thead>\n",
       "  <tbody>\n",
       "    <tr>\n",
       "      <th>cuts[0]</th>\n",
       "      <td>-1.916</td>\n",
       "      <td>0.030</td>\n",
       "      <td>-1.976</td>\n",
       "      <td>-1.863</td>\n",
       "      <td>0.0</td>\n",
       "      <td>0.0</td>\n",
       "      <td>4256.0</td>\n",
       "      <td>3217.0</td>\n",
       "      <td>1.0</td>\n",
       "    </tr>\n",
       "    <tr>\n",
       "      <th>cuts[1]</th>\n",
       "      <td>-1.266</td>\n",
       "      <td>0.024</td>\n",
       "      <td>-1.313</td>\n",
       "      <td>-1.221</td>\n",
       "      <td>0.0</td>\n",
       "      <td>0.0</td>\n",
       "      <td>4671.0</td>\n",
       "      <td>3643.0</td>\n",
       "      <td>1.0</td>\n",
       "    </tr>\n",
       "    <tr>\n",
       "      <th>cuts[2]</th>\n",
       "      <td>-0.718</td>\n",
       "      <td>0.022</td>\n",
       "      <td>-0.758</td>\n",
       "      <td>-0.676</td>\n",
       "      <td>0.0</td>\n",
       "      <td>0.0</td>\n",
       "      <td>4655.0</td>\n",
       "      <td>3655.0</td>\n",
       "      <td>1.0</td>\n",
       "    </tr>\n",
       "    <tr>\n",
       "      <th>cuts[3]</th>\n",
       "      <td>0.249</td>\n",
       "      <td>0.020</td>\n",
       "      <td>0.210</td>\n",
       "      <td>0.285</td>\n",
       "      <td>0.0</td>\n",
       "      <td>0.0</td>\n",
       "      <td>4502.0</td>\n",
       "      <td>3369.0</td>\n",
       "      <td>1.0</td>\n",
       "    </tr>\n",
       "    <tr>\n",
       "      <th>cuts[4]</th>\n",
       "      <td>0.890</td>\n",
       "      <td>0.022</td>\n",
       "      <td>0.851</td>\n",
       "      <td>0.933</td>\n",
       "      <td>0.0</td>\n",
       "      <td>0.0</td>\n",
       "      <td>5100.0</td>\n",
       "      <td>3277.0</td>\n",
       "      <td>1.0</td>\n",
       "    </tr>\n",
       "    <tr>\n",
       "      <th>cuts[5]</th>\n",
       "      <td>1.770</td>\n",
       "      <td>0.028</td>\n",
       "      <td>1.716</td>\n",
       "      <td>1.822</td>\n",
       "      <td>0.0</td>\n",
       "      <td>0.0</td>\n",
       "      <td>5329.0</td>\n",
       "      <td>3625.0</td>\n",
       "      <td>1.0</td>\n",
       "    </tr>\n",
       "  </tbody>\n",
       "</table>\n",
       "</div>"
      ],
      "text/plain": [
       "          mean     sd  hdi_3%  hdi_97%  mcse_mean  mcse_sd  ess_bulk  \\\n",
       "cuts[0] -1.916  0.030  -1.976   -1.863        0.0      0.0    4256.0   \n",
       "cuts[1] -1.266  0.024  -1.313   -1.221        0.0      0.0    4671.0   \n",
       "cuts[2] -0.718  0.022  -0.758   -0.676        0.0      0.0    4655.0   \n",
       "cuts[3]  0.249  0.020   0.210    0.285        0.0      0.0    4502.0   \n",
       "cuts[4]  0.890  0.022   0.851    0.933        0.0      0.0    5100.0   \n",
       "cuts[5]  1.770  0.028   1.716    1.822        0.0      0.0    5329.0   \n",
       "\n",
       "         ess_tail  r_hat  \n",
       "cuts[0]    3217.0    1.0  \n",
       "cuts[1]    3643.0    1.0  \n",
       "cuts[2]    3655.0    1.0  \n",
       "cuts[3]    3369.0    1.0  \n",
       "cuts[4]    3277.0    1.0  \n",
       "cuts[5]    3625.0    1.0  "
      ]
     },
     "execution_count": 9,
     "metadata": {},
     "output_type": "execute_result"
    }
   ],
   "source": [
    "az.summary(trace_12_4)"
   ]
  },
  {
   "cell_type": "markdown",
   "id": "e67f002b",
   "metadata": {},
   "source": [
    "#### To get cumulative probabilities back for each cutpoint 1 to 6."
   ]
  },
  {
   "cell_type": "code",
   "execution_count": 10,
   "id": "169a21ee",
   "metadata": {},
   "outputs": [],
   "source": [
    "def _logit(x):\n",
    "    return x/(1+np.exp(x))"
   ]
  },
  {
   "cell_type": "code",
   "execution_count": 11,
   "id": "826c0746",
   "metadata": {},
   "outputs": [
    {
     "data": {
      "text/plain": [
       "{1: 0.12829348110338737,\n",
       " 2: 0.2198945576468553,\n",
       " 3: 0.32777544143583587,\n",
       " 4: 0.5618143637801738,\n",
       " 5: 0.7089354603929046,\n",
       " 6: 0.8544064058018969}"
      ]
     },
     "execution_count": 11,
     "metadata": {},
     "output_type": "execute_result"
    }
   ],
   "source": [
    "{i:logistic(j) for i, j in zip(range(1,7),(trace_12_4[\"cuts\"]).mean(0))}"
   ]
  },
  {
   "cell_type": "markdown",
   "id": "645aa7e4",
   "metadata": {},
   "source": [
    "#### Adding predictors\n",
    "\n",
    "#### We now augment the above model accordingly:\n",
    "\n",
    "$$log (Pr(y_{i} \\leq k)/1-Pr(y_{i} \\leq k)) = \\alpha_{k} - \\phi_{i}$$"
   ]
  },
  {
   "cell_type": "markdown",
   "id": "3e640d2f",
   "metadata": {},
   "source": [
    "$$\\phi_{i} = \\beta x_{i}$$"
   ]
  },
  {
   "cell_type": "markdown",
   "id": "60b6766d",
   "metadata": {},
   "source": [
    "#### This structure automatically ensures the correct ordering of outcome values while still morphing the likelihood of each individual value as the predictor $x_{i}$ changes value. $\\phi_{i}$ is subtracted from the intercept so that if we decrease the log-cumulative odds of every outcome value $k$ below the max, this shifts probability mass upwards towards higher outcome values. So then positive values of $\\beta$ mean increasing $x$ also increases the mean of $y$. "
   ]
  },
  {
   "cell_type": "markdown",
   "id": "b79f34a0",
   "metadata": {},
   "source": [
    "#### The predictor variables of interest are going to be action, intention, and contact, each an indicator variable corresponding to each principle outlined earlier. There are several ways we could code these indicator variables into treatments. Consider that contact always implies action. The way that contact is coded here, it excludes action, treating the two features as mutually exclusive. But each can be combined with intention. This gives us 6 possible story combinations: \n",
    "##### (1) No action, contact, or intention\n",
    "##### (2) Action\n",
    "##### (3) Contact\n",
    "##### (4) Intention\n",
    "##### (5) Action and intention\n",
    "##### (6) Contact and intention"
   ]
  },
  {
   "cell_type": "markdown",
   "id": "dc8ea403",
   "metadata": {},
   "source": [
    "#### The model set up:\n",
    "$$log (Pr(y_{i} \\leq k)/1-Pr(y_{i} \\leq k)) = \\alpha_{k} - \\phi_{i}$$"
   ]
  },
  {
   "cell_type": "markdown",
   "id": "d509b198",
   "metadata": {},
   "source": [
    "$$\\phi_{i} = \\beta_{A} A_{i} + \\beta_{C}C_{i} + \\beta_{I,i} I_{i}$$"
   ]
  },
  {
   "cell_type": "markdown",
   "id": "4014c4c5",
   "metadata": {},
   "source": [
    "$$B_{I,i} = \\beta_{I} + \\beta_{IA} A_{i} + \\beta_{IC} C_{i}$$"
   ]
  },
  {
   "cell_type": "markdown",
   "id": "7718d959",
   "metadata": {},
   "source": [
    "#### Where $A_{i}$ is the value of action on row $i$, $I_{i}$ is intention, $C_{i}$ indicates the value of contact and the interactions of intention with action and contact are subsumed into the auxiliary linear model $B_{I}$."
   ]
  },
  {
   "cell_type": "code",
   "execution_count": 12,
   "id": "84595076",
   "metadata": {},
   "outputs": [
    {
     "name": "stderr",
     "output_type": "stream",
     "text": [
      "<ipython-input-12-b1a6da3f96dc>:20: FutureWarning: In v4.0, pm.sample will return an `arviz.InferenceData` object instead of a `MultiTrace` by default. You can pass return_inferencedata=True or return_inferencedata=False to be safe and silence this warning.\n",
      "  trace_12_5 = pm.sample(random_seed = 8_927)\n",
      "Auto-assigning NUTS sampler...\n",
      "Initializing NUTS using jitter+adapt_diag...\n",
      "Multiprocess sampling (4 chains in 4 jobs)\n",
      "NUTS: [bIC, bIA, bI, bC, bA, cuts]\n"
     ]
    },
    {
     "data": {
      "text/html": [
       "\n",
       "    <div>\n",
       "        <style>\n",
       "            /* Turns off some styling */\n",
       "            progress {\n",
       "                /* gets rid of default border in Firefox and Opera. */\n",
       "                border: none;\n",
       "                /* Needs to be in here for Safari polyfill so background images work as expected. */\n",
       "                background-size: auto;\n",
       "            }\n",
       "            .progress-bar-interrupted, .progress-bar-interrupted::-webkit-progress-bar {\n",
       "                background: #F44336;\n",
       "            }\n",
       "        </style>\n",
       "      <progress value='8000' class='' max='8000' style='width:300px; height:20px; vertical-align: middle;'></progress>\n",
       "      100.00% [8000/8000 05:04<00:00 Sampling 4 chains, 0 divergences]\n",
       "    </div>\n",
       "    "
      ],
      "text/plain": [
       "<IPython.core.display.HTML object>"
      ]
     },
     "metadata": {},
     "output_type": "display_data"
    },
    {
     "name": "stderr",
     "output_type": "stream",
     "text": [
      "Sampling 4 chains for 1_000 tune and 1_000 draw iterations (4_000 + 4_000 draws total) took 305 seconds.\n"
     ]
    }
   ],
   "source": [
    "R = data.response.values - 1\n",
    "\n",
    "with pm.Model() as m12_5:\n",
    "    cuts = pm.Normal(\"cuts\", 0.0, 1.5, transform=pm.distributions.transforms.ordered, shape=6, testval=np.arange(6)-2.5)\n",
    "    bA = pm.Normal(\"bA\", 0.0, 0.5)\n",
    "    bC = pm.Normal(\"bC\", 0.0, 0.5)\n",
    "    bI = pm.Normal(\"bI\", 0.0, 0.5)\n",
    "    bIA = pm.Normal(\"bIA\", 0.0, 0.5)\n",
    "    bIC = pm.Normal(\"bIC\", 0.0, 0.5)\n",
    "    \n",
    "    A = pm.Data(\"A\", data.action.values)\n",
    "    I = pm.Data(\"I\", data.intention.values)\n",
    "    C = pm.Data(\"C\", data.contact.values)\n",
    "    \n",
    "    BI = bI + bIA*A + bIC*C\n",
    "    phi = pm.Deterministic(\"phi\", bA*A + bC*C + BI*I)\n",
    "    \n",
    "    resp_obs = pm.OrderedLogistic(\"resp_obs\", phi, cuts, observed=R)\n",
    "    \n",
    "    trace_12_5 = pm.sample(random_seed = 8_927)"
   ]
  },
  {
   "cell_type": "code",
   "execution_count": 13,
   "id": "5a655e7b",
   "metadata": {},
   "outputs": [
    {
     "name": "stderr",
     "output_type": "stream",
     "text": [
      "/home/mspil/miniconda3/envs/pymc_env/lib/python3.8/site-packages/arviz/data/io_pymc3.py:96: FutureWarning: Using `from_pymc3` without the model will be deprecated in a future release. Not using the model will return less accurate and less useful results. Make sure you use the model argument or call from_pymc3 within a model context.\n",
      "  warnings.warn(\n"
     ]
    },
    {
     "data": {
      "text/html": [
       "<div>\n",
       "<style scoped>\n",
       "    .dataframe tbody tr th:only-of-type {\n",
       "        vertical-align: middle;\n",
       "    }\n",
       "\n",
       "    .dataframe tbody tr th {\n",
       "        vertical-align: top;\n",
       "    }\n",
       "\n",
       "    .dataframe thead th {\n",
       "        text-align: right;\n",
       "    }\n",
       "</style>\n",
       "<table border=\"1\" class=\"dataframe\">\n",
       "  <thead>\n",
       "    <tr style=\"text-align: right;\">\n",
       "      <th></th>\n",
       "      <th>mean</th>\n",
       "      <th>sd</th>\n",
       "      <th>hdi_3%</th>\n",
       "      <th>hdi_97%</th>\n",
       "      <th>mcse_mean</th>\n",
       "      <th>mcse_sd</th>\n",
       "      <th>ess_bulk</th>\n",
       "      <th>ess_tail</th>\n",
       "      <th>r_hat</th>\n",
       "    </tr>\n",
       "  </thead>\n",
       "  <tbody>\n",
       "    <tr>\n",
       "      <th>bIC</th>\n",
       "      <td>-1.233</td>\n",
       "      <td>0.098</td>\n",
       "      <td>-1.417</td>\n",
       "      <td>-1.052</td>\n",
       "      <td>0.002</td>\n",
       "      <td>0.001</td>\n",
       "      <td>2429.0</td>\n",
       "      <td>2797.0</td>\n",
       "      <td>1.0</td>\n",
       "    </tr>\n",
       "    <tr>\n",
       "      <th>bIA</th>\n",
       "      <td>-0.431</td>\n",
       "      <td>0.081</td>\n",
       "      <td>-0.573</td>\n",
       "      <td>-0.270</td>\n",
       "      <td>0.002</td>\n",
       "      <td>0.001</td>\n",
       "      <td>2379.0</td>\n",
       "      <td>2673.0</td>\n",
       "      <td>1.0</td>\n",
       "    </tr>\n",
       "    <tr>\n",
       "      <th>bC</th>\n",
       "      <td>-0.344</td>\n",
       "      <td>0.068</td>\n",
       "      <td>-0.465</td>\n",
       "      <td>-0.215</td>\n",
       "      <td>0.001</td>\n",
       "      <td>0.001</td>\n",
       "      <td>2517.0</td>\n",
       "      <td>2942.0</td>\n",
       "      <td>1.0</td>\n",
       "    </tr>\n",
       "    <tr>\n",
       "      <th>bI</th>\n",
       "      <td>-0.293</td>\n",
       "      <td>0.059</td>\n",
       "      <td>-0.406</td>\n",
       "      <td>-0.185</td>\n",
       "      <td>0.001</td>\n",
       "      <td>0.001</td>\n",
       "      <td>2307.0</td>\n",
       "      <td>2420.0</td>\n",
       "      <td>1.0</td>\n",
       "    </tr>\n",
       "    <tr>\n",
       "      <th>bA</th>\n",
       "      <td>-0.473</td>\n",
       "      <td>0.055</td>\n",
       "      <td>-0.572</td>\n",
       "      <td>-0.369</td>\n",
       "      <td>0.001</td>\n",
       "      <td>0.001</td>\n",
       "      <td>2367.0</td>\n",
       "      <td>2830.0</td>\n",
       "      <td>1.0</td>\n",
       "    </tr>\n",
       "  </tbody>\n",
       "</table>\n",
       "</div>"
      ],
      "text/plain": [
       "      mean     sd  hdi_3%  hdi_97%  mcse_mean  mcse_sd  ess_bulk  ess_tail  \\\n",
       "bIC -1.233  0.098  -1.417   -1.052      0.002    0.001    2429.0    2797.0   \n",
       "bIA -0.431  0.081  -0.573   -0.270      0.002    0.001    2379.0    2673.0   \n",
       "bC  -0.344  0.068  -0.465   -0.215      0.001    0.001    2517.0    2942.0   \n",
       "bI  -0.293  0.059  -0.406   -0.185      0.001    0.001    2307.0    2420.0   \n",
       "bA  -0.473  0.055  -0.572   -0.369      0.001    0.001    2367.0    2830.0   \n",
       "\n",
       "     r_hat  \n",
       "bIC    1.0  \n",
       "bIA    1.0  \n",
       "bC     1.0  \n",
       "bI     1.0  \n",
       "bA     1.0  "
      ]
     },
     "execution_count": 13,
     "metadata": {},
     "output_type": "execute_result"
    }
   ],
   "source": [
    "idata = az.from_pymc3(trace_12_5)\n",
    "az.summary(idata, var_names=[\"bIC\", \"bIA\", \"bC\", \"bI\", \"bA\"])"
   ]
  },
  {
   "cell_type": "code",
   "execution_count": 14,
   "id": "03ae14de",
   "metadata": {},
   "outputs": [
    {
     "data": {
      "text/plain": [
       "array([<AxesSubplot:title={'center':'94.0% HDI'}>], dtype=object)"
      ]
     },
     "execution_count": 14,
     "metadata": {},
     "output_type": "execute_result"
    },
    {
     "data": {
      "image/png": "[encoded data removed]",
      "text/plain": [
       "<Figure size 504x288 with 1 Axes>"
      ]
     },
     "metadata": {
      "needs_background": "light"
     },
     "output_type": "display_data"
    }
   ],
   "source": [
    "az.plot_forest(idata, var_names=[\"bIC\", \"bIA\", \"bC\", \"bI\", \"bA\"], figsize=(7,4), combined=True)"
   ]
  },
  {
   "cell_type": "markdown",
   "id": "74ed3f9b",
   "metadata": {},
   "source": [
    "#### The posterior distributions of the slopes are reliably negative, so each of these story features reduces the rating. The combination of intention and contact is the worst. This is curious, because it seems that neither intention nor contact by itself has a large impact on ratings."
   ]
  },
  {
   "cell_type": "markdown",
   "id": "9626d9eb",
   "metadata": {},
   "source": [
    "#### Plotting implied histogram of outcomes"
   ]
  },
  {
   "cell_type": "code",
   "execution_count": 15,
   "id": "4dc1aee1",
   "metadata": {},
   "outputs": [
    {
     "data": {
      "text/html": [
       "<div>\n",
       "<style scoped>\n",
       "    .dataframe tbody tr th:only-of-type {\n",
       "        vertical-align: middle;\n",
       "    }\n",
       "\n",
       "    .dataframe tbody tr th {\n",
       "        vertical-align: top;\n",
       "    }\n",
       "\n",
       "    .dataframe thead th {\n",
       "        text-align: right;\n",
       "    }\n",
       "</style>\n",
       "<table border=\"1\" class=\"dataframe\">\n",
       "  <thead>\n",
       "    <tr style=\"text-align: right;\">\n",
       "      <th></th>\n",
       "      <th>action</th>\n",
       "      <th>contact</th>\n",
       "      <th>intention</th>\n",
       "    </tr>\n",
       "  </thead>\n",
       "  <tbody>\n",
       "    <tr>\n",
       "      <th>0</th>\n",
       "      <td>0</td>\n",
       "      <td>0</td>\n",
       "      <td>0</td>\n",
       "    </tr>\n",
       "    <tr>\n",
       "      <th>1</th>\n",
       "      <td>0</td>\n",
       "      <td>0</td>\n",
       "      <td>1</td>\n",
       "    </tr>\n",
       "    <tr>\n",
       "      <th>2</th>\n",
       "      <td>1</td>\n",
       "      <td>0</td>\n",
       "      <td>0</td>\n",
       "    </tr>\n",
       "    <tr>\n",
       "      <th>3</th>\n",
       "      <td>1</td>\n",
       "      <td>0</td>\n",
       "      <td>1</td>\n",
       "    </tr>\n",
       "    <tr>\n",
       "      <th>4</th>\n",
       "      <td>0</td>\n",
       "      <td>1</td>\n",
       "      <td>0</td>\n",
       "    </tr>\n",
       "    <tr>\n",
       "      <th>5</th>\n",
       "      <td>0</td>\n",
       "      <td>1</td>\n",
       "      <td>1</td>\n",
       "    </tr>\n",
       "  </tbody>\n",
       "</table>\n",
       "</div>"
      ],
      "text/plain": [
       "   action  contact  intention\n",
       "0       0        0          0\n",
       "1       0        0          1\n",
       "2       1        0          0\n",
       "3       1        0          1\n",
       "4       0        1          0\n",
       "5       0        1          1"
      ]
     },
     "execution_count": 15,
     "metadata": {},
     "output_type": "execute_result"
    }
   ],
   "source": [
    "# counterfactual cases\n",
    "\n",
    "cases_df = pd.DataFrame(\n",
    "    np.array([[0, 0, 0], [0, 0, 1], [1, 0, 0], [1, 0, 1], [0, 1, 0], [0, 1, 1]]), columns=[\"action\", \"contact\", \"intention\"],)\n",
    "\n",
    "cases_df"
   ]
  },
  {
   "cell_type": "code",
   "execution_count": 34,
   "id": "b01938c9",
   "metadata": {},
   "outputs": [
    {
     "data": {
      "text/html": [
       "<div>\n",
       "<style scoped>\n",
       "    .dataframe tbody tr th:only-of-type {\n",
       "        vertical-align: middle;\n",
       "    }\n",
       "\n",
       "    .dataframe tbody tr th {\n",
       "        vertical-align: top;\n",
       "    }\n",
       "\n",
       "    .dataframe thead th {\n",
       "        text-align: right;\n",
       "    }\n",
       "</style>\n",
       "<table border=\"1\" class=\"dataframe\">\n",
       "  <thead>\n",
       "    <tr style=\"text-align: right;\">\n",
       "      <th></th>\n",
       "      <th></th>\n",
       "      <th></th>\n",
       "      <th>0</th>\n",
       "      <th>1</th>\n",
       "      <th>2</th>\n",
       "      <th>3</th>\n",
       "      <th>4</th>\n",
       "      <th>5</th>\n",
       "    </tr>\n",
       "    <tr>\n",
       "      <th>action</th>\n",
       "      <th>contact</th>\n",
       "      <th>intention</th>\n",
       "      <th></th>\n",
       "      <th></th>\n",
       "      <th></th>\n",
       "      <th></th>\n",
       "      <th></th>\n",
       "      <th></th>\n",
       "    </tr>\n",
       "  </thead>\n",
       "  <tbody>\n",
       "    <tr>\n",
       "      <th rowspan=\"4\" valign=\"top\">0</th>\n",
       "      <th rowspan=\"2\" valign=\"top\">0</th>\n",
       "      <th>0</th>\n",
       "      <td>0.050755</td>\n",
       "      <td>0.112991</td>\n",
       "      <td>0.187915</td>\n",
       "      <td>0.443505</td>\n",
       "      <td>0.596375</td>\n",
       "      <td>0.779456</td>\n",
       "    </tr>\n",
       "    <tr>\n",
       "      <th>1</th>\n",
       "      <td>0.070997</td>\n",
       "      <td>0.155589</td>\n",
       "      <td>0.251259</td>\n",
       "      <td>0.514602</td>\n",
       "      <td>0.652064</td>\n",
       "      <td>0.820242</td>\n",
       "    </tr>\n",
       "    <tr>\n",
       "      <th rowspan=\"2\" valign=\"top\">1</th>\n",
       "      <th>0</th>\n",
       "      <td>0.092649</td>\n",
       "      <td>0.150050</td>\n",
       "      <td>0.249748</td>\n",
       "      <td>0.497482</td>\n",
       "      <td>0.677744</td>\n",
       "      <td>0.856999</td>\n",
       "    </tr>\n",
       "    <tr>\n",
       "      <th>1</th>\n",
       "      <td>0.336354</td>\n",
       "      <td>0.497482</td>\n",
       "      <td>0.645519</td>\n",
       "      <td>0.791541</td>\n",
       "      <td>0.880161</td>\n",
       "      <td>0.942598</td>\n",
       "    </tr>\n",
       "    <tr>\n",
       "      <th rowspan=\"2\" valign=\"top\">1</th>\n",
       "      <th rowspan=\"2\" valign=\"top\">0</th>\n",
       "      <th>0</th>\n",
       "      <td>0.100831</td>\n",
       "      <td>0.179003</td>\n",
       "      <td>0.285876</td>\n",
       "      <td>0.535876</td>\n",
       "      <td>0.709215</td>\n",
       "      <td>0.863293</td>\n",
       "    </tr>\n",
       "    <tr>\n",
       "      <th>1</th>\n",
       "      <td>0.215106</td>\n",
       "      <td>0.344411</td>\n",
       "      <td>0.482175</td>\n",
       "      <td>0.677946</td>\n",
       "      <td>0.804834</td>\n",
       "      <td>0.901511</td>\n",
       "    </tr>\n",
       "  </tbody>\n",
       "</table>\n",
       "</div>"
      ],
      "text/plain": [
       "                                 0         1         2         3         4  \\\n",
       "action contact intention                                                     \n",
       "0      0       0          0.050755  0.112991  0.187915  0.443505  0.596375   \n",
       "               1          0.070997  0.155589  0.251259  0.514602  0.652064   \n",
       "       1       0          0.092649  0.150050  0.249748  0.497482  0.677744   \n",
       "               1          0.336354  0.497482  0.645519  0.791541  0.880161   \n",
       "1      0       0          0.100831  0.179003  0.285876  0.535876  0.709215   \n",
       "               1          0.215106  0.344411  0.482175  0.677946  0.804834   \n",
       "\n",
       "                                 5  \n",
       "action contact intention            \n",
       "0      0       0          0.779456  \n",
       "               1          0.820242  \n",
       "       1       0          0.856999  \n",
       "               1          0.942598  \n",
       "1      0       0          0.863293  \n",
       "               1          0.901511  "
      ]
     },
     "execution_count": 34,
     "metadata": {},
     "output_type": "execute_result"
    }
   ],
   "source": [
    "#observed cumulative probabilities\n",
    "\n",
    "p_obs = data.groupby([\"action\", \"contact\", \"intention\"]).response.value_counts(normalize=True, sort=False).unstack().cumsum(axis=1).iloc[:, :-1]\n",
    "p_obs.columns = range(6)\n",
    "p_obs"
   ]
  },
  {
   "cell_type": "code",
   "execution_count": 16,
   "id": "7f1c634a",
   "metadata": {},
   "outputs": [
    {
     "data": {
      "text/html": [
       "\n",
       "    <div>\n",
       "        <style>\n",
       "            /* Turns off some styling */\n",
       "            progress {\n",
       "                /* gets rid of default border in Firefox and Opera. */\n",
       "                border: none;\n",
       "                /* Needs to be in here for Safari polyfill so background images work as expected. */\n",
       "                background-size: auto;\n",
       "            }\n",
       "            .progress-bar-interrupted, .progress-bar-interrupted::-webkit-progress-bar {\n",
       "                background: #F44336;\n",
       "            }\n",
       "        </style>\n",
       "      <progress value='4000' class='' max='4000' style='width:300px; height:20px; vertical-align: middle;'></progress>\n",
       "      100.00% [4000/4000 00:04<00:00]\n",
       "    </div>\n",
       "    "
      ],
      "text/plain": [
       "<IPython.core.display.HTML object>"
      ]
     },
     "metadata": {},
     "output_type": "display_data"
    }
   ],
   "source": [
    "with m12_5:\n",
    "    pm.set_data(\n",
    "        {\n",
    "            \"A\": data.action.values,\n",
    "            \"C\": data.contact.values,\n",
    "            \"I\": data.intention.values,\n",
    "        })\n",
    "    pp_phi = pm.sample_posterior_predictive(trace_12_5, var_names=[\"phi\"], random_seed=8_927)[\"phi\"]"
   ]
  },
  {
   "cell_type": "code",
   "execution_count": 17,
   "id": "407dc73b",
   "metadata": {},
   "outputs": [],
   "source": [
    "def ord_logit_cum_probs(response, phi, a):\n",
    "    p = pd.DataFrame(index=range(len(data)), columns=response)\n",
    "    for case in p.index:\n",
    "        p.loc[case] = logistic(a - phi[case])\n",
    "    p = pd.concat([cases_df, p], axis=1).set_index([\"action\", \"contact\", \"intention\"]).sort_index()\n",
    "    p.index_name = \"case\"\n",
    "    p.columns.name = \"response\"\n",
    "    \n",
    "    return p"
   ]
  },
  {
   "cell_type": "code",
   "execution_count": 36,
   "id": "42a57d8d",
   "metadata": {},
   "outputs": [
    {
     "data": {
      "text/html": [
       "<div>\n",
       "<style scoped>\n",
       "    .dataframe tbody tr th:only-of-type {\n",
       "        vertical-align: middle;\n",
       "    }\n",
       "\n",
       "    .dataframe tbody tr th {\n",
       "        vertical-align: top;\n",
       "    }\n",
       "\n",
       "    .dataframe thead th {\n",
       "        text-align: right;\n",
       "    }\n",
       "</style>\n",
       "<table border=\"1\" class=\"dataframe\">\n",
       "  <thead>\n",
       "    <tr style=\"text-align: right;\">\n",
       "      <th></th>\n",
       "      <th></th>\n",
       "      <th></th>\n",
       "      <th>0</th>\n",
       "      <th>1</th>\n",
       "      <th>2</th>\n",
       "      <th>3</th>\n",
       "      <th>4</th>\n",
       "      <th>5</th>\n",
       "    </tr>\n",
       "    <tr>\n",
       "      <th>action</th>\n",
       "      <th>contact</th>\n",
       "      <th>intention</th>\n",
       "      <th></th>\n",
       "      <th></th>\n",
       "      <th></th>\n",
       "      <th></th>\n",
       "      <th></th>\n",
       "      <th></th>\n",
       "    </tr>\n",
       "  </thead>\n",
       "  <tbody>\n",
       "    <tr>\n",
       "      <th rowspan=\"4\" valign=\"top\">0</th>\n",
       "      <th rowspan=\"2\" valign=\"top\">0</th>\n",
       "      <th>0</th>\n",
       "      <td>0.050755</td>\n",
       "      <td>0.112991</td>\n",
       "      <td>0.187915</td>\n",
       "      <td>0.443505</td>\n",
       "      <td>0.596375</td>\n",
       "      <td>0.779456</td>\n",
       "    </tr>\n",
       "    <tr>\n",
       "      <th>1</th>\n",
       "      <td>0.070997</td>\n",
       "      <td>0.155589</td>\n",
       "      <td>0.251259</td>\n",
       "      <td>0.514602</td>\n",
       "      <td>0.652064</td>\n",
       "      <td>0.820242</td>\n",
       "    </tr>\n",
       "    <tr>\n",
       "      <th rowspan=\"2\" valign=\"top\">1</th>\n",
       "      <th>0</th>\n",
       "      <td>0.092649</td>\n",
       "      <td>0.150050</td>\n",
       "      <td>0.249748</td>\n",
       "      <td>0.497482</td>\n",
       "      <td>0.677744</td>\n",
       "      <td>0.856999</td>\n",
       "    </tr>\n",
       "    <tr>\n",
       "      <th>1</th>\n",
       "      <td>0.336354</td>\n",
       "      <td>0.497482</td>\n",
       "      <td>0.645519</td>\n",
       "      <td>0.791541</td>\n",
       "      <td>0.880161</td>\n",
       "      <td>0.942598</td>\n",
       "    </tr>\n",
       "    <tr>\n",
       "      <th rowspan=\"2\" valign=\"top\">1</th>\n",
       "      <th rowspan=\"2\" valign=\"top\">0</th>\n",
       "      <th>0</th>\n",
       "      <td>0.100831</td>\n",
       "      <td>0.179003</td>\n",
       "      <td>0.285876</td>\n",
       "      <td>0.535876</td>\n",
       "      <td>0.709215</td>\n",
       "      <td>0.863293</td>\n",
       "    </tr>\n",
       "    <tr>\n",
       "      <th>1</th>\n",
       "      <td>0.215106</td>\n",
       "      <td>0.344411</td>\n",
       "      <td>0.482175</td>\n",
       "      <td>0.677946</td>\n",
       "      <td>0.804834</td>\n",
       "      <td>0.901511</td>\n",
       "    </tr>\n",
       "  </tbody>\n",
       "</table>\n",
       "</div>"
      ],
      "text/plain": [
       "                                 0         1         2         3         4  \\\n",
       "action contact intention                                                     \n",
       "0      0       0          0.050755  0.112991  0.187915  0.443505  0.596375   \n",
       "               1          0.070997  0.155589  0.251259  0.514602  0.652064   \n",
       "       1       0          0.092649  0.150050  0.249748  0.497482  0.677744   \n",
       "               1          0.336354  0.497482  0.645519  0.791541  0.880161   \n",
       "1      0       0          0.100831  0.179003  0.285876  0.535876  0.709215   \n",
       "               1          0.215106  0.344411  0.482175  0.677946  0.804834   \n",
       "\n",
       "                                 5  \n",
       "action contact intention            \n",
       "0      0       0          0.779456  \n",
       "               1          0.820242  \n",
       "       1       0          0.856999  \n",
       "               1          0.942598  \n",
       "1      0       0          0.863293  \n",
       "               1          0.901511  "
      ]
     },
     "execution_count": 36,
     "metadata": {},
     "output_type": "execute_result"
    }
   ],
   "source": [
    "p_obs"
   ]
  },
  {
   "cell_type": "code",
   "execution_count": 38,
   "id": "f1480962",
   "metadata": {},
   "outputs": [
    {
     "name": "stdout",
     "output_type": "stream",
     "text": [
      "response                         0         1         2         3         4  \\\n",
      "action contact intention                                                     \n",
      "0.0    0.0     0.0        0.085526  0.159786  0.259265  0.489405  0.645466   \n",
      "               1.0        0.085526  0.159786  0.259265  0.489405  0.645466   \n",
      "       1.0     0.0        0.326677  0.496614  0.644851  0.832561  0.904257   \n",
      "               1.0        0.326677  0.496614  0.644851  0.832561  0.904257   \n",
      "1.0    0.0     0.0        0.085526  0.159786  0.259265  0.489405  0.645466   \n",
      "...                            ...       ...       ...       ...       ...   \n",
      "NaN    NaN     NaN        0.091195  0.169465  0.273011  0.507002  0.661405   \n",
      "               NaN        0.091195  0.169465  0.273011  0.507002  0.661405   \n",
      "               NaN        0.091195  0.169465  0.273011  0.507002  0.661405   \n",
      "               NaN        0.091195  0.169465  0.273011  0.507002  0.661405   \n",
      "               NaN        0.099514  0.183483  0.292577  0.531087  0.682668   \n",
      "\n",
      "response                         5  \n",
      "action contact intention            \n",
      "0.0    0.0     0.0        0.819549  \n",
      "               1.0        0.819549  \n",
      "       1.0     0.0        0.959284  \n",
      "               1.0        0.959284  \n",
      "1.0    0.0     0.0        0.819549  \n",
      "...                            ...  \n",
      "NaN    NaN     NaN        0.829726  \n",
      "               NaN        0.829726  \n",
      "               NaN        0.829726  \n",
      "               NaN        0.829726  \n",
      "               NaN        0.842929  \n",
      "\n",
      "[9930 rows x 6 columns]\n",
      "response                         0         1         2         3         4  \\\n",
      "action contact intention                                                     \n",
      "0.0    0.0     0.0         0.09574   0.17272  0.274443  0.520493  0.679392   \n",
      "               1.0         0.09574   0.17272  0.274443  0.520493  0.679392   \n",
      "       1.0     0.0        0.306697  0.465906  0.612465  0.819343  0.898518   \n",
      "               1.0        0.306697  0.465906  0.612465  0.819343  0.898518   \n",
      "1.0    0.0     0.0         0.09574   0.17272  0.274443  0.520493  0.679392   \n",
      "...                            ...       ...       ...       ...       ...   \n",
      "NaN    NaN     NaN         0.08245  0.150524  0.243015   0.47951  0.642667   \n",
      "               NaN         0.08245  0.150524  0.243015   0.47951  0.642667   \n",
      "               NaN         0.08245  0.150524  0.243015   0.47951  0.642667   \n",
      "               NaN         0.08245  0.150524  0.243015   0.47951  0.642667   \n",
      "               NaN        0.103781  0.185897  0.292636  0.542794  0.698583   \n",
      "\n",
      "response                         5  \n",
      "action contact intention            \n",
      "0.0    0.0     0.0        0.838442  \n",
      "               1.0        0.838442  \n",
      "       1.0     0.0        0.955916  \n",
      "               1.0        0.955916  \n",
      "1.0    0.0     0.0        0.838442  \n",
      "...                            ...  \n",
      "NaN    NaN     NaN        0.814974  \n",
      "               NaN        0.814974  \n",
      "               NaN        0.814974  \n",
      "               NaN        0.814974  \n",
      "               NaN        0.850211  \n",
      "\n",
      "[9930 rows x 6 columns]\n",
      "response                         0         1         2         3         4  \\\n",
      "action contact intention                                                     \n",
      "0.0    0.0     0.0        0.082679  0.155427  0.252105  0.490375  0.656468   \n",
      "               1.0        0.082679  0.155427  0.252105  0.490375  0.656468   \n",
      "       1.0     0.0        0.324207  0.494834  0.642119  0.836647  0.910486   \n",
      "               1.0        0.324207  0.494834  0.642119  0.836647  0.910486   \n",
      "1.0    0.0     0.0        0.082679  0.155427  0.252105  0.490375  0.656468   \n",
      "...                            ...       ...       ...       ...       ...   \n",
      "NaN    NaN     NaN        0.083168  0.156273  0.253319  0.491982  0.657917   \n",
      "               NaN        0.083168  0.156273  0.253319  0.491982  0.657917   \n",
      "               NaN        0.083168  0.156273  0.253319  0.491982  0.657917   \n",
      "               NaN        0.083168  0.156273  0.253319  0.491982  0.657917   \n",
      "               NaN        0.096629  0.179253  0.285736  0.533134  0.693988   \n",
      "\n",
      "response                         5  \n",
      "action contact intention            \n",
      "0.0    0.0     0.0        0.827215  \n",
      "               1.0        0.827215  \n",
      "       1.0     0.0         0.96224  \n",
      "               1.0         0.96224  \n",
      "1.0    0.0     0.0        0.827215  \n",
      "...                            ...  \n",
      "NaN    NaN     NaN        0.828132  \n",
      "               NaN        0.828132  \n",
      "               NaN        0.828132  \n",
      "               NaN        0.828132  \n",
      "               NaN        0.850337  \n",
      "\n",
      "[9930 rows x 6 columns]\n"
     ]
    }
   ],
   "source": [
    "for s in range(3):\n",
    "    p = ord_logit_cum_probs(response=range(6), phi=pp_phi[s], a=trace_12_5[\"cuts\"][s])\n",
    "    print(p)"
   ]
  },
  {
   "cell_type": "code",
   "execution_count": 35,
   "id": "c7dcc612",
   "metadata": {},
   "outputs": [
    {
     "name": "stderr",
     "output_type": "stream",
     "text": [
      "<ipython-input-35-f61f62c1badb>:8: PerformanceWarning: indexing past lexsort depth may impact performance.\n",
      "  axes[cur_ax].plot([0,1], p.loc[action, contact], lw=0.6, c=\"k\", alpha=0.1)\n"
     ]
    },
    {
     "ename": "KeyError",
     "evalue": "(slice(None, None, None), None)",
     "output_type": "error",
     "traceback": [
      "\u001b[0;31m---------------------------------------------------------------------------\u001b[0m",
      "\u001b[0;31mKeyError\u001b[0m                                  Traceback (most recent call last)",
      "\u001b[0;32m<ipython-input-35-f61f62c1badb>\u001b[0m in \u001b[0;36m<module>\u001b[0;34m\u001b[0m\n\u001b[1;32m      9\u001b[0m \u001b[0;34m\u001b[0m\u001b[0m\n\u001b[1;32m     10\u001b[0m         \u001b[0;32mif\u001b[0m \u001b[0ms\u001b[0m \u001b[0;34m==\u001b[0m \u001b[0;36m0\u001b[0m\u001b[0;34m:\u001b[0m\u001b[0;34m\u001b[0m\u001b[0;34m\u001b[0m\u001b[0m\n\u001b[0;32m---> 11\u001b[0;31m             \u001b[0maxes\u001b[0m\u001b[0;34m[\u001b[0m\u001b[0mcur_ax\u001b[0m\u001b[0;34m]\u001b[0m\u001b[0;34m.\u001b[0m\u001b[0mplot\u001b[0m\u001b[0;34m(\u001b[0m\u001b[0;34m[\u001b[0m\u001b[0;36m0\u001b[0m\u001b[0;34m,\u001b[0m \u001b[0;36m1\u001b[0m\u001b[0;34m]\u001b[0m\u001b[0;34m,\u001b[0m \u001b[0mp_obs\u001b[0m\u001b[0;34m.\u001b[0m\u001b[0mloc\u001b[0m\u001b[0;34m[\u001b[0m\u001b[0maction\u001b[0m\u001b[0;34m,\u001b[0m \u001b[0mcontact\u001b[0m\u001b[0;34m]\u001b[0m\u001b[0;34m,\u001b[0m \u001b[0;34m\"ob\"\u001b[0m\u001b[0;34m,\u001b[0m \u001b[0malpha\u001b[0m\u001b[0;34m=\u001b[0m\u001b[0;36m0.4\u001b[0m\u001b[0;34m)\u001b[0m\u001b[0;34m\u001b[0m\u001b[0;34m\u001b[0m\u001b[0m\n\u001b[0m\u001b[1;32m     12\u001b[0m             \u001b[0maxes\u001b[0m\u001b[0;34m[\u001b[0m\u001b[0mcur_ax\u001b[0m\u001b[0;34m]\u001b[0m\u001b[0;34m.\u001b[0m\u001b[0mset_xticks\u001b[0m\u001b[0;34m(\u001b[0m\u001b[0;34m[\u001b[0m\u001b[0;36m0\u001b[0m\u001b[0;34m,\u001b[0m \u001b[0;36m1\u001b[0m\u001b[0;34m]\u001b[0m\u001b[0;34m)\u001b[0m\u001b[0;34m\u001b[0m\u001b[0;34m\u001b[0m\u001b[0m\n\u001b[1;32m     13\u001b[0m             \u001b[0maxes\u001b[0m\u001b[0;34m[\u001b[0m\u001b[0mcur_ax\u001b[0m\u001b[0;34m]\u001b[0m\u001b[0;34m.\u001b[0m\u001b[0mset_xlabel\u001b[0m\u001b[0;34m(\u001b[0m\u001b[0;34m\"intention\"\u001b[0m\u001b[0;34m)\u001b[0m\u001b[0;34m\u001b[0m\u001b[0;34m\u001b[0m\u001b[0m\n",
      "\u001b[0;32m~/miniconda3/envs/pymc_env/lib/python3.8/site-packages/matplotlib/axes/_axes.py\u001b[0m in \u001b[0;36mplot\u001b[0;34m(self, scalex, scaley, data, *args, **kwargs)\u001b[0m\n\u001b[1;32m   1741\u001b[0m         \"\"\"\n\u001b[1;32m   1742\u001b[0m         \u001b[0mkwargs\u001b[0m \u001b[0;34m=\u001b[0m \u001b[0mcbook\u001b[0m\u001b[0;34m.\u001b[0m\u001b[0mnormalize_kwargs\u001b[0m\u001b[0;34m(\u001b[0m\u001b[0mkwargs\u001b[0m\u001b[0;34m,\u001b[0m \u001b[0mmlines\u001b[0m\u001b[0;34m.\u001b[0m\u001b[0mLine2D\u001b[0m\u001b[0;34m)\u001b[0m\u001b[0;34m\u001b[0m\u001b[0;34m\u001b[0m\u001b[0m\n\u001b[0;32m-> 1743\u001b[0;31m         \u001b[0mlines\u001b[0m \u001b[0;34m=\u001b[0m \u001b[0;34m[\u001b[0m\u001b[0;34m*\u001b[0m\u001b[0mself\u001b[0m\u001b[0;34m.\u001b[0m\u001b[0m_get_lines\u001b[0m\u001b[0;34m(\u001b[0m\u001b[0;34m*\u001b[0m\u001b[0margs\u001b[0m\u001b[0;34m,\u001b[0m \u001b[0mdata\u001b[0m\u001b[0;34m=\u001b[0m\u001b[0mdata\u001b[0m\u001b[0;34m,\u001b[0m \u001b[0;34m**\u001b[0m\u001b[0mkwargs\u001b[0m\u001b[0;34m)\u001b[0m\u001b[0;34m]\u001b[0m\u001b[0;34m\u001b[0m\u001b[0;34m\u001b[0m\u001b[0m\n\u001b[0m\u001b[1;32m   1744\u001b[0m         \u001b[0;32mfor\u001b[0m \u001b[0mline\u001b[0m \u001b[0;32min\u001b[0m \u001b[0mlines\u001b[0m\u001b[0;34m:\u001b[0m\u001b[0;34m\u001b[0m\u001b[0;34m\u001b[0m\u001b[0m\n\u001b[1;32m   1745\u001b[0m             \u001b[0mself\u001b[0m\u001b[0;34m.\u001b[0m\u001b[0madd_line\u001b[0m\u001b[0;34m(\u001b[0m\u001b[0mline\u001b[0m\u001b[0;34m)\u001b[0m\u001b[0;34m\u001b[0m\u001b[0;34m\u001b[0m\u001b[0m\n",
      "\u001b[0;32m~/miniconda3/envs/pymc_env/lib/python3.8/site-packages/matplotlib/axes/_base.py\u001b[0m in \u001b[0;36m__call__\u001b[0;34m(self, data, *args, **kwargs)\u001b[0m\n\u001b[1;32m    271\u001b[0m                 \u001b[0mthis\u001b[0m \u001b[0;34m+=\u001b[0m \u001b[0margs\u001b[0m\u001b[0;34m[\u001b[0m\u001b[0;36m0\u001b[0m\u001b[0;34m]\u001b[0m\u001b[0;34m,\u001b[0m\u001b[0;34m\u001b[0m\u001b[0;34m\u001b[0m\u001b[0m\n\u001b[1;32m    272\u001b[0m                 \u001b[0margs\u001b[0m \u001b[0;34m=\u001b[0m \u001b[0margs\u001b[0m\u001b[0;34m[\u001b[0m\u001b[0;36m1\u001b[0m\u001b[0;34m:\u001b[0m\u001b[0;34m]\u001b[0m\u001b[0;34m\u001b[0m\u001b[0;34m\u001b[0m\u001b[0m\n\u001b[0;32m--> 273\u001b[0;31m             \u001b[0;32myield\u001b[0m \u001b[0;32mfrom\u001b[0m \u001b[0mself\u001b[0m\u001b[0;34m.\u001b[0m\u001b[0m_plot_args\u001b[0m\u001b[0;34m(\u001b[0m\u001b[0mthis\u001b[0m\u001b[0;34m,\u001b[0m \u001b[0mkwargs\u001b[0m\u001b[0;34m)\u001b[0m\u001b[0;34m\u001b[0m\u001b[0;34m\u001b[0m\u001b[0m\n\u001b[0m\u001b[1;32m    274\u001b[0m \u001b[0;34m\u001b[0m\u001b[0m\n\u001b[1;32m    275\u001b[0m     \u001b[0;32mdef\u001b[0m \u001b[0mget_next_color\u001b[0m\u001b[0;34m(\u001b[0m\u001b[0mself\u001b[0m\u001b[0;34m)\u001b[0m\u001b[0;34m:\u001b[0m\u001b[0;34m\u001b[0m\u001b[0;34m\u001b[0m\u001b[0m\n",
      "\u001b[0;32m~/miniconda3/envs/pymc_env/lib/python3.8/site-packages/matplotlib/axes/_base.py\u001b[0m in \u001b[0;36m_plot_args\u001b[0;34m(self, tup, kwargs)\u001b[0m\n\u001b[1;32m    387\u001b[0m         \u001b[0;32mif\u001b[0m \u001b[0mlen\u001b[0m\u001b[0;34m(\u001b[0m\u001b[0mtup\u001b[0m\u001b[0;34m)\u001b[0m \u001b[0;34m==\u001b[0m \u001b[0;36m2\u001b[0m\u001b[0;34m:\u001b[0m\u001b[0;34m\u001b[0m\u001b[0;34m\u001b[0m\u001b[0m\n\u001b[1;32m    388\u001b[0m             \u001b[0mx\u001b[0m \u001b[0;34m=\u001b[0m \u001b[0m_check_1d\u001b[0m\u001b[0;34m(\u001b[0m\u001b[0mtup\u001b[0m\u001b[0;34m[\u001b[0m\u001b[0;36m0\u001b[0m\u001b[0;34m]\u001b[0m\u001b[0;34m)\u001b[0m\u001b[0;34m\u001b[0m\u001b[0;34m\u001b[0m\u001b[0m\n\u001b[0;32m--> 389\u001b[0;31m             \u001b[0my\u001b[0m \u001b[0;34m=\u001b[0m \u001b[0m_check_1d\u001b[0m\u001b[0;34m(\u001b[0m\u001b[0mtup\u001b[0m\u001b[0;34m[\u001b[0m\u001b[0;34m-\u001b[0m\u001b[0;36m1\u001b[0m\u001b[0;34m]\u001b[0m\u001b[0;34m)\u001b[0m\u001b[0;34m\u001b[0m\u001b[0;34m\u001b[0m\u001b[0m\n\u001b[0m\u001b[1;32m    390\u001b[0m         \u001b[0;32melse\u001b[0m\u001b[0;34m:\u001b[0m\u001b[0;34m\u001b[0m\u001b[0;34m\u001b[0m\u001b[0m\n\u001b[1;32m    391\u001b[0m             \u001b[0mx\u001b[0m\u001b[0;34m,\u001b[0m \u001b[0my\u001b[0m \u001b[0;34m=\u001b[0m \u001b[0mindex_of\u001b[0m\u001b[0;34m(\u001b[0m\u001b[0mtup\u001b[0m\u001b[0;34m[\u001b[0m\u001b[0;34m-\u001b[0m\u001b[0;36m1\u001b[0m\u001b[0;34m]\u001b[0m\u001b[0;34m)\u001b[0m\u001b[0;34m\u001b[0m\u001b[0;34m\u001b[0m\u001b[0m\n",
      "\u001b[0;32m~/miniconda3/envs/pymc_env/lib/python3.8/site-packages/matplotlib/cbook/__init__.py\u001b[0m in \u001b[0;36m_check_1d\u001b[0;34m(x)\u001b[0m\n\u001b[1;32m   1316\u001b[0m                     message='Support for multi-dimensional indexing')\n\u001b[1;32m   1317\u001b[0m \u001b[0;34m\u001b[0m\u001b[0m\n\u001b[0;32m-> 1318\u001b[0;31m                 \u001b[0mndim\u001b[0m \u001b[0;34m=\u001b[0m \u001b[0mx\u001b[0m\u001b[0;34m[\u001b[0m\u001b[0;34m:\u001b[0m\u001b[0;34m,\u001b[0m \u001b[0;32mNone\u001b[0m\u001b[0;34m]\u001b[0m\u001b[0;34m.\u001b[0m\u001b[0mndim\u001b[0m\u001b[0;34m\u001b[0m\u001b[0;34m\u001b[0m\u001b[0m\n\u001b[0m\u001b[1;32m   1319\u001b[0m                 \u001b[0;31m# we have definitely hit a pandas index or series object\u001b[0m\u001b[0;34m\u001b[0m\u001b[0;34m\u001b[0m\u001b[0;34m\u001b[0m\u001b[0m\n\u001b[1;32m   1320\u001b[0m                 \u001b[0;31m# cast to a numpy array.\u001b[0m\u001b[0;34m\u001b[0m\u001b[0;34m\u001b[0m\u001b[0;34m\u001b[0m\u001b[0m\n",
      "\u001b[0;32m~/miniconda3/envs/pymc_env/lib/python3.8/site-packages/pandas/core/frame.py\u001b[0m in \u001b[0;36m__getitem__\u001b[0;34m(self, key)\u001b[0m\n\u001b[1;32m   3022\u001b[0m             \u001b[0;32mif\u001b[0m \u001b[0mself\u001b[0m\u001b[0;34m.\u001b[0m\u001b[0mcolumns\u001b[0m\u001b[0;34m.\u001b[0m\u001b[0mnlevels\u001b[0m \u001b[0;34m>\u001b[0m \u001b[0;36m1\u001b[0m\u001b[0;34m:\u001b[0m\u001b[0;34m\u001b[0m\u001b[0;34m\u001b[0m\u001b[0m\n\u001b[1;32m   3023\u001b[0m                 \u001b[0;32mreturn\u001b[0m \u001b[0mself\u001b[0m\u001b[0;34m.\u001b[0m\u001b[0m_getitem_multilevel\u001b[0m\u001b[0;34m(\u001b[0m\u001b[0mkey\u001b[0m\u001b[0;34m)\u001b[0m\u001b[0;34m\u001b[0m\u001b[0;34m\u001b[0m\u001b[0m\n\u001b[0;32m-> 3024\u001b[0;31m             \u001b[0mindexer\u001b[0m \u001b[0;34m=\u001b[0m \u001b[0mself\u001b[0m\u001b[0;34m.\u001b[0m\u001b[0mcolumns\u001b[0m\u001b[0;34m.\u001b[0m\u001b[0mget_loc\u001b[0m\u001b[0;34m(\u001b[0m\u001b[0mkey\u001b[0m\u001b[0;34m)\u001b[0m\u001b[0;34m\u001b[0m\u001b[0;34m\u001b[0m\u001b[0m\n\u001b[0m\u001b[1;32m   3025\u001b[0m             \u001b[0;32mif\u001b[0m \u001b[0mis_integer\u001b[0m\u001b[0;34m(\u001b[0m\u001b[0mindexer\u001b[0m\u001b[0;34m)\u001b[0m\u001b[0;34m:\u001b[0m\u001b[0;34m\u001b[0m\u001b[0;34m\u001b[0m\u001b[0m\n\u001b[1;32m   3026\u001b[0m                 \u001b[0mindexer\u001b[0m \u001b[0;34m=\u001b[0m \u001b[0;34m[\u001b[0m\u001b[0mindexer\u001b[0m\u001b[0;34m]\u001b[0m\u001b[0;34m\u001b[0m\u001b[0;34m\u001b[0m\u001b[0m\n",
      "\u001b[0;32m~/miniconda3/envs/pymc_env/lib/python3.8/site-packages/pandas/core/indexes/range.py\u001b[0m in \u001b[0;36mget_loc\u001b[0;34m(self, key, method, tolerance)\u001b[0m\n\u001b[1;32m    352\u001b[0m                 \u001b[0;32mexcept\u001b[0m \u001b[0mValueError\u001b[0m \u001b[0;32mas\u001b[0m \u001b[0merr\u001b[0m\u001b[0;34m:\u001b[0m\u001b[0;34m\u001b[0m\u001b[0;34m\u001b[0m\u001b[0m\n\u001b[1;32m    353\u001b[0m                     \u001b[0;32mraise\u001b[0m \u001b[0mKeyError\u001b[0m\u001b[0;34m(\u001b[0m\u001b[0mkey\u001b[0m\u001b[0;34m)\u001b[0m \u001b[0;32mfrom\u001b[0m \u001b[0merr\u001b[0m\u001b[0;34m\u001b[0m\u001b[0;34m\u001b[0m\u001b[0m\n\u001b[0;32m--> 354\u001b[0;31m             \u001b[0;32mraise\u001b[0m \u001b[0mKeyError\u001b[0m\u001b[0;34m(\u001b[0m\u001b[0mkey\u001b[0m\u001b[0;34m)\u001b[0m\u001b[0;34m\u001b[0m\u001b[0;34m\u001b[0m\u001b[0m\n\u001b[0m\u001b[1;32m    355\u001b[0m         \u001b[0;32mreturn\u001b[0m \u001b[0msuper\u001b[0m\u001b[0;34m(\u001b[0m\u001b[0;34m)\u001b[0m\u001b[0;34m.\u001b[0m\u001b[0mget_loc\u001b[0m\u001b[0;34m(\u001b[0m\u001b[0mkey\u001b[0m\u001b[0;34m,\u001b[0m \u001b[0mmethod\u001b[0m\u001b[0;34m=\u001b[0m\u001b[0mmethod\u001b[0m\u001b[0;34m,\u001b[0m \u001b[0mtolerance\u001b[0m\u001b[0;34m=\u001b[0m\u001b[0mtolerance\u001b[0m\u001b[0;34m)\u001b[0m\u001b[0;34m\u001b[0m\u001b[0;34m\u001b[0m\u001b[0m\n\u001b[1;32m    356\u001b[0m \u001b[0;34m\u001b[0m\u001b[0m\n",
      "\u001b[0;31mKeyError\u001b[0m: (slice(None, None, None), None)"
     ]
    },
    {
     "data": {
      "image/png": "[encoded data removed]",
      "text/plain": [
       "<Figure size 864x360 with 3 Axes>"
      ]
     },
     "metadata": {
      "needs_background": "light"
     },
     "output_type": "display_data"
    }
   ],
   "source": [
    "_, axes = plt.subplots(1, 3, figsize=(12, 5))\n",
    "\n",
    "for s in range(50):\n",
    "    p = ord_logit_cum_probs(response=range(6), phi=pp_phi[s], a=trace_12_5[\"cuts\"][s])\n",
    "    \n",
    "    cur_ax = 0\n",
    "    for (action, contact), _ in p.groupby(level=[\"action\", \"contact\"]):\n",
    "        axes[cur_ax].plot([0,1], p.loc[action, contact], lw=0.6, c=\"k\", alpha=0.1)\n",
    "        \n",
    "        if s == 0:\n",
    "            axes[cur_ax].plot([0, 1], p_obs.loc[action, contact], \"ob\", alpha=0.4)\n",
    "            axes[cur_ax].set_xticks([0, 1])\n",
    "            axes[cur_ax].set_xlabel(\"intention\")\n",
    "            axes[cur_ax].set_ylabel(\"probablity\")\n",
    "            axes[cur_ax].set_ylim([0, 1])\n",
    "            axes[cur_ax].set_title(f\"action={action}, contact={contact}\")\n",
    "        cur_ax += 1\n",
    "plt.tight_layout()"
   ]
  },
  {
   "cell_type": "code",
   "execution_count": null,
   "id": "19a25db7",
   "metadata": {},
   "outputs": [],
   "source": []
  },
  {
   "cell_type": "code",
   "execution_count": null,
   "id": "4f84384c",
   "metadata": {},
   "outputs": [],
   "source": []
  },
  {
   "cell_type": "code",
   "execution_count": null,
   "id": "a45de34f",
   "metadata": {},
   "outputs": [],
   "source": []
  },
  {
   "cell_type": "code",
   "execution_count": null,
   "id": "da023484",
   "metadata": {},
   "outputs": [],
   "source": []
  },
  {
   "cell_type": "code",
   "execution_count": null,
   "id": "b8741350",
   "metadata": {},
   "outputs": [],
   "source": []
  }
 ],
 "metadata": {
  "kernelspec": {
   "display_name": "Python 3",
   "language": "python",
   "name": "python3"
  },
  "language_info": {
   "codemirror_mode": {
    "name": "ipython",
    "version": 3
   },
   "file_extension": ".py",
   "mimetype": "text/x-python",
   "name": "python",
   "nbconvert_exporter": "python",
   "pygments_lexer": "ipython3",
   "version": "3.8.8"
  }
 },
 "nbformat": 4,
 "nbformat_minor": 5
}
