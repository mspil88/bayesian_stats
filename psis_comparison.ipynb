{
 "cells": [
  {
   "cell_type": "markdown",
   "id": "eafcc956",
   "metadata": {},
   "source": [
    "# Model Comparison with Pareto Smoothed Importance Sampling CV"
   ]
  },
  {
   "cell_type": "code",
   "execution_count": 1,
   "id": "dbc5788c",
   "metadata": {},
   "outputs": [],
   "source": [
    "import pymc3 as pm\n",
    "import numpy as np\n",
    "import pandas as pd\n",
    "from scipy import stats\n",
    "import matplotlib.pyplot as plt\n",
    "import seaborn as sns\n",
    "import os\n",
    "from theano import shared\n",
    "import arviz as az"
   ]
  },
  {
   "cell_type": "markdown",
   "id": "25d57dab",
   "metadata": {},
   "source": [
    "### What is PSIS CV?\n",
    "#### PSIS uses importance sampling (i.e. importance weights) and a smoothing technique to make the importance weights more reliable. \n",
    "\n",
    "#### Cross validation estimates the out of sample log pointwise predictive density (lppd). If you have N obs and fit the model N times, dropping a single observation $y_{i}$ each time (i.e. leave one out) then the out of sample lppd is the sum of the average accuracy for each omitted $y_{i}$:\n",
    "\n",
    "$$lppd_{cv} = \\sum_{i=1}^{N}1/S\\sum_{s=1}^{S}logPr(y_{i}\\theta_{-i,s})$$\n",
    "\n",
    "#### Where $s$ indexes samples from a Markov chain and $\\theta_{-i,s})$ is the s-th sample from the posterior computed for obs omitting $y_{i}$. \n",
    "\n",
    "#### importance sampling replaces the computation of N posterior distributions by using an estimate of the importance of each i to the posterior distribution. We draw a samples from the full posterior distribution $p(\\theta|y)$, but we want samples from the reduced leave-one-out posterior distribution $p(\\theta|y_{i})$, then we need to re-weight each sample s by the inverse of the probability of the omitted observation:\n",
    "\n",
    "$$r(\\theta_{s}) = 1/(p(y_{i}|\\theta_{s})$$\n",
    "\n",
    "#### The weight is normalised inside the following calc:\n",
    "\n",
    "$$lppd_{is} = \\sum_{i=1}^{N}log\\sum_{i=1}^{S}r(\\theta_{s})p(y_{i}|\\theta_{s})/\\sum_{i=1}^{S}r(\\theta_{i})$$\n",
    "\n",
    "#### Pareto Smoothing enters in as $r(\\theta_{s})$ can be unreliable particular if any $r(\\theta_{s})$ is too large relatively speaking and thus ruins the lppd estimate. PSIS exploits the fact that the distribution of weights should have a particular Pareto Distribution shape under some regular conditions:\n",
    "\n",
    "$$p(r|\\mu, \\sigma,\\kappa) = \\sigma^{-1}(1+\\kappa(r-\\mu)\\sigma^{-1})^{-1/\\kappa - 1}$$"
   ]
  },
  {
   "cell_type": "code",
   "execution_count": 5,
   "id": "8ba5a2cb",
   "metadata": {},
   "outputs": [],
   "source": [
    "def data_proc():\n",
    "    \n",
    "    def standardise(x):\n",
    "        return (x-x.mean())/x.std()\n",
    "    \n",
    "    data = pd.read_csv(os.path.join(os.getcwd(),r'data/waffle_divorce.csv'), delimiter=\";\")\n",
    "    data['A'] = standardise(data['MedianAgeMarriage'])\n",
    "    data['M'] = standardise(data['Marriage'])\n",
    "    data['D'] = standardise(data['Divorce'])\n",
    "    \n",
    "    return data"
   ]
  },
  {
   "cell_type": "code",
   "execution_count": 6,
   "id": "86e2de99",
   "metadata": {},
   "outputs": [],
   "source": [
    "data = data_proc()"
   ]
  },
  {
   "cell_type": "code",
   "execution_count": 9,
   "id": "0dd8e038",
   "metadata": {},
   "outputs": [
    {
     "name": "stderr",
     "output_type": "stream",
     "text": [
      "Auto-assigning NUTS sampler...\n",
      "Initializing NUTS using jitter+adapt_diag...\n",
      "Multiprocess sampling (4 chains in 4 jobs)\n",
      "NUTS: [sigma, bA, a]\n"
     ]
    },
    {
     "data": {
      "text/html": [
       "\n",
       "    <div>\n",
       "        <style>\n",
       "            /* Turns off some styling */\n",
       "            progress {\n",
       "                /* gets rid of default border in Firefox and Opera. */\n",
       "                border: none;\n",
       "                /* Needs to be in here for Safari polyfill so background images work as expected. */\n",
       "                background-size: auto;\n",
       "            }\n",
       "            .progress-bar-interrupted, .progress-bar-interrupted::-webkit-progress-bar {\n",
       "                background: #F44336;\n",
       "            }\n",
       "        </style>\n",
       "      <progress value='8000' class='' max='8000' style='width:300px; height:20px; vertical-align: middle;'></progress>\n",
       "      100.00% [8000/8000 00:03<00:00 Sampling 4 chains, 0 divergences]\n",
       "    </div>\n",
       "    "
      ],
      "text/plain": [
       "<IPython.core.display.HTML object>"
      ]
     },
     "metadata": {},
     "output_type": "display_data"
    },
    {
     "name": "stderr",
     "output_type": "stream",
     "text": [
      "Sampling 4 chains for 1_000 tune and 1_000 draw iterations (4_000 + 4_000 draws total) took 5 seconds.\n"
     ]
    }
   ],
   "source": [
    "with pm.Model() as m_5_1:\n",
    "    a = pm.Normal(\"a\", 0, 0.2)\n",
    "    bA = pm.Normal(\"bA\", 0, 0.5)\n",
    "    \n",
    "    mu = a + bA*data.A\n",
    "    sigma = pm.Exponential(\"sigma\", 1)\n",
    "    \n",
    "    D = pm.Normal(\"D\", mu, sigma, observed=data.D)\n",
    "    \n",
    "    m_5_1_trace = pm.sample(return_inferencedata=True)"
   ]
  },
  {
   "cell_type": "code",
   "execution_count": 11,
   "id": "42324c78",
   "metadata": {},
   "outputs": [
    {
     "name": "stderr",
     "output_type": "stream",
     "text": [
      "Auto-assigning NUTS sampler...\n",
      "Initializing NUTS using jitter+adapt_diag...\n",
      "Multiprocess sampling (4 chains in 4 jobs)\n",
      "NUTS: [sigma, bM, a]\n"
     ]
    },
    {
     "data": {
      "text/html": [
       "\n",
       "    <div>\n",
       "        <style>\n",
       "            /* Turns off some styling */\n",
       "            progress {\n",
       "                /* gets rid of default border in Firefox and Opera. */\n",
       "                border: none;\n",
       "                /* Needs to be in here for Safari polyfill so background images work as expected. */\n",
       "                background-size: auto;\n",
       "            }\n",
       "            .progress-bar-interrupted, .progress-bar-interrupted::-webkit-progress-bar {\n",
       "                background: #F44336;\n",
       "            }\n",
       "        </style>\n",
       "      <progress value='8000' class='' max='8000' style='width:300px; height:20px; vertical-align: middle;'></progress>\n",
       "      100.00% [8000/8000 00:03<00:00 Sampling 4 chains, 0 divergences]\n",
       "    </div>\n",
       "    "
      ],
      "text/plain": [
       "<IPython.core.display.HTML object>"
      ]
     },
     "metadata": {},
     "output_type": "display_data"
    },
    {
     "name": "stderr",
     "output_type": "stream",
     "text": [
      "Sampling 4 chains for 1_000 tune and 1_000 draw iterations (4_000 + 4_000 draws total) took 4 seconds.\n"
     ]
    }
   ],
   "source": [
    "with pm.Model() as m_5_2:\n",
    "    a = pm.Normal(\"a\", 0, 0.2)\n",
    "    bM = pm.Normal(\"bM\", 0, 0.5)\n",
    "    \n",
    "    mu = a + bM*data.M\n",
    "    sigma = pm.Exponential(\"sigma\", 1)\n",
    "    \n",
    "    D = pm.Normal(\"D\", mu, sigma, observed=data.D)\n",
    "    \n",
    "    m_5_2_trace = pm.sample(return_inferencedata=True)"
   ]
  },
  {
   "cell_type": "code",
   "execution_count": 13,
   "id": "20e19b2e",
   "metadata": {},
   "outputs": [
    {
     "name": "stderr",
     "output_type": "stream",
     "text": [
      "Auto-assigning NUTS sampler...\n",
      "Initializing NUTS using jitter+adapt_diag...\n",
      "Multiprocess sampling (4 chains in 4 jobs)\n",
      "NUTS: [sigma, bM, bA, a]\n"
     ]
    },
    {
     "data": {
      "text/html": [
       "\n",
       "    <div>\n",
       "        <style>\n",
       "            /* Turns off some styling */\n",
       "            progress {\n",
       "                /* gets rid of default border in Firefox and Opera. */\n",
       "                border: none;\n",
       "                /* Needs to be in here for Safari polyfill so background images work as expected. */\n",
       "                background-size: auto;\n",
       "            }\n",
       "            .progress-bar-interrupted, .progress-bar-interrupted::-webkit-progress-bar {\n",
       "                background: #F44336;\n",
       "            }\n",
       "        </style>\n",
       "      <progress value='8000' class='' max='8000' style='width:300px; height:20px; vertical-align: middle;'></progress>\n",
       "      100.00% [8000/8000 00:03<00:00 Sampling 4 chains, 0 divergences]\n",
       "    </div>\n",
       "    "
      ],
      "text/plain": [
       "<IPython.core.display.HTML object>"
      ]
     },
     "metadata": {},
     "output_type": "display_data"
    },
    {
     "name": "stderr",
     "output_type": "stream",
     "text": [
      "Sampling 4 chains for 1_000 tune and 1_000 draw iterations (4_000 + 4_000 draws total) took 4 seconds.\n"
     ]
    }
   ],
   "source": [
    "with pm.Model() as m_5_3:\n",
    "    a = pm.Normal(\"a\", 0, 0.2)\n",
    "    bA = pm.Normal(\"bA\", 0, 0.5)\n",
    "    bM = pm.Normal(\"bM\", 0, 0.5)\n",
    "    \n",
    "    mu = a + bA*data.A + bM*data.M \n",
    "    sigma = pm.Exponential(\"sigma\", 1)\n",
    "    \n",
    "    D = pm.Normal(\"D\", mu, sigma, observed=data.D)\n",
    "    \n",
    "    m_5_3_trace = pm.sample(return_inferencedata=True, tune=1_000)"
   ]
  },
  {
   "cell_type": "code",
   "execution_count": 23,
   "id": "cef98999",
   "metadata": {},
   "outputs": [
    {
     "name": "stdout",
     "output_type": "stream",
     "text": [
      "        mean     sd  hdi_3%  hdi_97%  mcse_mean  mcse_sd  ess_bulk  ess_tail  \\\n",
      "a      0.000  0.102  -0.185    0.193      0.001    0.002    5117.0    3002.0   \n",
      "bA    -0.566  0.116  -0.782   -0.347      0.002    0.001    5206.0    2900.0   \n",
      "sigma  0.824  0.087   0.673    0.991      0.001    0.001    4744.0    2610.0   \n",
      "\n",
      "       r_hat  \n",
      "a        1.0  \n",
      "bA       1.0  \n",
      "sigma    1.0  \n",
      "\n",
      "\n",
      "        mean     sd  hdi_3%  hdi_97%  mcse_mean  mcse_sd  ess_bulk  ess_tail  \\\n",
      "a     -0.000  0.115  -0.199    0.231      0.002    0.002    4368.0    2836.0   \n",
      "bM     0.345  0.128   0.122    0.591      0.002    0.001    5136.0    3081.0   \n",
      "sigma  0.949  0.095   0.786    1.139      0.001    0.001    5113.0    3105.0   \n",
      "\n",
      "       r_hat  \n",
      "a        1.0  \n",
      "bM       1.0  \n",
      "sigma    1.0  \n",
      "\n",
      "\n",
      "        mean     sd  hdi_3%  hdi_97%  mcse_mean  mcse_sd  ess_bulk  ess_tail  \\\n",
      "a     -0.002  0.100  -0.180    0.190      0.002    0.002    2968.0    2285.0   \n",
      "bA    -0.612  0.159  -0.910   -0.313      0.003    0.002    2287.0    2070.0   \n",
      "bM    -0.064  0.160  -0.367    0.239      0.003    0.003    2281.0    2094.0   \n",
      "sigma  0.823  0.088   0.673    0.997      0.002    0.001    2579.0    1731.0   \n",
      "\n",
      "       r_hat  \n",
      "a        1.0  \n",
      "bA       1.0  \n",
      "bM       1.0  \n",
      "sigma    1.0  \n",
      "\n",
      "\n"
     ]
    }
   ],
   "source": [
    "for i in [m_5_1_trace, m_5_2_trace, m_5_3_trace]:\n",
    "    print(pm.summary(i))\n",
    "    print(\"\\n\")"
   ]
  },
  {
   "cell_type": "code",
   "execution_count": 24,
   "id": "68b6734e",
   "metadata": {},
   "outputs": [
    {
     "name": "stderr",
     "output_type": "stream",
     "text": [
      "/home/mspil/miniconda3/envs/pymc_env/lib/python3.8/site-packages/arviz/stats/stats.py:145: UserWarning: The default method used to estimate the weights for each model,has changed from BB-pseudo-BMA to stacking\n",
      "  warnings.warn(\n",
      "/home/mspil/miniconda3/envs/pymc_env/lib/python3.8/site-packages/arviz/stats/stats.py:655: UserWarning: Estimated shape parameter of Pareto distribution is greater than 0.7 for one or more samples. You should consider using a more robust model, this is because importance sampling is less likely to work well if the marginal posterior and LOO posterior are very different. This is more likely to happen with a non-robust model and highly influential observations.\n",
      "  warnings.warn(\n",
      "/home/mspil/miniconda3/envs/pymc_env/lib/python3.8/site-packages/arviz/stats/stats.py:655: UserWarning: Estimated shape parameter of Pareto distribution is greater than 0.7 for one or more samples. You should consider using a more robust model, this is because importance sampling is less likely to work well if the marginal posterior and LOO posterior are very different. This is more likely to happen with a non-robust model and highly influential observations.\n",
      "  warnings.warn(\n"
     ]
    },
    {
     "data": {
      "text/html": [
       "<div>\n",
       "<style scoped>\n",
       "    .dataframe tbody tr th:only-of-type {\n",
       "        vertical-align: middle;\n",
       "    }\n",
       "\n",
       "    .dataframe tbody tr th {\n",
       "        vertical-align: top;\n",
       "    }\n",
       "\n",
       "    .dataframe thead th {\n",
       "        text-align: right;\n",
       "    }\n",
       "</style>\n",
       "<table border=\"1\" class=\"dataframe\">\n",
       "  <thead>\n",
       "    <tr style=\"text-align: right;\">\n",
       "      <th></th>\n",
       "      <th>rank</th>\n",
       "      <th>loo</th>\n",
       "      <th>p_loo</th>\n",
       "      <th>d_loo</th>\n",
       "      <th>weight</th>\n",
       "      <th>se</th>\n",
       "      <th>dse</th>\n",
       "      <th>warning</th>\n",
       "      <th>loo_scale</th>\n",
       "    </tr>\n",
       "  </thead>\n",
       "  <tbody>\n",
       "    <tr>\n",
       "      <th>m_5_1</th>\n",
       "      <td>0</td>\n",
       "      <td>126.249371</td>\n",
       "      <td>3.892044</td>\n",
       "      <td>0.000000</td>\n",
       "      <td>0.88998</td>\n",
       "      <td>12.909642</td>\n",
       "      <td>0.000000</td>\n",
       "      <td>True</td>\n",
       "      <td>deviance</td>\n",
       "    </tr>\n",
       "    <tr>\n",
       "      <th>m_5_3</th>\n",
       "      <td>1</td>\n",
       "      <td>128.048360</td>\n",
       "      <td>5.003556</td>\n",
       "      <td>1.798989</td>\n",
       "      <td>0.00000</td>\n",
       "      <td>13.132776</td>\n",
       "      <td>0.807311</td>\n",
       "      <td>True</td>\n",
       "      <td>deviance</td>\n",
       "    </tr>\n",
       "    <tr>\n",
       "      <th>m_5_2</th>\n",
       "      <td>2</td>\n",
       "      <td>139.177323</td>\n",
       "      <td>2.877189</td>\n",
       "      <td>12.927953</td>\n",
       "      <td>0.11002</td>\n",
       "      <td>9.767951</td>\n",
       "      <td>9.446769</td>\n",
       "      <td>False</td>\n",
       "      <td>deviance</td>\n",
       "    </tr>\n",
       "  </tbody>\n",
       "</table>\n",
       "</div>"
      ],
      "text/plain": [
       "       rank         loo     p_loo      d_loo   weight         se       dse  \\\n",
       "m_5_1     0  126.249371  3.892044   0.000000  0.88998  12.909642  0.000000   \n",
       "m_5_3     1  128.048360  5.003556   1.798989  0.00000  13.132776  0.807311   \n",
       "m_5_2     2  139.177323  2.877189  12.927953  0.11002   9.767951  9.446769   \n",
       "\n",
       "       warning loo_scale  \n",
       "m_5_1     True  deviance  \n",
       "m_5_3     True  deviance  \n",
       "m_5_2    False  deviance  "
      ]
     },
     "execution_count": 24,
     "metadata": {},
     "output_type": "execute_result"
    }
   ],
   "source": [
    "az.compare({\"m_5_1\": m_5_1_trace, \"m_5_2\": m_5_2_trace, \"m_5_3\": m_5_3_trace}, scale=\"deviance\")"
   ]
  },
  {
   "cell_type": "markdown",
   "id": "c2afe37b",
   "metadata": {},
   "source": [
    "#### Comment, there are small differences in deviance between the models (see DSE). More interestingly we receive an error related to the shape param of the Pareto distribution (governed by K in the above equation). This suggests that there are highly influential observations impacting the out of sample predictive accuracy. "
   ]
  },
  {
   "cell_type": "code",
   "execution_count": 26,
   "id": "f1704bea",
   "metadata": {},
   "outputs": [],
   "source": [
    "def plotter(model_trace):\n",
    "    psis = az.loo(model_trace, pointwise=True, scale=\"deviance\")\n",
    "    waic = az.waic(model_trace, pointwise=True, scale=\"deviance\")\n",
    "    \n",
    "    plt.scatter(psis.pareto_k, waic.waic_i)\n",
    "    plt.xlabel(\"PSIS Pareto k\")\n",
    "    plt.ylabel(\"WAIC\")\n",
    "    plt.show()"
   ]
  },
  {
   "cell_type": "markdown",
   "id": "f2c9cc16",
   "metadata": {},
   "source": [
    "#### Plotting the pareto k and WAIC penalty term we can see a clear outlier, this point corresponds to the state of Idaho which has a very low divorce rate for its age at marriage. It is highly influential and therefore exerts more influence on the posterior distribution than the other states."
   ]
  },
  {
   "cell_type": "code",
   "execution_count": 27,
   "id": "7fd9fdc8",
   "metadata": {},
   "outputs": [
    {
     "name": "stderr",
     "output_type": "stream",
     "text": [
      "/home/mspil/miniconda3/envs/pymc_env/lib/python3.8/site-packages/arviz/stats/stats.py:655: UserWarning: Estimated shape parameter of Pareto distribution is greater than 0.7 for one or more samples. You should consider using a more robust model, this is because importance sampling is less likely to work well if the marginal posterior and LOO posterior are very different. This is more likely to happen with a non-robust model and highly influential observations.\n",
      "  warnings.warn(\n",
      "/home/mspil/miniconda3/envs/pymc_env/lib/python3.8/site-packages/arviz/stats/stats.py:1405: UserWarning: For one or more samples the posterior variance of the log predictive densities exceeds 0.4. This could be indication of WAIC starting to fail. \n",
      "See http://arxiv.org/abs/1507.04544 for details\n",
      "  warnings.warn(\n"
     ]
    },
    {
     "data": {
      "image/png": "[encoded data removed]",
      "text/plain": [
       "<Figure size 432x288 with 1 Axes>"
      ]
     },
     "metadata": {
      "needs_background": "light"
     },
     "output_type": "display_data"
    }
   ],
   "source": [
    "plotter(m_5_3_trace)"
   ]
  },
  {
   "cell_type": "markdown",
   "id": "51c515d9",
   "metadata": {},
   "source": [
    "#### What to do? Note that a Gaussian error distribution is going to be easily surprised with very thin tails, meaning that very little probability mass is given to observations far from the mean. Let's instead consider a student T distribution which assigns more probability to extreme events."
   ]
  },
  {
   "cell_type": "code",
   "execution_count": 32,
   "id": "7d6840e9",
   "metadata": {},
   "outputs": [
    {
     "name": "stderr",
     "output_type": "stream",
     "text": [
      "No handles with labels found to put in legend.\n"
     ]
    },
    {
     "data": {
      "text/plain": [
       "<matplotlib.legend.Legend at 0x7f847e6b1e80>"
      ]
     },
     "execution_count": 32,
     "metadata": {},
     "output_type": "execute_result"
    },
    {
     "data": {
      "image/png": "[encoded data removed]",
      "text/plain": [
       "<Figure size 576x288 with 2 Axes>"
      ]
     },
     "metadata": {
      "needs_background": "light"
     },
     "output_type": "display_data"
    }
   ],
   "source": [
    "x = np.linspace(-4, 4, 100)\n",
    "gaussian = stats.norm(0, 1)\n",
    "student_t = stats.t(df=2, loc=0, scale=1)\n",
    "\n",
    "fig, (ax1, ax2) = plt.subplots(1, 2, figsize=[8, 4])\n",
    "ax1.plot(x, gaussian.pdf(x), color=\"r\", label=\"gaussian\")\n",
    "ax1.plot(x, student_t.pdf(x), color=\"g\", label=\"student T\")\n",
    "\n",
    "\n",
    "ax2.plot(x, -gaussian.logpdf(x), color=\"r\", label=\"gaussian\")\n",
    "ax2.plot(x, -student_t.logpdf(x), color=\"g\", label=\"student T\")\n",
    "plt.legend()\n"
   ]
  },
  {
   "cell_type": "markdown",
   "id": "4e45acf8",
   "metadata": {},
   "source": [
    "#### Using the student's T distribution we can deploy a robust regression. The thickness of the tails is controlled by the additional shape parameter $v$. As $v$ approaches 1 the tails get a lot thicker however as $v \\rightarrow \\infty$ the T distribution converges to a Gaussian."
   ]
  },
  {
   "cell_type": "code",
   "execution_count": 36,
   "id": "a6b906e4",
   "metadata": {},
   "outputs": [
    {
     "name": "stderr",
     "output_type": "stream",
     "text": [
      "Auto-assigning NUTS sampler...\n",
      "Initializing NUTS using jitter+adapt_diag...\n",
      "Multiprocess sampling (4 chains in 4 jobs)\n",
      "NUTS: [sigma, bM, bA, a]\n"
     ]
    },
    {
     "data": {
      "text/html": [
       "\n",
       "    <div>\n",
       "        <style>\n",
       "            /* Turns off some styling */\n",
       "            progress {\n",
       "                /* gets rid of default border in Firefox and Opera. */\n",
       "                border: none;\n",
       "                /* Needs to be in here for Safari polyfill so background images work as expected. */\n",
       "                background-size: auto;\n",
       "            }\n",
       "            .progress-bar-interrupted, .progress-bar-interrupted::-webkit-progress-bar {\n",
       "                background: #F44336;\n",
       "            }\n",
       "        </style>\n",
       "      <progress value='8000' class='' max='8000' style='width:300px; height:20px; vertical-align: middle;'></progress>\n",
       "      100.00% [8000/8000 00:04<00:00 Sampling 4 chains, 0 divergences]\n",
       "    </div>\n",
       "    "
      ],
      "text/plain": [
       "<IPython.core.display.HTML object>"
      ]
     },
     "metadata": {},
     "output_type": "display_data"
    },
    {
     "name": "stderr",
     "output_type": "stream",
     "text": [
      "Sampling 4 chains for 1_000 tune and 1_000 draw iterations (4_000 + 4_000 draws total) took 5 seconds.\n"
     ]
    }
   ],
   "source": [
    "with pm.Model() as m_5_3t:\n",
    "    a = pm.Normal(\"a\", 0, 0.2)\n",
    "    bA = pm.Normal(\"bA\", 0, 0.5)\n",
    "    bM = pm.Normal(\"bM\", 0, 0.5)\n",
    "    \n",
    "    mu = a + bA*data.A + bM*data.M \n",
    "    sigma = pm.Exponential(\"sigma\", 1)\n",
    "    \n",
    "    D = pm.StudentT(\"D\", 2, mu, sigma, observed=data.D)\n",
    "    \n",
    "    m_5_3t_trace = pm.sample(return_inferencedata=True)"
   ]
  },
  {
   "cell_type": "markdown",
   "id": "e3ad9b66",
   "metadata": {},
   "source": [
    "#### Note there are no warnings now and the relative influence of Idaho has been reduced. The coefficient for bA is a lot stronger now since Idaho has a low divorce rate and low median age at marriage. When it was influential it reduced the association between age at marriage and divorce, now it is less influential so the association is estimated to be larger."
   ]
  },
  {
   "cell_type": "code",
   "execution_count": 37,
   "id": "1dff0bc4",
   "metadata": {},
   "outputs": [
    {
     "data": {
      "text/html": [
       "<div>\n",
       "<style scoped>\n",
       "    .dataframe tbody tr th:only-of-type {\n",
       "        vertical-align: middle;\n",
       "    }\n",
       "\n",
       "    .dataframe tbody tr th {\n",
       "        vertical-align: top;\n",
       "    }\n",
       "\n",
       "    .dataframe thead th {\n",
       "        text-align: right;\n",
       "    }\n",
       "</style>\n",
       "<table border=\"1\" class=\"dataframe\">\n",
       "  <thead>\n",
       "    <tr style=\"text-align: right;\">\n",
       "      <th></th>\n",
       "      <th>mean</th>\n",
       "      <th>sd</th>\n",
       "      <th>hdi_3%</th>\n",
       "      <th>hdi_97%</th>\n",
       "      <th>mcse_mean</th>\n",
       "      <th>mcse_sd</th>\n",
       "      <th>ess_bulk</th>\n",
       "      <th>ess_tail</th>\n",
       "      <th>r_hat</th>\n",
       "    </tr>\n",
       "  </thead>\n",
       "  <tbody>\n",
       "    <tr>\n",
       "      <th>a</th>\n",
       "      <td>0.023</td>\n",
       "      <td>0.103</td>\n",
       "      <td>-0.158</td>\n",
       "      <td>0.231</td>\n",
       "      <td>0.002</td>\n",
       "      <td>0.002</td>\n",
       "      <td>2997.0</td>\n",
       "      <td>2571.0</td>\n",
       "      <td>1.0</td>\n",
       "    </tr>\n",
       "    <tr>\n",
       "      <th>bA</th>\n",
       "      <td>-0.690</td>\n",
       "      <td>0.152</td>\n",
       "      <td>-0.988</td>\n",
       "      <td>-0.419</td>\n",
       "      <td>0.003</td>\n",
       "      <td>0.002</td>\n",
       "      <td>3209.0</td>\n",
       "      <td>2733.0</td>\n",
       "      <td>1.0</td>\n",
       "    </tr>\n",
       "    <tr>\n",
       "      <th>bM</th>\n",
       "      <td>0.048</td>\n",
       "      <td>0.207</td>\n",
       "      <td>-0.314</td>\n",
       "      <td>0.448</td>\n",
       "      <td>0.004</td>\n",
       "      <td>0.003</td>\n",
       "      <td>3266.0</td>\n",
       "      <td>2673.0</td>\n",
       "      <td>1.0</td>\n",
       "    </tr>\n",
       "    <tr>\n",
       "      <th>sigma</th>\n",
       "      <td>2.753</td>\n",
       "      <td>0.772</td>\n",
       "      <td>1.377</td>\n",
       "      <td>4.165</td>\n",
       "      <td>0.012</td>\n",
       "      <td>0.009</td>\n",
       "      <td>3891.0</td>\n",
       "      <td>2802.0</td>\n",
       "      <td>1.0</td>\n",
       "    </tr>\n",
       "  </tbody>\n",
       "</table>\n",
       "</div>"
      ],
      "text/plain": [
       "        mean     sd  hdi_3%  hdi_97%  mcse_mean  mcse_sd  ess_bulk  ess_tail  \\\n",
       "a      0.023  0.103  -0.158    0.231      0.002    0.002    2997.0    2571.0   \n",
       "bA    -0.690  0.152  -0.988   -0.419      0.003    0.002    3209.0    2733.0   \n",
       "bM     0.048  0.207  -0.314    0.448      0.004    0.003    3266.0    2673.0   \n",
       "sigma  2.753  0.772   1.377    4.165      0.012    0.009    3891.0    2802.0   \n",
       "\n",
       "       r_hat  \n",
       "a        1.0  \n",
       "bA       1.0  \n",
       "bM       1.0  \n",
       "sigma    1.0  "
      ]
     },
     "execution_count": 37,
     "metadata": {},
     "output_type": "execute_result"
    }
   ],
   "source": [
    "pm.summary(m_5_3t_trace)"
   ]
  },
  {
   "cell_type": "code",
   "execution_count": 34,
   "id": "a06580f9",
   "metadata": {},
   "outputs": [
    {
     "data": {
      "text/plain": [
       "Computed from 4000 by 50 log-likelihood matrix\n",
       "\n",
       "             Estimate       SE\n",
       "deviance_loo   132.26    10.63\n",
       "p_loo            5.32        -\n",
       "------\n",
       "\n",
       "Pareto k diagnostic values:\n",
       "                         Count   Pct.\n",
       "(-Inf, 0.5]   (good)       50  100.0%\n",
       " (0.5, 0.7]   (ok)          0    0.0%\n",
       "   (0.7, 1]   (bad)         0    0.0%\n",
       "   (1, Inf)   (very bad)    0    0.0%"
      ]
     },
     "execution_count": 34,
     "metadata": {},
     "output_type": "execute_result"
    }
   ],
   "source": [
    "az.loo(m_5_3t_trace, pointwise=True, scale=\"deviance\")"
   ]
  },
  {
   "cell_type": "code",
   "execution_count": 35,
   "id": "f615c287",
   "metadata": {},
   "outputs": [
    {
     "data": {
      "text/plain": [
       "array([<AxesSubplot:title={'center':'94.0% HDI'}>], dtype=object)"
      ]
     },
     "execution_count": 35,
     "metadata": {},
     "output_type": "execute_result"
    },
    {
     "data": {
      "image/png": "[encoded data removed]",
      "text/plain": [
       "<Figure size 432x288 with 1 Axes>"
      ]
     },
     "metadata": {
      "needs_background": "light"
     },
     "output_type": "display_data"
    }
   ],
   "source": [
    "az.plot_forest([m_5_3_trace, m_5_3t_trace], model_names=[\"m_5_3\", \"m_5_3t\"], figsize=[6,4])"
   ]
  },
  {
   "cell_type": "code",
   "execution_count": null,
   "id": "18294985",
   "metadata": {},
   "outputs": [],
   "source": []
  },
  {
   "cell_type": "code",
   "execution_count": null,
   "id": "dc1d092a",
   "metadata": {},
   "outputs": [],
   "source": []
  },
  {
   "cell_type": "code",
   "execution_count": null,
   "id": "0af3581e",
   "metadata": {},
   "outputs": [],
   "source": []
  },
  {
   "cell_type": "code",
   "execution_count": null,
   "id": "6e301ff8",
   "metadata": {},
   "outputs": [],
   "source": []
  },
  {
   "cell_type": "code",
   "execution_count": null,
   "id": "cb372e4d",
   "metadata": {},
   "outputs": [],
   "source": []
  },
  {
   "cell_type": "code",
   "execution_count": null,
   "id": "b547bcee",
   "metadata": {},
   "outputs": [],
   "source": []
  }
 ],
 "metadata": {
  "kernelspec": {
   "display_name": "Python 3",
   "language": "python",
   "name": "python3"
  },
  "language_info": {
   "codemirror_mode": {
    "name": "ipython",
    "version": 3
   },
   "file_extension": ".py",
   "mimetype": "text/x-python",
   "name": "python",
   "nbconvert_exporter": "python",
   "pygments_lexer": "ipython3",
   "version": "3.8.8"
  }
 },
 "nbformat": 4,
 "nbformat_minor": 5
}
