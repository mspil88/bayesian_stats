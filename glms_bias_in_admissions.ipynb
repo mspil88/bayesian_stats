{
 "cells": [
  {
   "cell_type": "markdown",
   "id": "6a534d3e",
   "metadata": {},
   "source": [
    "# GLMS: Bias in admissions"
   ]
  },
  {
   "cell_type": "code",
   "execution_count": 1,
   "id": "e3c6a723",
   "metadata": {},
   "outputs": [],
   "source": [
    "import pymc3 as pm\n",
    "import numpy as np\n",
    "import pandas as pd\n",
    "from scipy import stats\n",
    "import matplotlib.pyplot as plt\n",
    "import seaborn as sns\n",
    "import os\n",
    "from IPython.display import display\n",
    "from PIL import Image\n",
    "from theano import shared\n",
    "import arviz as az\n",
    "from scipy.special import expit as logistic"
   ]
  },
  {
   "cell_type": "code",
   "execution_count": 2,
   "id": "89a0fe44",
   "metadata": {},
   "outputs": [],
   "source": [
    "def data_proc():\n",
    "    \n",
    "    def standardise(x):\n",
    "        return (x-x.mean())/x.std()\n",
    "    \n",
    "    data = pd.read_csv(os.path.join(os.getcwd(),r'data/UCBadmit.csv'), delimiter=\";\")\n",
    "    \n",
    "    return data"
   ]
  },
  {
   "cell_type": "markdown",
   "id": "d9d79196",
   "metadata": {},
   "source": [
    "#### On the surface this is a tiny dataset with 12 obs.  These are graduate school applications to 6 different academic departments at UC Berkeley.168 The admit column indicates the number offered admission. The reject column indicates the opposite decision. The applications column is just the sum of admit and reject. Each application has a 0 or 1 outcome for admission, but since these outcomes have been aggregated by department and gender, there are only 12 rows. These 12 rows however represent 4526 applications, the sum of the applications column. So there is a lot of data here—counting the rows in the data table is no longer a sensible way to assess sample size. We could split these data apart into 0/1 Bernoulli trials, like in the original chimpanzees data. Then there would be 4526 rows in the data.\n"
   ]
  },
  {
   "cell_type": "markdown",
   "id": "4204b4fc",
   "metadata": {},
   "source": [
    "#### Objective: evaluate whether these data contain evidence of gender bias in admissions. We will model the admission decisions, focusing on applicant gender as a predictor variable. So we want to fit a binomial regression that models admit as a function of each applicant’s gender. This will estimate the association between gender and probability of admission"
   ]
  },
  {
   "cell_type": "markdown",
   "id": "aa09670e",
   "metadata": {},
   "source": [
    "$$ A_{i} \\sim Binomial(N_{i}, p_{i})$$\n",
    "$$logit(p_{i}) = \\alpha_{GID[i]}$$\n",
    "$$\\alpha_{i} \\sim Normal(0, 1.5)$$"
   ]
  },
  {
   "cell_type": "markdown",
   "id": "04c5bd12",
   "metadata": {},
   "source": [
    "#### $N_{i}$ indicates applications $i$, the number of applications on the $ith$ row. The index variable $GID[i]$ indexes the gender of an applicant. "
   ]
  },
  {
   "cell_type": "code",
   "execution_count": 3,
   "id": "99e7f191",
   "metadata": {},
   "outputs": [],
   "source": [
    "data = data_proc()"
   ]
  },
  {
   "cell_type": "code",
   "execution_count": 4,
   "id": "57ba918d",
   "metadata": {},
   "outputs": [
    {
     "data": {
      "text/html": [
       "<div>\n",
       "<style scoped>\n",
       "    .dataframe tbody tr th:only-of-type {\n",
       "        vertical-align: middle;\n",
       "    }\n",
       "\n",
       "    .dataframe tbody tr th {\n",
       "        vertical-align: top;\n",
       "    }\n",
       "\n",
       "    .dataframe thead th {\n",
       "        text-align: right;\n",
       "    }\n",
       "</style>\n",
       "<table border=\"1\" class=\"dataframe\">\n",
       "  <thead>\n",
       "    <tr style=\"text-align: right;\">\n",
       "      <th></th>\n",
       "      <th>dept</th>\n",
       "      <th>applicant.gender</th>\n",
       "      <th>admit</th>\n",
       "      <th>reject</th>\n",
       "      <th>applications</th>\n",
       "    </tr>\n",
       "  </thead>\n",
       "  <tbody>\n",
       "    <tr>\n",
       "      <th>1</th>\n",
       "      <td>A</td>\n",
       "      <td>male</td>\n",
       "      <td>512</td>\n",
       "      <td>313</td>\n",
       "      <td>825</td>\n",
       "    </tr>\n",
       "    <tr>\n",
       "      <th>2</th>\n",
       "      <td>A</td>\n",
       "      <td>female</td>\n",
       "      <td>89</td>\n",
       "      <td>19</td>\n",
       "      <td>108</td>\n",
       "    </tr>\n",
       "    <tr>\n",
       "      <th>3</th>\n",
       "      <td>B</td>\n",
       "      <td>male</td>\n",
       "      <td>353</td>\n",
       "      <td>207</td>\n",
       "      <td>560</td>\n",
       "    </tr>\n",
       "    <tr>\n",
       "      <th>4</th>\n",
       "      <td>B</td>\n",
       "      <td>female</td>\n",
       "      <td>17</td>\n",
       "      <td>8</td>\n",
       "      <td>25</td>\n",
       "    </tr>\n",
       "    <tr>\n",
       "      <th>5</th>\n",
       "      <td>C</td>\n",
       "      <td>male</td>\n",
       "      <td>120</td>\n",
       "      <td>205</td>\n",
       "      <td>325</td>\n",
       "    </tr>\n",
       "    <tr>\n",
       "      <th>6</th>\n",
       "      <td>C</td>\n",
       "      <td>female</td>\n",
       "      <td>202</td>\n",
       "      <td>391</td>\n",
       "      <td>593</td>\n",
       "    </tr>\n",
       "    <tr>\n",
       "      <th>7</th>\n",
       "      <td>D</td>\n",
       "      <td>male</td>\n",
       "      <td>138</td>\n",
       "      <td>279</td>\n",
       "      <td>417</td>\n",
       "    </tr>\n",
       "    <tr>\n",
       "      <th>8</th>\n",
       "      <td>D</td>\n",
       "      <td>female</td>\n",
       "      <td>131</td>\n",
       "      <td>244</td>\n",
       "      <td>375</td>\n",
       "    </tr>\n",
       "    <tr>\n",
       "      <th>9</th>\n",
       "      <td>E</td>\n",
       "      <td>male</td>\n",
       "      <td>53</td>\n",
       "      <td>138</td>\n",
       "      <td>191</td>\n",
       "    </tr>\n",
       "    <tr>\n",
       "      <th>10</th>\n",
       "      <td>E</td>\n",
       "      <td>female</td>\n",
       "      <td>94</td>\n",
       "      <td>299</td>\n",
       "      <td>393</td>\n",
       "    </tr>\n",
       "    <tr>\n",
       "      <th>11</th>\n",
       "      <td>F</td>\n",
       "      <td>male</td>\n",
       "      <td>22</td>\n",
       "      <td>351</td>\n",
       "      <td>373</td>\n",
       "    </tr>\n",
       "    <tr>\n",
       "      <th>12</th>\n",
       "      <td>F</td>\n",
       "      <td>female</td>\n",
       "      <td>24</td>\n",
       "      <td>317</td>\n",
       "      <td>341</td>\n",
       "    </tr>\n",
       "  </tbody>\n",
       "</table>\n",
       "</div>"
      ],
      "text/plain": [
       "   dept applicant.gender  admit  reject  applications\n",
       "1     A             male    512     313           825\n",
       "2     A           female     89      19           108\n",
       "3     B             male    353     207           560\n",
       "4     B           female     17       8            25\n",
       "5     C             male    120     205           325\n",
       "6     C           female    202     391           593\n",
       "7     D             male    138     279           417\n",
       "8     D           female    131     244           375\n",
       "9     E             male     53     138           191\n",
       "10    E           female     94     299           393\n",
       "11    F             male     22     351           373\n",
       "12    F           female     24     317           341"
      ]
     },
     "execution_count": 4,
     "metadata": {},
     "output_type": "execute_result"
    }
   ],
   "source": [
    "data"
   ]
  },
  {
   "cell_type": "code",
   "execution_count": 5,
   "id": "163ce995",
   "metadata": {},
   "outputs": [],
   "source": [
    "gid = (data[\"applicant.gender\"]==\"female\").astype(int).values"
   ]
  },
  {
   "cell_type": "code",
   "execution_count": null,
   "id": "202b21ac",
   "metadata": {},
   "outputs": [],
   "source": [
    "with pm.Model() as m11_7:\n",
    "    a = pm.Normal(\"a\", 0, 1.5, shape=2)\n",
    "    p = pm.Deterministic(\"p\", pm.math.invlogit(a[gid]))\n",
    "    \n",
    "    admit = pm.Binomial(\"admit\", p=p, n=data.applications, observed=data.admit)\n",
    "    \n",
    "    trace_11_7 = pm.sample(random_seed = 8_927)"
   ]
  },
  {
   "cell_type": "code",
   "execution_count": null,
   "id": "9490a858",
   "metadata": {},
   "outputs": [],
   "source": [
    "pm.summary(trace_11_7, var_names=[\"a\"])"
   ]
  },
  {
   "cell_type": "markdown",
   "id": "55a18a64",
   "metadata": {},
   "source": [
    "#### The posterior mean is higher for males than females, how much higher? We need to compute the contrast."
   ]
  },
  {
   "cell_type": "code",
   "execution_count": null,
   "id": "e134ab0d",
   "metadata": {},
   "outputs": [],
   "source": [
    "diff_a = trace_11_7[\"a\"][:, 0] - trace_11_7[\"a\"][:, 1]\n",
    "diff_p = logistic(trace_11_7[\"a\"][:, 0] - trace_11_7[\"a\"][:, 1])\n",
    "\n",
    "az.summary({\"diff_a\": diff_a, \"diff_p\": diff_p}, kind=\"stats\")"
   ]
  },
  {
   "cell_type": "markdown",
   "id": "5751a368",
   "metadata": {},
   "source": [
    "#### The log-odds difference is certainly positive, corresponding to a higher probability of admis\u0002sion for male applicants. On the probability scale itself, the difference is somewhere between 12% and 16%."
   ]
  },
  {
   "cell_type": "markdown",
   "id": "76213b2d",
   "metadata": {},
   "source": [
    "### Posterior predictions"
   ]
  },
  {
   "cell_type": "code",
   "execution_count": null,
   "id": "c9a5b4e4",
   "metadata": {},
   "outputs": [],
   "source": [
    "with m11_7:\n",
    "    ppc = pm.sample_posterior_predictive(trace_11_7, random_seed=8_927, var_names=[\"admit\"])[\"admit\"]"
   ]
  },
  {
   "cell_type": "code",
   "execution_count": null,
   "id": "30ae89d0",
   "metadata": {},
   "outputs": [],
   "source": [
    "pp_admit = ppc/ data.applications.values[None, :]"
   ]
  },
  {
   "cell_type": "code",
   "execution_count": null,
   "id": "a4ca70e5",
   "metadata": {},
   "outputs": [],
   "source": [
    "for i in range(6):\n",
    "    x = 1 + 2 * i\n",
    "    \n",
    "    y1 = data.admit[x] / data.applications[x]\n",
    "    y2 = data.admit[x + 1] / data.applications[x + 1]\n",
    "    \n",
    "    plt.plot([x, x+1], [y1, y2], \"-C0o\", alpha=0.6, lw=2)\n",
    "    plt.text(x + 0.25, (y1 + y2)/2+0.05, data.dept[x])\n",
    "\n",
    "plt.plot(range(1, 13), trace_11_7[\"p\"].mean(0), \"ko\", fillstyle=\"none\", ms=6, alpha=0.6)\n",
    "plt.plot([range(1, 13), range(1, 13)], az.hdi(trace_11_7[\"p\"]).T, \"k-\", lw=1, alpha=0.6)\n",
    "plt.plot([range(1, 13), range(1, 13)], az.hdi(pp_admit).T, \"k+\", ms=6, alpha=0.6)\n",
    "\n",
    "plt.xlabel(\"case\")\n",
    "plt.ylabel(\"admit\")\n",
    "plt.title(\"Posterior validation check\")\n",
    "plt.ylim(0, 1);"
   ]
  },
  {
   "cell_type": "markdown",
   "id": "22539004",
   "metadata": {},
   "source": [
    "#### There are only two departments in which females had a lower rate of admission than males (C and E), and yet the model says that females should expect to have a 14% lower chance of admission.\n",
    "\n",
    "#### The model did correctly answer the question we asked of it: What are the average probabilities of admission for females and males, across all departments? The problem in this case is that males and females do not apply to the same departments, and departments vary in their rates of admission. This makes the answer misleading. You can see the steady decline in admission probability for both males and females from department A to department F. Females in these data tended not to apply to departments like A and B, which had high overall admission rates. Instead they applied in large numbers to departments like F, which admitted less than 10% of applicants. So while it is true overall that females had a lower probability of admission in these data, it is clearly not true within most departments. And note that just inspecting the posterior distribution alone would never have revealed that fact to us. We had to appeal to something outside the fit model. In this case, it was a simple posterior validation check.\n"
   ]
  },
  {
   "cell_type": "markdown",
   "id": "fde9c024",
   "metadata": {},
   "source": [
    "#### Instead of asking “What are the average probabilities of admission for females and males across all departments?” we want to ask “What is the average difference in probability of admission between females and males within departments?” In order to ask the second question, we estimate unique female and male admission rates in each department."
   ]
  },
  {
   "cell_type": "markdown",
   "id": "d84efe83",
   "metadata": {},
   "source": [
    "#### The model now is:\n",
    "$$A_{i} \\sim Binomial(N_{i}, p_{i})$$\n",
    "$$logit(p_{i}) = \\alpha_{GID[i]} + \\delta_{DEPT[i]}$$\n",
    "$$\\alpha_{j} \\sim Normal(0, 1.5)$$\n",
    "$$\\delta_{k} \\sim Normal(0, 1.5)$$"
   ]
  },
  {
   "cell_type": "markdown",
   "id": "6dd0f9f2",
   "metadata": {},
   "source": [
    "#### Where dept indexes department in $k = 1,...,6$, so each dept now gets its own log-odds of admission $\\delta_{k}$ but the model still estimates universal adjustments (the same in all departments) for male and female applications."
   ]
  },
  {
   "cell_type": "code",
   "execution_count": null,
   "id": "93ce46f4",
   "metadata": {},
   "outputs": [],
   "source": [
    "dept_id = pd.Categorical(data[\"dept\"]).codes\n",
    "\n",
    "with pm.Model() as m11_8:\n",
    "    a = pm.Normal(\"a\", 0, 1.5, shape=2)\n",
    "    delta = pm.Normal(\"delta\", 0, 1.5, shape=6)\n",
    "    \n",
    "    p = pm.math.invlogit(a[gid] + delta[dept_id])\n",
    "    \n",
    "    admit = pm.Binomial(\"admit\", p=p, n=data.applications, observed=data.admit)\n",
    "    \n",
    "    trace_11_8 = pm.sample(2_000, random_seed = 8_927)\n",
    "\n",
    "az.summary(trace_11_8)"
   ]
  },
  {
   "cell_type": "markdown",
   "id": "e11217cc",
   "metadata": {},
   "source": [
    "#### The intercept for male applicants a[0] is now a little smaller on average than the one for female applicants. Let's derive the relative and absolute contrasts."
   ]
  },
  {
   "cell_type": "code",
   "execution_count": null,
   "id": "ee700af9",
   "metadata": {},
   "outputs": [],
   "source": [
    "diff_a = trace_11_8[\"a\"][:, 0] - trace_11_8[\"a\"][:, 1]\n",
    "diff_p = logistic(trace_11_8[\"a\"][:, 0]) - logistic(trace_11_8[\"a\"][:, 1])\n",
    "az.summary({\"diff_a\": diff_a, \"diff_p\": diff_p})"
   ]
  },
  {
   "cell_type": "markdown",
   "id": "624ff077",
   "metadata": {},
   "source": [
    "#### If male applicants have it worse, it is only by a very small amount, about 2% on average. Why did adding departments to the model change the inference about gender so much? The earlier figure gives you a hint—the rates of admission vary a lot across departments. Furthermore, females and males tend to apply to different departments."
   ]
  },
  {
   "cell_type": "code",
   "execution_count": null,
   "id": "5c4464a7",
   "metadata": {},
   "outputs": [],
   "source": [
    "data"
   ]
  },
  {
   "cell_type": "code",
   "execution_count": null,
   "id": "3ec1a5ec",
   "metadata": {},
   "outputs": [],
   "source": [
    "depts = [\"A\", \"B\", \"C\", \"D\", \"E\", \"F\"]"
   ]
  },
  {
   "cell_type": "code",
   "execution_count": null,
   "id": "ad13e04d",
   "metadata": {},
   "outputs": [],
   "source": [
    "print(\"     Male\", \"        Female\")\n",
    "for i in depts:\n",
    "    print(i,(data.loc[data.dept==i, \"applications\"]/np.sum(data.loc[data.dept==i, \"applications\"])).values)"
   ]
  },
  {
   "cell_type": "markdown",
   "id": "e25f2f7f",
   "metadata": {},
   "source": [
    "#### These are the proportions of all applications in each department that are either male (top row) or female (bottom row). Department A receives 88% of its applications from males. Department E receives 33% from males. Now look back at the delta posterior means in the output from m11.8. The departments with a larger proportion of female applicantsare also those with lower overall admissions rates."
   ]
  },
  {
   "cell_type": "markdown",
   "id": "ffa999fe",
   "metadata": {},
   "source": [
    "#### Department is probably a confound, in the sense that it misleads us about the direct causal effect. But it is not a confound, in the sense that it is probably a genuine causal path through gender influences admission. Gender influences choice of department, and department influences chance of admission. Controlling for department reveals a more plausible direct causal influence of gender."
   ]
  },
  {
   "cell_type": "code",
   "execution_count": null,
   "id": "7887cf64",
   "metadata": {},
   "outputs": [],
   "source": [
    "display(Image.open(os.path.join(os.getcwd(),r'data/admissions_dag_1.png')))"
   ]
  },
  {
   "cell_type": "markdown",
   "id": "b22d7805",
   "metadata": {},
   "source": [
    "#### Where D is department, G is gender and A is acceptance. There is an indirect causal path G ---> D ---> A, so to infer the direct effect G ---> A we need to condition on D and close the indirect path, this is achieved in model m11_8.\n",
    "\n",
    "#### What if there are unobserved confounds influencing both dept and admissions?"
   ]
  },
  {
   "cell_type": "code",
   "execution_count": null,
   "id": "e6a0db51",
   "metadata": {},
   "outputs": [],
   "source": [
    "display(Image.open(os.path.join(os.getcwd(),r'data/admissions_dag_2.png')))"
   ]
  },
  {
   "cell_type": "markdown",
   "id": "73d2247f",
   "metadata": {},
   "source": [
    "#### U could be academic ability which influences the choice of dept and probability of admission, in which case conditioning on dept is conditioning on a collider and it opens up a non-causal path between gender and admissions. G ---> D <--- U ----> A."
   ]
  },
  {
   "cell_type": "code",
   "execution_count": null,
   "id": "9c51ab81",
   "metadata": {},
   "outputs": [],
   "source": []
  },
  {
   "cell_type": "code",
   "execution_count": null,
   "id": "dac56bbb",
   "metadata": {},
   "outputs": [],
   "source": []
  },
  {
   "cell_type": "code",
   "execution_count": null,
   "id": "1fb00a5e",
   "metadata": {},
   "outputs": [],
   "source": []
  },
  {
   "cell_type": "code",
   "execution_count": null,
   "id": "0defd60a",
   "metadata": {},
   "outputs": [],
   "source": []
  }
 ],
 "metadata": {
  "kernelspec": {
   "display_name": "Python 3",
   "language": "python",
   "name": "python3"
  },
  "language_info": {
   "codemirror_mode": {
    "name": "ipython",
    "version": 3
   },
   "file_extension": ".py",
   "mimetype": "text/x-python",
   "name": "python",
   "nbconvert_exporter": "python",
   "pygments_lexer": "ipython3",
   "version": "3.8.8"
  }
 },
 "nbformat": 4,
 "nbformat_minor": 5
}
