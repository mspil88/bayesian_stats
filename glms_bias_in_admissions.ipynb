{
 "cells": [
  {
   "cell_type": "markdown",
   "id": "f9814494",
   "metadata": {},
   "source": [
    "# GLMS: Bias in admissions"
   ]
  },
  {
   "cell_type": "code",
   "execution_count": 1,
   "id": "dcfabbce",
   "metadata": {},
   "outputs": [],
   "source": [
    "import pymc3 as pm\n",
    "import numpy as np\n",
    "import pandas as pd\n",
    "from scipy import stats\n",
    "import matplotlib.pyplot as plt\n",
    "import seaborn as sns\n",
    "import os\n",
    "from IPython.display import display\n",
    "from PIL import Image\n",
    "from theano import shared\n",
    "import arviz as az\n",
    "from scipy.special import expit as logistic"
   ]
  },
  {
   "cell_type": "code",
   "execution_count": 2,
   "id": "c847862d",
   "metadata": {},
   "outputs": [],
   "source": [
    "def data_proc():\n",
    "    \n",
    "    def standardise(x):\n",
    "        return (x-x.mean())/x.std()\n",
    "    \n",
    "    data = pd.read_csv(os.path.join(os.getcwd(),r'data/UCBadmit.csv'), delimiter=\";\")\n",
    "    \n",
    "    return data"
   ]
  },
  {
   "cell_type": "markdown",
   "id": "fc5bafa6",
   "metadata": {},
   "source": [
    "#### On the surface this is a tiny dataset with 12 obs.  These are graduate school applications to 6 different academic departments at UC Berkeley.168 The admit column indicates the number offered admission. The reject column indicates the opposite decision. The applications column is just the sum of admit and reject. Each application has a 0 or 1 outcome for admission, but since these outcomes have been aggregated by department and gender, there are only 12 rows. These 12 rows however represent 4526 applications, the sum of the applications column. So there is a lot of data here—counting the rows in the data table is no longer a sensible way to assess sample size. We could split these data apart into 0/1 Bernoulli trials, like in the original chimpanzees data. Then there would be 4526 rows in the data.\n"
   ]
  },
  {
   "cell_type": "markdown",
   "id": "27084615",
   "metadata": {},
   "source": [
    "#### Objective: evaluate whether these data contain evidence of gender bias in admissions. We will model the admission decisions, focusing on applicant gender as a predictor variable. So we want to fit a binomial regression that models admit as a function of each applicant’s gender. This will estimate the association between gender and probability of admission"
   ]
  },
  {
   "cell_type": "markdown",
   "id": "16ac3485",
   "metadata": {},
   "source": [
    "$$ A_{i} \\sim Binomial(N_{i}, p_{i})$$\n",
    "$$logit(p_{i}) = \\alpha_{GID[i]}$$\n",
    "$$\\alpha_{i} \\sim Normal(0, 1.5)$$"
   ]
  },
  {
   "cell_type": "markdown",
   "id": "942602ad",
   "metadata": {},
   "source": [
    "#### $N_{i}$ indicates applications $i$, the number of applications on the $ith$ row. The index variable $GID[i]$ indexes the gender of an applicant. "
   ]
  },
  {
   "cell_type": "code",
   "execution_count": 3,
   "id": "8120bed5",
   "metadata": {},
   "outputs": [],
   "source": [
    "data = data_proc()"
   ]
  },
  {
   "cell_type": "code",
   "execution_count": 4,
   "id": "4b544b47",
   "metadata": {},
   "outputs": [
    {
     "data": {
      "text/html": [
       "<div>\n",
       "<style scoped>\n",
       "    .dataframe tbody tr th:only-of-type {\n",
       "        vertical-align: middle;\n",
       "    }\n",
       "\n",
       "    .dataframe tbody tr th {\n",
       "        vertical-align: top;\n",
       "    }\n",
       "\n",
       "    .dataframe thead th {\n",
       "        text-align: right;\n",
       "    }\n",
       "</style>\n",
       "<table border=\"1\" class=\"dataframe\">\n",
       "  <thead>\n",
       "    <tr style=\"text-align: right;\">\n",
       "      <th></th>\n",
       "      <th>dept</th>\n",
       "      <th>applicant.gender</th>\n",
       "      <th>admit</th>\n",
       "      <th>reject</th>\n",
       "      <th>applications</th>\n",
       "    </tr>\n",
       "  </thead>\n",
       "  <tbody>\n",
       "    <tr>\n",
       "      <th>1</th>\n",
       "      <td>A</td>\n",
       "      <td>male</td>\n",
       "      <td>512</td>\n",
       "      <td>313</td>\n",
       "      <td>825</td>\n",
       "    </tr>\n",
       "    <tr>\n",
       "      <th>2</th>\n",
       "      <td>A</td>\n",
       "      <td>female</td>\n",
       "      <td>89</td>\n",
       "      <td>19</td>\n",
       "      <td>108</td>\n",
       "    </tr>\n",
       "    <tr>\n",
       "      <th>3</th>\n",
       "      <td>B</td>\n",
       "      <td>male</td>\n",
       "      <td>353</td>\n",
       "      <td>207</td>\n",
       "      <td>560</td>\n",
       "    </tr>\n",
       "    <tr>\n",
       "      <th>4</th>\n",
       "      <td>B</td>\n",
       "      <td>female</td>\n",
       "      <td>17</td>\n",
       "      <td>8</td>\n",
       "      <td>25</td>\n",
       "    </tr>\n",
       "    <tr>\n",
       "      <th>5</th>\n",
       "      <td>C</td>\n",
       "      <td>male</td>\n",
       "      <td>120</td>\n",
       "      <td>205</td>\n",
       "      <td>325</td>\n",
       "    </tr>\n",
       "    <tr>\n",
       "      <th>6</th>\n",
       "      <td>C</td>\n",
       "      <td>female</td>\n",
       "      <td>202</td>\n",
       "      <td>391</td>\n",
       "      <td>593</td>\n",
       "    </tr>\n",
       "    <tr>\n",
       "      <th>7</th>\n",
       "      <td>D</td>\n",
       "      <td>male</td>\n",
       "      <td>138</td>\n",
       "      <td>279</td>\n",
       "      <td>417</td>\n",
       "    </tr>\n",
       "    <tr>\n",
       "      <th>8</th>\n",
       "      <td>D</td>\n",
       "      <td>female</td>\n",
       "      <td>131</td>\n",
       "      <td>244</td>\n",
       "      <td>375</td>\n",
       "    </tr>\n",
       "    <tr>\n",
       "      <th>9</th>\n",
       "      <td>E</td>\n",
       "      <td>male</td>\n",
       "      <td>53</td>\n",
       "      <td>138</td>\n",
       "      <td>191</td>\n",
       "    </tr>\n",
       "    <tr>\n",
       "      <th>10</th>\n",
       "      <td>E</td>\n",
       "      <td>female</td>\n",
       "      <td>94</td>\n",
       "      <td>299</td>\n",
       "      <td>393</td>\n",
       "    </tr>\n",
       "    <tr>\n",
       "      <th>11</th>\n",
       "      <td>F</td>\n",
       "      <td>male</td>\n",
       "      <td>22</td>\n",
       "      <td>351</td>\n",
       "      <td>373</td>\n",
       "    </tr>\n",
       "    <tr>\n",
       "      <th>12</th>\n",
       "      <td>F</td>\n",
       "      <td>female</td>\n",
       "      <td>24</td>\n",
       "      <td>317</td>\n",
       "      <td>341</td>\n",
       "    </tr>\n",
       "  </tbody>\n",
       "</table>\n",
       "</div>"
      ],
      "text/plain": [
       "   dept applicant.gender  admit  reject  applications\n",
       "1     A             male    512     313           825\n",
       "2     A           female     89      19           108\n",
       "3     B             male    353     207           560\n",
       "4     B           female     17       8            25\n",
       "5     C             male    120     205           325\n",
       "6     C           female    202     391           593\n",
       "7     D             male    138     279           417\n",
       "8     D           female    131     244           375\n",
       "9     E             male     53     138           191\n",
       "10    E           female     94     299           393\n",
       "11    F             male     22     351           373\n",
       "12    F           female     24     317           341"
      ]
     },
     "execution_count": 4,
     "metadata": {},
     "output_type": "execute_result"
    }
   ],
   "source": [
    "data"
   ]
  },
  {
   "cell_type": "code",
   "execution_count": 5,
   "id": "a1c71483",
   "metadata": {},
   "outputs": [],
   "source": [
    "gid = (data[\"applicant.gender\"]==\"female\").astype(int).values"
   ]
  },
  {
   "cell_type": "code",
   "execution_count": 6,
   "id": "793d8049",
   "metadata": {},
   "outputs": [
    {
     "name": "stderr",
     "output_type": "stream",
     "text": [
      "<ipython-input-6-40a5db506968>:7: FutureWarning: In v4.0, pm.sample will return an `arviz.InferenceData` object instead of a `MultiTrace` by default. You can pass return_inferencedata=True or return_inferencedata=False to be safe and silence this warning.\n",
      "  trace_11_7 = pm.sample(random_seed = 8_927)\n",
      "Auto-assigning NUTS sampler...\n",
      "Initializing NUTS using jitter+adapt_diag...\n",
      "Multiprocess sampling (4 chains in 4 jobs)\n",
      "NUTS: [a]\n"
     ]
    },
    {
     "data": {
      "text/html": [
       "\n",
       "    <div>\n",
       "        <style>\n",
       "            /* Turns off some styling */\n",
       "            progress {\n",
       "                /* gets rid of default border in Firefox and Opera. */\n",
       "                border: none;\n",
       "                /* Needs to be in here for Safari polyfill so background images work as expected. */\n",
       "                background-size: auto;\n",
       "            }\n",
       "            .progress-bar-interrupted, .progress-bar-interrupted::-webkit-progress-bar {\n",
       "                background: #F44336;\n",
       "            }\n",
       "        </style>\n",
       "      <progress value='8000' class='' max='8000' style='width:300px; height:20px; vertical-align: middle;'></progress>\n",
       "      100.00% [8000/8000 00:01<00:00 Sampling 4 chains, 0 divergences]\n",
       "    </div>\n",
       "    "
      ],
      "text/plain": [
       "<IPython.core.display.HTML object>"
      ]
     },
     "metadata": {},
     "output_type": "display_data"
    },
    {
     "name": "stderr",
     "output_type": "stream",
     "text": [
      "Sampling 4 chains for 1_000 tune and 1_000 draw iterations (4_000 + 4_000 draws total) took 3 seconds.\n"
     ]
    }
   ],
   "source": [
    "with pm.Model() as m11_7:\n",
    "    a = pm.Normal(\"a\", 0, 1.5, shape=2)\n",
    "    p = pm.Deterministic(\"p\", pm.math.invlogit(a[gid]))\n",
    "    \n",
    "    admit = pm.Binomial(\"admit\", p=p, n=data.applications, observed=data.admit)\n",
    "    \n",
    "    trace_11_7 = pm.sample(random_seed = 8_927)"
   ]
  },
  {
   "cell_type": "code",
   "execution_count": 7,
   "id": "92ac296e",
   "metadata": {},
   "outputs": [
    {
     "name": "stderr",
     "output_type": "stream",
     "text": [
      "/home/mspil/miniconda3/envs/pymc_env/lib/python3.8/site-packages/arviz/data/io_pymc3.py:96: FutureWarning: Using `from_pymc3` without the model will be deprecated in a future release. Not using the model will return less accurate and less useful results. Make sure you use the model argument or call from_pymc3 within a model context.\n",
      "  warnings.warn(\n"
     ]
    },
    {
     "data": {
      "text/html": [
       "<div>\n",
       "<style scoped>\n",
       "    .dataframe tbody tr th:only-of-type {\n",
       "        vertical-align: middle;\n",
       "    }\n",
       "\n",
       "    .dataframe tbody tr th {\n",
       "        vertical-align: top;\n",
       "    }\n",
       "\n",
       "    .dataframe thead th {\n",
       "        text-align: right;\n",
       "    }\n",
       "</style>\n",
       "<table border=\"1\" class=\"dataframe\">\n",
       "  <thead>\n",
       "    <tr style=\"text-align: right;\">\n",
       "      <th></th>\n",
       "      <th>mean</th>\n",
       "      <th>sd</th>\n",
       "      <th>hdi_3%</th>\n",
       "      <th>hdi_97%</th>\n",
       "      <th>mcse_mean</th>\n",
       "      <th>mcse_sd</th>\n",
       "      <th>ess_bulk</th>\n",
       "      <th>ess_tail</th>\n",
       "      <th>r_hat</th>\n",
       "    </tr>\n",
       "  </thead>\n",
       "  <tbody>\n",
       "    <tr>\n",
       "      <th>a[0]</th>\n",
       "      <td>-0.220</td>\n",
       "      <td>0.040</td>\n",
       "      <td>-0.291</td>\n",
       "      <td>-0.143</td>\n",
       "      <td>0.001</td>\n",
       "      <td>0.000</td>\n",
       "      <td>3727.0</td>\n",
       "      <td>2902.0</td>\n",
       "      <td>1.0</td>\n",
       "    </tr>\n",
       "    <tr>\n",
       "      <th>a[1]</th>\n",
       "      <td>-0.831</td>\n",
       "      <td>0.052</td>\n",
       "      <td>-0.928</td>\n",
       "      <td>-0.736</td>\n",
       "      <td>0.001</td>\n",
       "      <td>0.001</td>\n",
       "      <td>3851.0</td>\n",
       "      <td>2833.0</td>\n",
       "      <td>1.0</td>\n",
       "    </tr>\n",
       "  </tbody>\n",
       "</table>\n",
       "</div>"
      ],
      "text/plain": [
       "       mean     sd  hdi_3%  hdi_97%  mcse_mean  mcse_sd  ess_bulk  ess_tail  \\\n",
       "a[0] -0.220  0.040  -0.291   -0.143      0.001    0.000    3727.0    2902.0   \n",
       "a[1] -0.831  0.052  -0.928   -0.736      0.001    0.001    3851.0    2833.0   \n",
       "\n",
       "      r_hat  \n",
       "a[0]    1.0  \n",
       "a[1]    1.0  "
      ]
     },
     "execution_count": 7,
     "metadata": {},
     "output_type": "execute_result"
    }
   ],
   "source": [
    "pm.summary(trace_11_7, var_names=[\"a\"])"
   ]
  },
  {
   "cell_type": "markdown",
   "id": "0ef4da80",
   "metadata": {},
   "source": [
    "#### The posterior mean is higher for males than females, how much higher? We need to compute the contrast."
   ]
  },
  {
   "cell_type": "code",
   "execution_count": 8,
   "id": "626d24ca",
   "metadata": {},
   "outputs": [
    {
     "data": {
      "text/html": [
       "<div>\n",
       "<style scoped>\n",
       "    .dataframe tbody tr th:only-of-type {\n",
       "        vertical-align: middle;\n",
       "    }\n",
       "\n",
       "    .dataframe tbody tr th {\n",
       "        vertical-align: top;\n",
       "    }\n",
       "\n",
       "    .dataframe thead th {\n",
       "        text-align: right;\n",
       "    }\n",
       "</style>\n",
       "<table border=\"1\" class=\"dataframe\">\n",
       "  <thead>\n",
       "    <tr style=\"text-align: right;\">\n",
       "      <th></th>\n",
       "      <th>mean</th>\n",
       "      <th>sd</th>\n",
       "      <th>hdi_3%</th>\n",
       "      <th>hdi_97%</th>\n",
       "    </tr>\n",
       "  </thead>\n",
       "  <tbody>\n",
       "    <tr>\n",
       "      <th>diff_a</th>\n",
       "      <td>0.611</td>\n",
       "      <td>0.067</td>\n",
       "      <td>0.479</td>\n",
       "      <td>0.728</td>\n",
       "    </tr>\n",
       "    <tr>\n",
       "      <th>diff_p</th>\n",
       "      <td>0.648</td>\n",
       "      <td>0.015</td>\n",
       "      <td>0.617</td>\n",
       "      <td>0.674</td>\n",
       "    </tr>\n",
       "  </tbody>\n",
       "</table>\n",
       "</div>"
      ],
      "text/plain": [
       "         mean     sd  hdi_3%  hdi_97%\n",
       "diff_a  0.611  0.067   0.479    0.728\n",
       "diff_p  0.648  0.015   0.617    0.674"
      ]
     },
     "execution_count": 8,
     "metadata": {},
     "output_type": "execute_result"
    }
   ],
   "source": [
    "diff_a = trace_11_7[\"a\"][:, 0] - trace_11_7[\"a\"][:, 1]\n",
    "diff_p = logistic(trace_11_7[\"a\"][:, 0] - trace_11_7[\"a\"][:, 1])\n",
    "\n",
    "az.summary({\"diff_a\": diff_a, \"diff_p\": diff_p}, kind=\"stats\")"
   ]
  },
  {
   "cell_type": "markdown",
   "id": "fe49c185",
   "metadata": {},
   "source": [
    "#### The log-odds difference is certainly positive, corresponding to a higher probability of admis\u0002sion for male applicants. On the probability scale itself, the difference is somewhere between 12% and 16%."
   ]
  },
  {
   "cell_type": "markdown",
   "id": "fdbd4b33",
   "metadata": {},
   "source": [
    "### Posterior predictions"
   ]
  },
  {
   "cell_type": "code",
   "execution_count": 9,
   "id": "53edb95e",
   "metadata": {},
   "outputs": [
    {
     "data": {
      "text/html": [
       "\n",
       "    <div>\n",
       "        <style>\n",
       "            /* Turns off some styling */\n",
       "            progress {\n",
       "                /* gets rid of default border in Firefox and Opera. */\n",
       "                border: none;\n",
       "                /* Needs to be in here for Safari polyfill so background images work as expected. */\n",
       "                background-size: auto;\n",
       "            }\n",
       "            .progress-bar-interrupted, .progress-bar-interrupted::-webkit-progress-bar {\n",
       "                background: #F44336;\n",
       "            }\n",
       "        </style>\n",
       "      <progress value='4000' class='' max='4000' style='width:300px; height:20px; vertical-align: middle;'></progress>\n",
       "      100.00% [4000/4000 00:02<00:00]\n",
       "    </div>\n",
       "    "
      ],
      "text/plain": [
       "<IPython.core.display.HTML object>"
      ]
     },
     "metadata": {},
     "output_type": "display_data"
    }
   ],
   "source": [
    "with m11_7:\n",
    "    ppc = pm.sample_posterior_predictive(trace_11_7, random_seed=8_927, var_names=[\"admit\"])[\"admit\"]"
   ]
  },
  {
   "cell_type": "code",
   "execution_count": 10,
   "id": "b0c7b7a6",
   "metadata": {},
   "outputs": [],
   "source": [
    "pp_admit = ppc/ data.applications.values[None, :]"
   ]
  },
  {
   "cell_type": "code",
   "execution_count": 11,
   "id": "e8cd45db",
   "metadata": {},
   "outputs": [
    {
     "name": "stderr",
     "output_type": "stream",
     "text": [
      "/home/mspil/miniconda3/envs/pymc_env/lib/python3.8/site-packages/arviz/stats/stats.py:456: FutureWarning: hdi currently interprets 2d data as (draw, shape) but this will change in a future release to (chain, draw) for coherence with other functions\n",
      "  warnings.warn(\n",
      "/home/mspil/miniconda3/envs/pymc_env/lib/python3.8/site-packages/arviz/stats/stats.py:456: FutureWarning: hdi currently interprets 2d data as (draw, shape) but this will change in a future release to (chain, draw) for coherence with other functions\n",
      "  warnings.warn(\n"
     ]
    },
    {
     "data": {
      "image/png": "[encoded data removed]",
      "text/plain": [
       "<Figure size 432x288 with 1 Axes>"
      ]
     },
     "metadata": {
      "needs_background": "light"
     },
     "output_type": "display_data"
    }
   ],
   "source": [
    "for i in range(6):\n",
    "    x = 1 + 2 * i\n",
    "    \n",
    "    y1 = data.admit[x] / data.applications[x]\n",
    "    y2 = data.admit[x + 1] / data.applications[x + 1]\n",
    "    \n",
    "    plt.plot([x, x+1], [y1, y2], \"-C0o\", alpha=0.6, lw=2)\n",
    "    plt.text(x + 0.25, (y1 + y2)/2+0.05, data.dept[x])\n",
    "\n",
    "plt.plot(range(1, 13), trace_11_7[\"p\"].mean(0), \"ko\", fillstyle=\"none\", ms=6, alpha=0.6)\n",
    "plt.plot([range(1, 13), range(1, 13)], az.hdi(trace_11_7[\"p\"]).T, \"k-\", lw=1, alpha=0.6)\n",
    "plt.plot([range(1, 13), range(1, 13)], az.hdi(pp_admit).T, \"k+\", ms=6, alpha=0.6)\n",
    "\n",
    "plt.xlabel(\"case\")\n",
    "plt.ylabel(\"admit\")\n",
    "plt.title(\"Posterior validation check\")\n",
    "plt.ylim(0, 1);"
   ]
  },
  {
   "cell_type": "markdown",
   "id": "58522de3",
   "metadata": {},
   "source": [
    "#### There are only two departments in which females had a lower rate of admission than males (C and E), and yet the model says that females should expect to have a 14% lower chance of admission.\n",
    "\n",
    "#### The model did correctly answer the question we asked of it: What are the average probabilities of admission for females and males, across all departments? The problem in this case is that males and females do not apply to the same departments, and departments vary in their rates of admission. This makes the answer misleading. You can see the steady decline in admission probability for both males and females from department A to department F. Females in these data tended not to apply to departments like A and B, which had high overall admission rates. Instead they applied in large numbers to departments like F, which admitted less than 10% of applicants. So while it is true overall that females had a lower probability of admission in these data, it is clearly not true within most departments. And note that just inspecting the posterior distribution alone would never have revealed that fact to us. We had to appeal to something outside the fit model. In this case, it was a simple posterior validation check.\n"
   ]
  },
  {
   "cell_type": "markdown",
   "id": "eb2e48c1",
   "metadata": {},
   "source": [
    "#### Instead of asking “What are the average probabilities of admission for females and males across all departments?” we want to ask “What is the average difference in probability of admission between females and males within departments?” In order to ask the second question, we estimate unique female and male admission rates in each department."
   ]
  },
  {
   "cell_type": "markdown",
   "id": "118c9c0a",
   "metadata": {},
   "source": [
    "#### The model now is:\n"
   ]
  },
  {
   "cell_type": "code",
   "execution_count": 12,
   "id": "fff62db5",
   "metadata": {},
   "outputs": [
    {
     "data": {
      "image/png": "[encoded data removed]",
      "text/plain": [
       "<PIL.PngImagePlugin.PngImageFile image mode=RGB size=218x97 at 0x7FD0F4373970>"
      ]
     },
     "metadata": {},
     "output_type": "display_data"
    }
   ],
   "source": [
    "display(Image.open(os.path.join(os.getcwd(),r'data/admissions_model.png')))"
   ]
  },
  {
   "cell_type": "markdown",
   "id": "26e4861a",
   "metadata": {},
   "source": [
    "#### Where dept indexes department in $k = 1,...,6$, so each dept now gets its own log-odds of admission $\\delta_{k}$ but the model still estimates universal adjustments (the same in all departments) for male and female applications."
   ]
  },
  {
   "cell_type": "code",
   "execution_count": 13,
   "id": "b959e502",
   "metadata": {},
   "outputs": [
    {
     "name": "stderr",
     "output_type": "stream",
     "text": [
      "<ipython-input-13-d8c354cb0c5d>:11: FutureWarning: In v4.0, pm.sample will return an `arviz.InferenceData` object instead of a `MultiTrace` by default. You can pass return_inferencedata=True or return_inferencedata=False to be safe and silence this warning.\n",
      "  trace_11_8 = pm.sample(2_000, random_seed = 8_927)\n",
      "Auto-assigning NUTS sampler...\n",
      "Initializing NUTS using jitter+adapt_diag...\n",
      "Multiprocess sampling (4 chains in 4 jobs)\n",
      "NUTS: [delta, a]\n"
     ]
    },
    {
     "data": {
      "text/html": [
       "\n",
       "    <div>\n",
       "        <style>\n",
       "            /* Turns off some styling */\n",
       "            progress {\n",
       "                /* gets rid of default border in Firefox and Opera. */\n",
       "                border: none;\n",
       "                /* Needs to be in here for Safari polyfill so background images work as expected. */\n",
       "                background-size: auto;\n",
       "            }\n",
       "            .progress-bar-interrupted, .progress-bar-interrupted::-webkit-progress-bar {\n",
       "                background: #F44336;\n",
       "            }\n",
       "        </style>\n",
       "      <progress value='12000' class='' max='12000' style='width:300px; height:20px; vertical-align: middle;'></progress>\n",
       "      100.00% [12000/12000 00:10<00:00 Sampling 4 chains, 0 divergences]\n",
       "    </div>\n",
       "    "
      ],
      "text/plain": [
       "<IPython.core.display.HTML object>"
      ]
     },
     "metadata": {},
     "output_type": "display_data"
    },
    {
     "name": "stderr",
     "output_type": "stream",
     "text": [
      "Sampling 4 chains for 1_000 tune and 2_000 draw iterations (4_000 + 8_000 draws total) took 11 seconds.\n",
      "The number of effective samples is smaller than 10% for some parameters.\n",
      "/home/mspil/miniconda3/envs/pymc_env/lib/python3.8/site-packages/arviz/data/io_pymc3.py:96: FutureWarning: Using `from_pymc3` without the model will be deprecated in a future release. Not using the model will return less accurate and less useful results. Make sure you use the model argument or call from_pymc3 within a model context.\n",
      "  warnings.warn(\n"
     ]
    },
    {
     "data": {
      "text/html": [
       "<div>\n",
       "<style scoped>\n",
       "    .dataframe tbody tr th:only-of-type {\n",
       "        vertical-align: middle;\n",
       "    }\n",
       "\n",
       "    .dataframe tbody tr th {\n",
       "        vertical-align: top;\n",
       "    }\n",
       "\n",
       "    .dataframe thead th {\n",
       "        text-align: right;\n",
       "    }\n",
       "</style>\n",
       "<table border=\"1\" class=\"dataframe\">\n",
       "  <thead>\n",
       "    <tr style=\"text-align: right;\">\n",
       "      <th></th>\n",
       "      <th>mean</th>\n",
       "      <th>sd</th>\n",
       "      <th>hdi_3%</th>\n",
       "      <th>hdi_97%</th>\n",
       "      <th>mcse_mean</th>\n",
       "      <th>mcse_sd</th>\n",
       "      <th>ess_bulk</th>\n",
       "      <th>ess_tail</th>\n",
       "      <th>r_hat</th>\n",
       "    </tr>\n",
       "  </thead>\n",
       "  <tbody>\n",
       "    <tr>\n",
       "      <th>a[0]</th>\n",
       "      <td>-0.518</td>\n",
       "      <td>0.558</td>\n",
       "      <td>-1.563</td>\n",
       "      <td>0.520</td>\n",
       "      <td>0.02</td>\n",
       "      <td>0.014</td>\n",
       "      <td>796.0</td>\n",
       "      <td>871.0</td>\n",
       "      <td>1.0</td>\n",
       "    </tr>\n",
       "    <tr>\n",
       "      <th>a[1]</th>\n",
       "      <td>-0.421</td>\n",
       "      <td>0.558</td>\n",
       "      <td>-1.446</td>\n",
       "      <td>0.634</td>\n",
       "      <td>0.02</td>\n",
       "      <td>0.014</td>\n",
       "      <td>794.0</td>\n",
       "      <td>880.0</td>\n",
       "      <td>1.0</td>\n",
       "    </tr>\n",
       "    <tr>\n",
       "      <th>delta[0]</th>\n",
       "      <td>1.100</td>\n",
       "      <td>0.560</td>\n",
       "      <td>0.064</td>\n",
       "      <td>2.171</td>\n",
       "      <td>0.02</td>\n",
       "      <td>0.014</td>\n",
       "      <td>799.0</td>\n",
       "      <td>870.0</td>\n",
       "      <td>1.0</td>\n",
       "    </tr>\n",
       "    <tr>\n",
       "      <th>delta[1]</th>\n",
       "      <td>1.054</td>\n",
       "      <td>0.562</td>\n",
       "      <td>-0.001</td>\n",
       "      <td>2.105</td>\n",
       "      <td>0.02</td>\n",
       "      <td>0.014</td>\n",
       "      <td>814.0</td>\n",
       "      <td>914.0</td>\n",
       "      <td>1.0</td>\n",
       "    </tr>\n",
       "    <tr>\n",
       "      <th>delta[2]</th>\n",
       "      <td>-0.161</td>\n",
       "      <td>0.560</td>\n",
       "      <td>-1.226</td>\n",
       "      <td>0.867</td>\n",
       "      <td>0.02</td>\n",
       "      <td>0.017</td>\n",
       "      <td>795.0</td>\n",
       "      <td>888.0</td>\n",
       "      <td>1.0</td>\n",
       "    </tr>\n",
       "    <tr>\n",
       "      <th>delta[3]</th>\n",
       "      <td>-0.193</td>\n",
       "      <td>0.560</td>\n",
       "      <td>-1.286</td>\n",
       "      <td>0.818</td>\n",
       "      <td>0.02</td>\n",
       "      <td>0.016</td>\n",
       "      <td>797.0</td>\n",
       "      <td>877.0</td>\n",
       "      <td>1.0</td>\n",
       "    </tr>\n",
       "    <tr>\n",
       "      <th>delta[4]</th>\n",
       "      <td>-0.636</td>\n",
       "      <td>0.563</td>\n",
       "      <td>-1.713</td>\n",
       "      <td>0.403</td>\n",
       "      <td>0.02</td>\n",
       "      <td>0.015</td>\n",
       "      <td>813.0</td>\n",
       "      <td>951.0</td>\n",
       "      <td>1.0</td>\n",
       "    </tr>\n",
       "    <tr>\n",
       "      <th>delta[5]</th>\n",
       "      <td>-2.191</td>\n",
       "      <td>0.569</td>\n",
       "      <td>-3.216</td>\n",
       "      <td>-1.079</td>\n",
       "      <td>0.02</td>\n",
       "      <td>0.014</td>\n",
       "      <td>834.0</td>\n",
       "      <td>944.0</td>\n",
       "      <td>1.0</td>\n",
       "    </tr>\n",
       "  </tbody>\n",
       "</table>\n",
       "</div>"
      ],
      "text/plain": [
       "           mean     sd  hdi_3%  hdi_97%  mcse_mean  mcse_sd  ess_bulk  \\\n",
       "a[0]     -0.518  0.558  -1.563    0.520       0.02    0.014     796.0   \n",
       "a[1]     -0.421  0.558  -1.446    0.634       0.02    0.014     794.0   \n",
       "delta[0]  1.100  0.560   0.064    2.171       0.02    0.014     799.0   \n",
       "delta[1]  1.054  0.562  -0.001    2.105       0.02    0.014     814.0   \n",
       "delta[2] -0.161  0.560  -1.226    0.867       0.02    0.017     795.0   \n",
       "delta[3] -0.193  0.560  -1.286    0.818       0.02    0.016     797.0   \n",
       "delta[4] -0.636  0.563  -1.713    0.403       0.02    0.015     813.0   \n",
       "delta[5] -2.191  0.569  -3.216   -1.079       0.02    0.014     834.0   \n",
       "\n",
       "          ess_tail  r_hat  \n",
       "a[0]         871.0    1.0  \n",
       "a[1]         880.0    1.0  \n",
       "delta[0]     870.0    1.0  \n",
       "delta[1]     914.0    1.0  \n",
       "delta[2]     888.0    1.0  \n",
       "delta[3]     877.0    1.0  \n",
       "delta[4]     951.0    1.0  \n",
       "delta[5]     944.0    1.0  "
      ]
     },
     "execution_count": 13,
     "metadata": {},
     "output_type": "execute_result"
    }
   ],
   "source": [
    "dept_id = pd.Categorical(data[\"dept\"]).codes\n",
    "\n",
    "with pm.Model() as m11_8:\n",
    "    a = pm.Normal(\"a\", 0, 1.5, shape=2)\n",
    "    delta = pm.Normal(\"delta\", 0, 1.5, shape=6)\n",
    "    \n",
    "    p = pm.math.invlogit(a[gid] + delta[dept_id])\n",
    "    \n",
    "    admit = pm.Binomial(\"admit\", p=p, n=data.applications, observed=data.admit)\n",
    "    \n",
    "    trace_11_8 = pm.sample(2_000, random_seed = 8_927)\n",
    "\n",
    "az.summary(trace_11_8)"
   ]
  },
  {
   "cell_type": "markdown",
   "id": "ba35ccd3",
   "metadata": {},
   "source": [
    "#### The intercept for male applicants a[0] is now a little smaller on average than the one for female applicants. Let's derive the relative and absolute contrasts."
   ]
  },
  {
   "cell_type": "code",
   "execution_count": 14,
   "id": "83bb2dc6",
   "metadata": {},
   "outputs": [
    {
     "name": "stderr",
     "output_type": "stream",
     "text": [
      "arviz - WARNING - Shape validation failed: input_shape: (1, 8000), minimum_shape: (chains=2, draws=4)\n"
     ]
    },
    {
     "data": {
      "text/html": [
       "<div>\n",
       "<style scoped>\n",
       "    .dataframe tbody tr th:only-of-type {\n",
       "        vertical-align: middle;\n",
       "    }\n",
       "\n",
       "    .dataframe tbody tr th {\n",
       "        vertical-align: top;\n",
       "    }\n",
       "\n",
       "    .dataframe thead th {\n",
       "        text-align: right;\n",
       "    }\n",
       "</style>\n",
       "<table border=\"1\" class=\"dataframe\">\n",
       "  <thead>\n",
       "    <tr style=\"text-align: right;\">\n",
       "      <th></th>\n",
       "      <th>mean</th>\n",
       "      <th>sd</th>\n",
       "      <th>hdi_3%</th>\n",
       "      <th>hdi_97%</th>\n",
       "      <th>mcse_mean</th>\n",
       "      <th>mcse_sd</th>\n",
       "      <th>ess_bulk</th>\n",
       "      <th>ess_tail</th>\n",
       "      <th>r_hat</th>\n",
       "    </tr>\n",
       "  </thead>\n",
       "  <tbody>\n",
       "    <tr>\n",
       "      <th>diff_a</th>\n",
       "      <td>-0.097</td>\n",
       "      <td>0.081</td>\n",
       "      <td>-0.258</td>\n",
       "      <td>0.043</td>\n",
       "      <td>0.001</td>\n",
       "      <td>0.001</td>\n",
       "      <td>8996.0</td>\n",
       "      <td>7267.0</td>\n",
       "      <td>NaN</td>\n",
       "    </tr>\n",
       "    <tr>\n",
       "      <th>diff_p</th>\n",
       "      <td>-0.022</td>\n",
       "      <td>0.018</td>\n",
       "      <td>-0.056</td>\n",
       "      <td>0.013</td>\n",
       "      <td>0.000</td>\n",
       "      <td>0.000</td>\n",
       "      <td>7888.0</td>\n",
       "      <td>7370.0</td>\n",
       "      <td>NaN</td>\n",
       "    </tr>\n",
       "  </tbody>\n",
       "</table>\n",
       "</div>"
      ],
      "text/plain": [
       "         mean     sd  hdi_3%  hdi_97%  mcse_mean  mcse_sd  ess_bulk  ess_tail  \\\n",
       "diff_a -0.097  0.081  -0.258    0.043      0.001    0.001    8996.0    7267.0   \n",
       "diff_p -0.022  0.018  -0.056    0.013      0.000    0.000    7888.0    7370.0   \n",
       "\n",
       "        r_hat  \n",
       "diff_a    NaN  \n",
       "diff_p    NaN  "
      ]
     },
     "execution_count": 14,
     "metadata": {},
     "output_type": "execute_result"
    }
   ],
   "source": [
    "diff_a = trace_11_8[\"a\"][:, 0] - trace_11_8[\"a\"][:, 1]\n",
    "diff_p = logistic(trace_11_8[\"a\"][:, 0]) - logistic(trace_11_8[\"a\"][:, 1])\n",
    "az.summary({\"diff_a\": diff_a, \"diff_p\": diff_p})"
   ]
  },
  {
   "cell_type": "markdown",
   "id": "e7fbe577",
   "metadata": {},
   "source": [
    "#### If male applicants have it worse, it is only by a very small amount, about 2% on average. Why did adding departments to the model change the inference about gender so much? The earlier figure gives you a hint—the rates of admission vary a lot across departments. Furthermore, females and males tend to apply to different departments."
   ]
  },
  {
   "cell_type": "code",
   "execution_count": 15,
   "id": "29328143",
   "metadata": {},
   "outputs": [
    {
     "data": {
      "text/html": [
       "<div>\n",
       "<style scoped>\n",
       "    .dataframe tbody tr th:only-of-type {\n",
       "        vertical-align: middle;\n",
       "    }\n",
       "\n",
       "    .dataframe tbody tr th {\n",
       "        vertical-align: top;\n",
       "    }\n",
       "\n",
       "    .dataframe thead th {\n",
       "        text-align: right;\n",
       "    }\n",
       "</style>\n",
       "<table border=\"1\" class=\"dataframe\">\n",
       "  <thead>\n",
       "    <tr style=\"text-align: right;\">\n",
       "      <th></th>\n",
       "      <th>dept</th>\n",
       "      <th>applicant.gender</th>\n",
       "      <th>admit</th>\n",
       "      <th>reject</th>\n",
       "      <th>applications</th>\n",
       "    </tr>\n",
       "  </thead>\n",
       "  <tbody>\n",
       "    <tr>\n",
       "      <th>1</th>\n",
       "      <td>A</td>\n",
       "      <td>male</td>\n",
       "      <td>512</td>\n",
       "      <td>313</td>\n",
       "      <td>825</td>\n",
       "    </tr>\n",
       "    <tr>\n",
       "      <th>2</th>\n",
       "      <td>A</td>\n",
       "      <td>female</td>\n",
       "      <td>89</td>\n",
       "      <td>19</td>\n",
       "      <td>108</td>\n",
       "    </tr>\n",
       "    <tr>\n",
       "      <th>3</th>\n",
       "      <td>B</td>\n",
       "      <td>male</td>\n",
       "      <td>353</td>\n",
       "      <td>207</td>\n",
       "      <td>560</td>\n",
       "    </tr>\n",
       "    <tr>\n",
       "      <th>4</th>\n",
       "      <td>B</td>\n",
       "      <td>female</td>\n",
       "      <td>17</td>\n",
       "      <td>8</td>\n",
       "      <td>25</td>\n",
       "    </tr>\n",
       "    <tr>\n",
       "      <th>5</th>\n",
       "      <td>C</td>\n",
       "      <td>male</td>\n",
       "      <td>120</td>\n",
       "      <td>205</td>\n",
       "      <td>325</td>\n",
       "    </tr>\n",
       "    <tr>\n",
       "      <th>6</th>\n",
       "      <td>C</td>\n",
       "      <td>female</td>\n",
       "      <td>202</td>\n",
       "      <td>391</td>\n",
       "      <td>593</td>\n",
       "    </tr>\n",
       "    <tr>\n",
       "      <th>7</th>\n",
       "      <td>D</td>\n",
       "      <td>male</td>\n",
       "      <td>138</td>\n",
       "      <td>279</td>\n",
       "      <td>417</td>\n",
       "    </tr>\n",
       "    <tr>\n",
       "      <th>8</th>\n",
       "      <td>D</td>\n",
       "      <td>female</td>\n",
       "      <td>131</td>\n",
       "      <td>244</td>\n",
       "      <td>375</td>\n",
       "    </tr>\n",
       "    <tr>\n",
       "      <th>9</th>\n",
       "      <td>E</td>\n",
       "      <td>male</td>\n",
       "      <td>53</td>\n",
       "      <td>138</td>\n",
       "      <td>191</td>\n",
       "    </tr>\n",
       "    <tr>\n",
       "      <th>10</th>\n",
       "      <td>E</td>\n",
       "      <td>female</td>\n",
       "      <td>94</td>\n",
       "      <td>299</td>\n",
       "      <td>393</td>\n",
       "    </tr>\n",
       "    <tr>\n",
       "      <th>11</th>\n",
       "      <td>F</td>\n",
       "      <td>male</td>\n",
       "      <td>22</td>\n",
       "      <td>351</td>\n",
       "      <td>373</td>\n",
       "    </tr>\n",
       "    <tr>\n",
       "      <th>12</th>\n",
       "      <td>F</td>\n",
       "      <td>female</td>\n",
       "      <td>24</td>\n",
       "      <td>317</td>\n",
       "      <td>341</td>\n",
       "    </tr>\n",
       "  </tbody>\n",
       "</table>\n",
       "</div>"
      ],
      "text/plain": [
       "   dept applicant.gender  admit  reject  applications\n",
       "1     A             male    512     313           825\n",
       "2     A           female     89      19           108\n",
       "3     B             male    353     207           560\n",
       "4     B           female     17       8            25\n",
       "5     C             male    120     205           325\n",
       "6     C           female    202     391           593\n",
       "7     D             male    138     279           417\n",
       "8     D           female    131     244           375\n",
       "9     E             male     53     138           191\n",
       "10    E           female     94     299           393\n",
       "11    F             male     22     351           373\n",
       "12    F           female     24     317           341"
      ]
     },
     "execution_count": 15,
     "metadata": {},
     "output_type": "execute_result"
    }
   ],
   "source": [
    "data"
   ]
  },
  {
   "cell_type": "code",
   "execution_count": 16,
   "id": "7b81c889",
   "metadata": {},
   "outputs": [],
   "source": [
    "depts = [\"A\", \"B\", \"C\", \"D\", \"E\", \"F\"]"
   ]
  },
  {
   "cell_type": "code",
   "execution_count": 17,
   "id": "98321b10",
   "metadata": {},
   "outputs": [
    {
     "name": "stdout",
     "output_type": "stream",
     "text": [
      "     Male         Female\n",
      "A [0.88424437 0.11575563]\n",
      "B [0.95726496 0.04273504]\n",
      "C [0.3540305 0.6459695]\n",
      "D [0.52651515 0.47348485]\n",
      "E [0.32705479 0.67294521]\n",
      "F [0.52240896 0.47759104]\n"
     ]
    }
   ],
   "source": [
    "print(\"     Male\", \"        Female\")\n",
    "for i in depts:\n",
    "    print(i,(data.loc[data.dept==i, \"applications\"]/np.sum(data.loc[data.dept==i, \"applications\"])).values)"
   ]
  },
  {
   "cell_type": "markdown",
   "id": "cf3ab987",
   "metadata": {},
   "source": [
    "#### These are the proportions of all applications in each department that are either male (top row) or female (bottom row). Department A receives 88% of its applications from males. Department E receives 33% from males. Now look back at the delta posterior means in the output from m11.8. The departments with a larger proportion of female applicantsare also those with lower overall admissions rates."
   ]
  },
  {
   "cell_type": "markdown",
   "id": "18074127",
   "metadata": {},
   "source": [
    "#### Department is probably a confound, in the sense that it misleads us about the direct causal effect. But it is not a confound, in the sense that it is probably a genuine causal path through gender influences admission. Gender influences choice of department, and department influences chance of admission. Controlling for department reveals a more plausible direct causal influence of gender."
   ]
  },
  {
   "cell_type": "code",
   "execution_count": 18,
   "id": "58cfb163",
   "metadata": {},
   "outputs": [
    {
     "data": {
      "image/png": "[encoded data removed]",
      "text/plain": [
       "<PIL.PngImagePlugin.PngImageFile image mode=RGB size=166x104 at 0x7FD0F2143700>"
      ]
     },
     "metadata": {},
     "output_type": "display_data"
    }
   ],
   "source": [
    "display(Image.open(os.path.join(os.getcwd(),r'data/admissions_dag_1.png')))"
   ]
  },
  {
   "cell_type": "markdown",
   "id": "7adc1d05",
   "metadata": {},
   "source": [
    "#### Where D is department, G is gender and A is acceptance. There is an indirect causal path G ---> D ---> A, so to infer the direct effect G ---> A we need to condition on D and close the indirect path, this is achieved in model m11_8.\n",
    "\n",
    "#### What if there are unobserved confounds influencing both dept and admissions?"
   ]
  },
  {
   "cell_type": "code",
   "execution_count": 19,
   "id": "7d62a098",
   "metadata": {},
   "outputs": [
    {
     "data": {
      "image/png": "[encoded data removed]",
      "text/plain": [
       "<PIL.PngImagePlugin.PngImageFile image mode=RGB size=166x108 at 0x7FD0F192E040>"
      ]
     },
     "metadata": {},
     "output_type": "display_data"
    }
   ],
   "source": [
    "display(Image.open(os.path.join(os.getcwd(),r'data/admissions_dag_2.png')))"
   ]
  },
  {
   "cell_type": "markdown",
   "id": "3beeb822",
   "metadata": {},
   "source": [
    "#### U could be academic ability which influences the choice of dept and probability of admission, in which case conditioning on dept is conditioning on a collider and it opens up a non-causal path between gender and admissions. G ---> D <--- U ----> A."
   ]
  },
  {
   "cell_type": "markdown",
   "id": "d889364b",
   "metadata": {},
   "source": [
    "#### Equivalently we could use a Poisson model since we can refactor a categorical model into a series of Poisson models."
   ]
  },
  {
   "cell_type": "code",
   "execution_count": 21,
   "id": "961191fb",
   "metadata": {},
   "outputs": [
    {
     "name": "stderr",
     "output_type": "stream",
     "text": [
      "<ipython-input-21-e91cfe376759>:8: FutureWarning: In v4.0, pm.sample will return an `arviz.InferenceData` object instead of a `MultiTrace` by default. You can pass return_inferencedata=True or return_inferencedata=False to be safe and silence this warning.\n",
      "  trace_binom = pm.sample(1_000, tune=2_000)\n",
      "Auto-assigning NUTS sampler...\n",
      "Initializing NUTS using jitter+adapt_diag...\n",
      "Multiprocess sampling (4 chains in 4 jobs)\n",
      "NUTS: [a]\n"
     ]
    },
    {
     "data": {
      "text/html": [
       "\n",
       "    <div>\n",
       "        <style>\n",
       "            /* Turns off some styling */\n",
       "            progress {\n",
       "                /* gets rid of default border in Firefox and Opera. */\n",
       "                border: none;\n",
       "                /* Needs to be in here for Safari polyfill so background images work as expected. */\n",
       "                background-size: auto;\n",
       "            }\n",
       "            .progress-bar-interrupted, .progress-bar-interrupted::-webkit-progress-bar {\n",
       "                background: #F44336;\n",
       "            }\n",
       "        </style>\n",
       "      <progress value='12000' class='' max='12000' style='width:300px; height:20px; vertical-align: middle;'></progress>\n",
       "      100.00% [12000/12000 00:02<00:00 Sampling 4 chains, 0 divergences]\n",
       "    </div>\n",
       "    "
      ],
      "text/plain": [
       "<IPython.core.display.HTML object>"
      ]
     },
     "metadata": {},
     "output_type": "display_data"
    },
    {
     "name": "stderr",
     "output_type": "stream",
     "text": [
      "Sampling 4 chains for 2_000 tune and 1_000 draw iterations (8_000 + 4_000 draws total) took 2 seconds.\n"
     ]
    }
   ],
   "source": [
    "#first model overall admission probability with the binom model\n",
    "with pm.Model() as admit_binom:\n",
    "    a = pm.Normal(\"a\", 0, 1.5)\n",
    "    p = pm.math.invlogit(a)\n",
    "    \n",
    "    admit = pm.Binomial(\"admit\", p=p, n=data.applications, observed=data.admit)\n",
    "    \n",
    "    trace_binom = pm.sample(1_000, tune=2_000)"
   ]
  },
  {
   "cell_type": "code",
   "execution_count": 22,
   "id": "678310a0",
   "metadata": {},
   "outputs": [
    {
     "name": "stderr",
     "output_type": "stream",
     "text": [
      "<ipython-input-22-10b8164f0ed0>:10: FutureWarning: In v4.0, pm.sample will return an `arviz.InferenceData` object instead of a `MultiTrace` by default. You can pass return_inferencedata=True or return_inferencedata=False to be safe and silence this warning.\n",
      "  trace_pois = pm.sample(1_000, tune=2_000)\n",
      "Auto-assigning NUTS sampler...\n",
      "Initializing NUTS using jitter+adapt_diag...\n",
      "Multiprocess sampling (4 chains in 4 jobs)\n",
      "NUTS: [a]\n"
     ]
    },
    {
     "data": {
      "text/html": [
       "\n",
       "    <div>\n",
       "        <style>\n",
       "            /* Turns off some styling */\n",
       "            progress {\n",
       "                /* gets rid of default border in Firefox and Opera. */\n",
       "                border: none;\n",
       "                /* Needs to be in here for Safari polyfill so background images work as expected. */\n",
       "                background-size: auto;\n",
       "            }\n",
       "            .progress-bar-interrupted, .progress-bar-interrupted::-webkit-progress-bar {\n",
       "                background: #F44336;\n",
       "            }\n",
       "        </style>\n",
       "      <progress value='12000' class='' max='12000' style='width:300px; height:20px; vertical-align: middle;'></progress>\n",
       "      100.00% [12000/12000 00:02<00:00 Sampling 4 chains, 0 divergences]\n",
       "    </div>\n",
       "    "
      ],
      "text/plain": [
       "<IPython.core.display.HTML object>"
      ]
     },
     "metadata": {},
     "output_type": "display_data"
    },
    {
     "name": "stderr",
     "output_type": "stream",
     "text": [
      "Sampling 4 chains for 2_000 tune and 1_000 draw iterations (8_000 + 4_000 draws total) took 3 seconds.\n"
     ]
    }
   ],
   "source": [
    "# Then fit poisson model of overall admissions and rejection rates\n",
    "\n",
    "with pm.Model() as admit_pois:\n",
    "    a = pm.Normal(\"a\", 0, 1.5, shape=2)\n",
    "    lam = pm.math.exp(a)\n",
    "    \n",
    "    admit = pm.Poisson(\"admit\", lam[0], observed=data.admit)\n",
    "    reject = pm.Poisson(\"reject\", lam[1], observed=data.reject)\n",
    "\n",
    "    trace_pois = pm.sample(1_000, tune=2_000)\n",
    "    \n",
    "    "
   ]
  },
  {
   "cell_type": "code",
   "execution_count": 24,
   "id": "30b3d184",
   "metadata": {},
   "outputs": [
    {
     "name": "stderr",
     "output_type": "stream",
     "text": [
      "/home/mspil/miniconda3/envs/pymc_env/lib/python3.8/site-packages/arviz/data/io_pymc3.py:96: FutureWarning: Using `from_pymc3` without the model will be deprecated in a future release. Not using the model will return less accurate and less useful results. Make sure you use the model argument or call from_pymc3 within a model context.\n",
      "  warnings.warn(\n"
     ]
    },
    {
     "data": {
      "text/html": [
       "<div>\n",
       "<style scoped>\n",
       "    .dataframe tbody tr th:only-of-type {\n",
       "        vertical-align: middle;\n",
       "    }\n",
       "\n",
       "    .dataframe tbody tr th {\n",
       "        vertical-align: top;\n",
       "    }\n",
       "\n",
       "    .dataframe thead th {\n",
       "        text-align: right;\n",
       "    }\n",
       "</style>\n",
       "<table border=\"1\" class=\"dataframe\">\n",
       "  <thead>\n",
       "    <tr style=\"text-align: right;\">\n",
       "      <th></th>\n",
       "      <th>mean</th>\n",
       "      <th>sd</th>\n",
       "      <th>hdi_3%</th>\n",
       "      <th>hdi_97%</th>\n",
       "      <th>mcse_mean</th>\n",
       "      <th>mcse_sd</th>\n",
       "      <th>ess_bulk</th>\n",
       "      <th>ess_tail</th>\n",
       "      <th>r_hat</th>\n",
       "    </tr>\n",
       "  </thead>\n",
       "  <tbody>\n",
       "    <tr>\n",
       "      <th>a</th>\n",
       "      <td>-0.457</td>\n",
       "      <td>0.03</td>\n",
       "      <td>-0.517</td>\n",
       "      <td>-0.403</td>\n",
       "      <td>0.001</td>\n",
       "      <td>0.001</td>\n",
       "      <td>1735.0</td>\n",
       "      <td>2700.0</td>\n",
       "      <td>1.0</td>\n",
       "    </tr>\n",
       "  </tbody>\n",
       "</table>\n",
       "</div>"
      ],
      "text/plain": [
       "    mean    sd  hdi_3%  hdi_97%  mcse_mean  mcse_sd  ess_bulk  ess_tail  r_hat\n",
       "a -0.457  0.03  -0.517   -0.403      0.001    0.001    1735.0    2700.0    1.0"
      ]
     },
     "execution_count": 24,
     "metadata": {},
     "output_type": "execute_result"
    }
   ],
   "source": [
    "az.summary(trace_binom)"
   ]
  },
  {
   "cell_type": "code",
   "execution_count": 29,
   "id": "eae1e808",
   "metadata": {},
   "outputs": [
    {
     "name": "stderr",
     "output_type": "stream",
     "text": [
      "/home/mspil/miniconda3/envs/pymc_env/lib/python3.8/site-packages/arviz/data/io_pymc3.py:96: FutureWarning: Using `from_pymc3` without the model will be deprecated in a future release. Not using the model will return less accurate and less useful results. Make sure you use the model argument or call from_pymc3 within a model context.\n",
      "  warnings.warn(\n"
     ]
    },
    {
     "name": "stdout",
     "output_type": "stream",
     "text": [
      "The binomial probability of admission is: 0.3876977480872859\n"
     ]
    }
   ],
   "source": [
    "m_binom = az.summary(trace_binom)\n",
    "print(f'The binomial probability of admission is: {logistic(m_binom[\"mean\"])[0]}')"
   ]
  },
  {
   "cell_type": "markdown",
   "id": "2014f99f",
   "metadata": {},
   "source": [
    "#### The Poisson probability of admission is given by:\n",
    "$$P_{admit} = \\lambda_{1}/(\\lambda_{1} + \\lambda_{2}) = exp(a_{1}) / (exp(a_{1}) + exp(a_{2}))$$"
   ]
  },
  {
   "cell_type": "code",
   "execution_count": 30,
   "id": "c485ea23",
   "metadata": {},
   "outputs": [
    {
     "name": "stderr",
     "output_type": "stream",
     "text": [
      "/home/mspil/miniconda3/envs/pymc_env/lib/python3.8/site-packages/arviz/data/io_pymc3.py:96: FutureWarning: Using `from_pymc3` without the model will be deprecated in a future release. Not using the model will return less accurate and less useful results. Make sure you use the model argument or call from_pymc3 within a model context.\n",
      "  warnings.warn(\n"
     ]
    },
    {
     "data": {
      "text/html": [
       "<div>\n",
       "<style scoped>\n",
       "    .dataframe tbody tr th:only-of-type {\n",
       "        vertical-align: middle;\n",
       "    }\n",
       "\n",
       "    .dataframe tbody tr th {\n",
       "        vertical-align: top;\n",
       "    }\n",
       "\n",
       "    .dataframe thead th {\n",
       "        text-align: right;\n",
       "    }\n",
       "</style>\n",
       "<table border=\"1\" class=\"dataframe\">\n",
       "  <thead>\n",
       "    <tr style=\"text-align: right;\">\n",
       "      <th></th>\n",
       "      <th>mean</th>\n",
       "      <th>sd</th>\n",
       "      <th>hdi_3%</th>\n",
       "      <th>hdi_97%</th>\n",
       "      <th>mcse_mean</th>\n",
       "      <th>mcse_sd</th>\n",
       "      <th>ess_bulk</th>\n",
       "      <th>ess_tail</th>\n",
       "      <th>r_hat</th>\n",
       "    </tr>\n",
       "  </thead>\n",
       "  <tbody>\n",
       "    <tr>\n",
       "      <th>a[0]</th>\n",
       "      <td>4.984</td>\n",
       "      <td>0.024</td>\n",
       "      <td>4.940</td>\n",
       "      <td>5.029</td>\n",
       "      <td>0.0</td>\n",
       "      <td>0.0</td>\n",
       "      <td>3093.0</td>\n",
       "      <td>2705.0</td>\n",
       "      <td>1.0</td>\n",
       "    </tr>\n",
       "    <tr>\n",
       "      <th>a[1]</th>\n",
       "      <td>5.441</td>\n",
       "      <td>0.019</td>\n",
       "      <td>5.407</td>\n",
       "      <td>5.475</td>\n",
       "      <td>0.0</td>\n",
       "      <td>0.0</td>\n",
       "      <td>3365.0</td>\n",
       "      <td>2719.0</td>\n",
       "      <td>1.0</td>\n",
       "    </tr>\n",
       "  </tbody>\n",
       "</table>\n",
       "</div>"
      ],
      "text/plain": [
       "       mean     sd  hdi_3%  hdi_97%  mcse_mean  mcse_sd  ess_bulk  ess_tail  \\\n",
       "a[0]  4.984  0.024   4.940    5.029        0.0      0.0    3093.0    2705.0   \n",
       "a[1]  5.441  0.019   5.407    5.475        0.0      0.0    3365.0    2719.0   \n",
       "\n",
       "      r_hat  \n",
       "a[0]    1.0  \n",
       "a[1]    1.0  "
      ]
     },
     "execution_count": 30,
     "metadata": {},
     "output_type": "execute_result"
    }
   ],
   "source": [
    "az.summary(trace_pois)"
   ]
  },
  {
   "cell_type": "code",
   "execution_count": 31,
   "id": "59769a9b",
   "metadata": {},
   "outputs": [
    {
     "name": "stderr",
     "output_type": "stream",
     "text": [
      "/home/mspil/miniconda3/envs/pymc_env/lib/python3.8/site-packages/arviz/data/io_pymc3.py:96: FutureWarning: Using `from_pymc3` without the model will be deprecated in a future release. Not using the model will return less accurate and less useful results. Make sure you use the model argument or call from_pymc3 within a model context.\n",
      "  warnings.warn(\n"
     ]
    },
    {
     "name": "stdout",
     "output_type": "stream",
     "text": [
      "The poisson probability of admission is: 0.3876977480872859\n"
     ]
    }
   ],
   "source": [
    "m_pois = az.summary(trace_pois)\n",
    "pois_prob = np.exp(m_pois[\"mean\"][0])/(np.exp(m_pois[\"mean\"][0]) + np.exp(m_pois[\"mean\"][1]))\n",
    "print(f'The poisson probability of admission is: {pois_prob}')\n"
   ]
  },
  {
   "cell_type": "code",
   "execution_count": null,
   "id": "37620451",
   "metadata": {},
   "outputs": [],
   "source": []
  },
  {
   "cell_type": "code",
   "execution_count": null,
   "id": "5e188a22",
   "metadata": {},
   "outputs": [],
   "source": []
  },
  {
   "cell_type": "code",
   "execution_count": null,
   "id": "1c48525a",
   "metadata": {},
   "outputs": [],
   "source": []
  },
  {
   "cell_type": "code",
   "execution_count": null,
   "id": "15ef73a6",
   "metadata": {},
   "outputs": [],
   "source": []
  }
 ],
 "metadata": {
  "kernelspec": {
   "display_name": "Python 3",
   "language": "python",
   "name": "python3"
  },
  "language_info": {
   "codemirror_mode": {
    "name": "ipython",
    "version": 3
   },
   "file_extension": ".py",
   "mimetype": "text/x-python",
   "name": "python",
   "nbconvert_exporter": "python",
   "pygments_lexer": "ipython3",
   "version": "3.8.8"
  }
 },
 "nbformat": 4,
 "nbformat_minor": 5
}
