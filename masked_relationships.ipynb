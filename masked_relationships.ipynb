{
 "cells": [
  {
   "cell_type": "markdown",
   "id": "d193a7e0",
   "metadata": {},
   "source": [
    "# Masking relationships\n",
    "#### Adapting from chapter 5 in 'Statistical Rethinking' (from R to Python)"
   ]
  },
  {
   "cell_type": "code",
   "execution_count": 1,
   "id": "98224f32",
   "metadata": {},
   "outputs": [],
   "source": [
    "import pymc3 as pm\n",
    "import numpy as np\n",
    "import pandas as pd\n",
    "from scipy import stats\n",
    "import matplotlib.pyplot as plt\n",
    "import seaborn as sns\n",
    "import os\n",
    "from IPython.display import display\n",
    "from PIL import Image\n",
    "from theano import shared\n",
    "import arviz as az"
   ]
  },
  {
   "cell_type": "code",
   "execution_count": 2,
   "id": "fa8aa393",
   "metadata": {},
   "outputs": [],
   "source": [
    "def data_proc():\n",
    "    \n",
    "    def standardise(x):\n",
    "        return (x-x.mean())/x.std()\n",
    "    \n",
    "    data = pd.read_csv(os.path.join(os.getcwd(),r'data/milk.csv'), delimiter=\";\")\n",
    "    data['kcal_s'] = standardise(data['kcal.per.g'])\n",
    "    data['neo_s'] = standardise(data['neocortex.perc'])\n",
    "    data['mass_s'] = standardise(data['mass'])\n",
    "    \n",
    "    #return out complete cases \n",
    "    return data.dropna(axis=0)"
   ]
  },
  {
   "cell_type": "code",
   "execution_count": 3,
   "id": "9371751b",
   "metadata": {},
   "outputs": [],
   "source": [
    "milk = data_proc()"
   ]
  },
  {
   "cell_type": "code",
   "execution_count": 4,
   "id": "9b3d91f8",
   "metadata": {},
   "outputs": [
    {
     "data": {
      "text/html": [
       "<div>\n",
       "<style scoped>\n",
       "    .dataframe tbody tr th:only-of-type {\n",
       "        vertical-align: middle;\n",
       "    }\n",
       "\n",
       "    .dataframe tbody tr th {\n",
       "        vertical-align: top;\n",
       "    }\n",
       "\n",
       "    .dataframe thead th {\n",
       "        text-align: right;\n",
       "    }\n",
       "</style>\n",
       "<table border=\"1\" class=\"dataframe\">\n",
       "  <thead>\n",
       "    <tr style=\"text-align: right;\">\n",
       "      <th></th>\n",
       "      <th>clade</th>\n",
       "      <th>species</th>\n",
       "      <th>kcal.per.g</th>\n",
       "      <th>perc.fat</th>\n",
       "      <th>perc.protein</th>\n",
       "      <th>perc.lactose</th>\n",
       "      <th>mass</th>\n",
       "      <th>neocortex.perc</th>\n",
       "      <th>kcal_s</th>\n",
       "      <th>neo_s</th>\n",
       "      <th>mass_s</th>\n",
       "    </tr>\n",
       "  </thead>\n",
       "  <tbody>\n",
       "    <tr>\n",
       "      <th>0</th>\n",
       "      <td>Strepsirrhine</td>\n",
       "      <td>Eulemur fulvus</td>\n",
       "      <td>0.49</td>\n",
       "      <td>16.60</td>\n",
       "      <td>15.42</td>\n",
       "      <td>67.98</td>\n",
       "      <td>1.95</td>\n",
       "      <td>55.16</td>\n",
       "      <td>-0.940041</td>\n",
       "      <td>-2.080196</td>\n",
       "      <td>-0.515812</td>\n",
       "    </tr>\n",
       "    <tr>\n",
       "      <th>5</th>\n",
       "      <td>New World Monkey</td>\n",
       "      <td>Alouatta seniculus</td>\n",
       "      <td>0.47</td>\n",
       "      <td>21.22</td>\n",
       "      <td>23.58</td>\n",
       "      <td>55.20</td>\n",
       "      <td>5.25</td>\n",
       "      <td>64.54</td>\n",
       "      <td>-1.063955</td>\n",
       "      <td>-0.508641</td>\n",
       "      <td>-0.382588</td>\n",
       "    </tr>\n",
       "    <tr>\n",
       "      <th>6</th>\n",
       "      <td>New World Monkey</td>\n",
       "      <td>A palliata</td>\n",
       "      <td>0.56</td>\n",
       "      <td>29.66</td>\n",
       "      <td>23.46</td>\n",
       "      <td>46.88</td>\n",
       "      <td>5.37</td>\n",
       "      <td>64.54</td>\n",
       "      <td>-0.506340</td>\n",
       "      <td>-0.508641</td>\n",
       "      <td>-0.377744</td>\n",
       "    </tr>\n",
       "    <tr>\n",
       "      <th>7</th>\n",
       "      <td>New World Monkey</td>\n",
       "      <td>Cebus apella</td>\n",
       "      <td>0.89</td>\n",
       "      <td>53.41</td>\n",
       "      <td>15.80</td>\n",
       "      <td>30.79</td>\n",
       "      <td>2.51</td>\n",
       "      <td>67.64</td>\n",
       "      <td>1.538249</td>\n",
       "      <td>0.010742</td>\n",
       "      <td>-0.493204</td>\n",
       "    </tr>\n",
       "    <tr>\n",
       "      <th>9</th>\n",
       "      <td>New World Monkey</td>\n",
       "      <td>S sciureus</td>\n",
       "      <td>0.92</td>\n",
       "      <td>50.58</td>\n",
       "      <td>22.33</td>\n",
       "      <td>27.09</td>\n",
       "      <td>0.68</td>\n",
       "      <td>68.85</td>\n",
       "      <td>1.724120</td>\n",
       "      <td>0.213470</td>\n",
       "      <td>-0.567082</td>\n",
       "    </tr>\n",
       "  </tbody>\n",
       "</table>\n",
       "</div>"
      ],
      "text/plain": [
       "              clade             species  kcal.per.g  perc.fat  perc.protein  \\\n",
       "0     Strepsirrhine      Eulemur fulvus        0.49     16.60         15.42   \n",
       "5  New World Monkey  Alouatta seniculus        0.47     21.22         23.58   \n",
       "6  New World Monkey          A palliata        0.56     29.66         23.46   \n",
       "7  New World Monkey        Cebus apella        0.89     53.41         15.80   \n",
       "9  New World Monkey          S sciureus        0.92     50.58         22.33   \n",
       "\n",
       "   perc.lactose  mass  neocortex.perc    kcal_s     neo_s    mass_s  \n",
       "0         67.98  1.95           55.16 -0.940041 -2.080196 -0.515812  \n",
       "5         55.20  5.25           64.54 -1.063955 -0.508641 -0.382588  \n",
       "6         46.88  5.37           64.54 -0.506340 -0.508641 -0.377744  \n",
       "7         30.79  2.51           67.64  1.538249  0.010742 -0.493204  \n",
       "9         27.09  0.68           68.85  1.724120  0.213470 -0.567082  "
      ]
     },
     "execution_count": 4,
     "metadata": {},
     "output_type": "execute_result"
    }
   ],
   "source": [
    "milk.head()"
   ]
  },
  {
   "cell_type": "markdown",
   "id": "79deb1ef",
   "metadata": {},
   "source": [
    "#### The question here is to what extent energy content of milk, measured here by kilocalories, is related to the percent of the brain mass that is neocortex. Neocortex is the gray, outer part of the brain that is particularly elaborated in mammals and especially primates. We’ll end up needing female body mass as well, to see the masking that hides the relationships among the variables."
   ]
  },
  {
   "cell_type": "markdown",
   "id": "f7a2e6b2",
   "metadata": {},
   "source": [
    "#### Model set up:\n",
    "$$ K_{i} \\sim Normal(\\mu_{i}, \\sigma) $$\n",
    "$$ \\mu_{i} = \\alpha + \\beta_{N}N_{i} $$\n",
    "$$ \\alpha \\sim Normal(0, 1) $$\n",
    "$$ \\beta_{N} \\sim Normal(0, 1) $$\n",
    "$$ \\sigma \\sim Exponential(1) $$"
   ]
  },
  {
   "cell_type": "code",
   "execution_count": null,
   "id": "e0dca518",
   "metadata": {},
   "outputs": [
    {
     "name": "stderr",
     "output_type": "stream",
     "text": [
      "<ipython-input-5-60e370c85e98>:9: FutureWarning: In v4.0, pm.sample will return an `arviz.InferenceData` object instead of a `MultiTrace` by default. You can pass return_inferencedata=True or return_inferencedata=False to be safe and silence this warning.\n",
      "  m5_5_trace = pm.sample()\n",
      "Auto-assigning NUTS sampler...\n",
      "Initializing NUTS using jitter+adapt_diag...\n",
      "Multiprocess sampling (4 chains in 4 jobs)\n",
      "NUTS: [sigma, b, a]\n"
     ]
    },
    {
     "data": {
      "text/html": [
       "\n",
       "    <div>\n",
       "        <style>\n",
       "            /* Turns off some styling */\n",
       "            progress {\n",
       "                /* gets rid of default border in Firefox and Opera. */\n",
       "                border: none;\n",
       "                /* Needs to be in here for Safari polyfill so background images work as expected. */\n",
       "                background-size: auto;\n",
       "            }\n",
       "            .progress-bar-interrupted, .progress-bar-interrupted::-webkit-progress-bar {\n",
       "                background: #F44336;\n",
       "            }\n",
       "        </style>\n",
       "      <progress value='1101' class='' max='8000' style='width:300px; height:20px; vertical-align: middle;'></progress>\n",
       "      13.76% [1101/8000 00:00<00:02 Sampling 4 chains, 0 divergences]\n",
       "    </div>\n",
       "    "
      ],
      "text/plain": [
       "<IPython.core.display.HTML object>"
      ]
     },
     "metadata": {},
     "output_type": "display_data"
    }
   ],
   "source": [
    "shared_N = shared(milk[\"neo_s\"].values)\n",
    "with pm.Model() as m5_5:\n",
    "    a = pm.Normal('a', mu=0, sigma=1)\n",
    "    b = pm.Normal('b', mu=0, sigma=1)\n",
    "    sigma = pm.Exponential('sigma', 1)\n",
    "    mu = pm.Deterministic('mu', a + b*shared_N)\n",
    "    \n",
    "    K = pm.Normal('K', mu=mu, sigma=sigma, observed=milk.kcal_s)\n",
    "    m5_5_trace = pm.sample()"
   ]
  },
  {
   "cell_type": "markdown",
   "id": "d6886da0",
   "metadata": {},
   "source": [
    "#### Examine the appropriateness of priors with prior predictive samples"
   ]
  },
  {
   "cell_type": "code",
   "execution_count": null,
   "id": "9430360c",
   "metadata": {},
   "outputs": [],
   "source": [
    "def plot_priors(model, title):\n",
    "    shared_N.set_value(np.array([-2, 2]))\n",
    "    with model:\n",
    "        model_prior_pred = pm.sample_prior_predictive()\n",
    "    \n",
    "    fig, ax = plt.subplots()\n",
    "    \n",
    "    for i in range(50):\n",
    "        ax.plot([-2, 2], model_prior_pred['K'][i], c='blue', alpha=0.3)\n",
    "    \n",
    "    ax.set_ylim([-2, 2])\n",
    "    ax.set_title(title)\n",
    "    ax.set_xlabel(\"neocortex percent (std)\")\n",
    "    ax.set_ylabel(\"kilocal per g (std)\")\n",
    "    plt.show()\n",
    "    "
   ]
  },
  {
   "cell_type": "code",
   "execution_count": null,
   "id": "be911e12",
   "metadata": {},
   "outputs": [],
   "source": [
    "plot_priors(m5_5, title=\"a~dnorm(0,1) \\n bN~dnorm(0,1)\")"
   ]
  },
  {
   "cell_type": "markdown",
   "id": "01ba0398",
   "metadata": {},
   "source": [
    "#### These lines are a mess, indicating that the selection of priors is not good. Let's tighten them up."
   ]
  },
  {
   "cell_type": "code",
   "execution_count": null,
   "id": "4df9509e",
   "metadata": {},
   "outputs": [],
   "source": [
    "shared_N_2 = shared(milk[\"neo_s\"].values)\n",
    "\n",
    "with pm.Model() as m5_5_2:\n",
    "    sigma = pm.Exponential(\"sigma\", 1)\n",
    "    bN = pm.Normal(\"bN\", 0, 0.5)\n",
    "    a = pm.Normal(\"a\", 0, 0.2)\n",
    "    mu = pm.Deterministic(\"mu\", a + bN * shared_N_2)\n",
    "\n",
    "    K = pm.Normal(\"K\", mu, sigma, observed=milk[\"kcal_s\"])\n",
    "\n",
    "    m5_5_2_trace = pm.sample()\n",
    "\n",
    "m5_5_data = az.from_pymc3(m5_5_2_trace)"
   ]
  },
  {
   "cell_type": "code",
   "execution_count": null,
   "id": "65c2cde2",
   "metadata": {},
   "outputs": [],
   "source": [
    "plot_priors(m5_5, title=\"a~dnorm(0,0.2) \\n bN~dnorm(0,0.5)\")"
   ]
  },
  {
   "cell_type": "code",
   "execution_count": null,
   "id": "9c6ef38b",
   "metadata": {},
   "outputs": [],
   "source": [
    "varnames=['a', 'bN', 'sigma']\n",
    "pm.summary(m5_5_2_trace, varnames)"
   ]
  },
  {
   "cell_type": "markdown",
   "id": "bdb40a2b",
   "metadata": {},
   "source": [
    "#### From this summary, you can possibly see that this is neither a strong nor very precise association. The standard deviation is almost twice the posterior mean. But as always, it’s much easier to see this if we draw a picture looking at the posterior predictive fit."
   ]
  },
  {
   "cell_type": "code",
   "execution_count": null,
   "id": "688c1855",
   "metadata": {},
   "outputs": [],
   "source": [
    "\n",
    "xseq = np.linspace(milk[\"neo_s\"].min() - 0.15, milk[\"neo_s\"].max() + 0.15, 30)\n",
    "shared_N.set_value(xseq)\n",
    "with m5_5:\n",
    "    m5_5_posterior_predictive = pm.sample_posterior_predictive(m5_5_trace, var_names=[\"mu\"], samples=4_000)\n"
   ]
  },
  {
   "cell_type": "code",
   "execution_count": null,
   "id": "a1770a5b",
   "metadata": {},
   "outputs": [],
   "source": [
    "mu_mean = m5_5_posterior_predictive[\"mu\"].mean(axis=0)"
   ]
  },
  {
   "cell_type": "code",
   "execution_count": null,
   "id": "d05f51a3",
   "metadata": {},
   "outputs": [],
   "source": [
    "fig, ax = plt.subplots()\n",
    "az.plot_hdi(xseq, m5_5_posterior_predictive[\"mu\"], ax=ax)\n",
    "ax.plot(xseq, mu_mean, c=\"black\")\n",
    "ax.scatter(milk[\"neo_s\"], milk[\"kcal_s\"], facecolors=\"none\", edgecolors=\"b\")\n",
    "ax.set_ylim(-1.5, 2.2)\n",
    "ax.set_xlabel(\"neocortex percent (std)\")\n",
    "ax.set_ylabel(\"kilocal per g (std)\");"
   ]
  },
  {
   "cell_type": "markdown",
   "id": "e88ecf4f",
   "metadata": {},
   "source": [
    "#### Now consider another predictor variable, adult female body mass, mass in the dataframe"
   ]
  },
  {
   "cell_type": "code",
   "execution_count": null,
   "id": "1e5edf11",
   "metadata": {},
   "outputs": [],
   "source": [
    "shared_M = shared(milk[\"mass_s\"].values)\n",
    "\n",
    "\n",
    "with pm.Model() as m5_6:\n",
    "    sigma = pm.Exponential(\"sigma\", 1)\n",
    "    bM = pm.Normal(\"bM\", 0, 0.5)\n",
    "    a = pm.Normal(\"a\", 0, 0.2)\n",
    "    mu = pm.Deterministic(\"mu\", a + bM * shared_M)\n",
    "\n",
    "    K = pm.Normal(\"K\", mu, sigma, observed=milk[\"kcal_s\"])\n",
    "\n",
    "    m5_6_trace = pm.sample()\n",
    "\n",
    "m5_6_data = az.from_pymc3(m5_6_trace)"
   ]
  },
  {
   "cell_type": "code",
   "execution_count": null,
   "id": "3054b1f5",
   "metadata": {},
   "outputs": [],
   "source": [
    "varnames=['a', 'bM', 'sigma']\n",
    "pm.summary(m5_6_trace, varnames)"
   ]
  },
  {
   "cell_type": "markdown",
   "id": "7b4b6376",
   "metadata": {},
   "source": [
    "#### mass is negatively correlated with kilocalories. This influence does seem stronger than that of neocortex percent, although in the opposite direction. It is quite uncertain though, with a wide confidence interval that is consistent with a wide range of both weak and stronger relationships"
   ]
  },
  {
   "cell_type": "markdown",
   "id": "6ad8256c",
   "metadata": {},
   "source": [
    "#### Let's regress both variables with the following model specification:\n",
    "$$ K_{i} \\sim Normal(\\mu_{i}, \\sigma) $$\n",
    "$$ \\mu_{i} = \\alpha + \\beta_{N}N_{i} + \\beta_{M}M_{i}$$ \n",
    "$$ \\alpha \\sim Normal(0, 0.2) $$\n",
    "$$ \\beta_{n} \\sim Normal(0, 0.5) $$\n",
    "$$ \\beta_{n} \\sim Normal(0, 0.5) $$\n",
    "$$ \\sigma \\sim Exponential(1) $$"
   ]
  },
  {
   "cell_type": "code",
   "execution_count": null,
   "id": "094fd4d0",
   "metadata": {},
   "outputs": [],
   "source": [
    "shared_N = shared(milk['neo_s'].values)\n",
    "shared_M = shared(milk['mass_s'].values)\n",
    "\n",
    "with pm.Model() as m5_7:\n",
    "    sigma = pm.Exponential('sigma', 1)\n",
    "    bN = pm.Normal('bN', mu=0, sigma=0.5)\n",
    "    bM = pm.Normal('bM', mu=0, sigma=0.5)\n",
    "    a = pm.Normal('a', mu=0, sigma=0.2)\n",
    "    \n",
    "    mu = pm.Deterministic('mu', a + bN*shared_N + bM*shared_M)\n",
    "    \n",
    "    K = pm.Normal('K', mu=mu, sigma=sigma, observed=milk[\"kcal_s\"])\n",
    "    m5_7_trace = pm.sample(tune=2_000, draws=10_000)"
   ]
  },
  {
   "cell_type": "code",
   "execution_count": null,
   "id": "719fb91f",
   "metadata": {},
   "outputs": [],
   "source": [
    "varnames = ['a', 'bN', 'bM', 'sigma']\n",
    "pm.summary(m5_7_trace, varnames)"
   ]
  },
  {
   "cell_type": "code",
   "execution_count": null,
   "id": "b8370aa3",
   "metadata": {},
   "outputs": [],
   "source": [
    "m5_7_data = az.from_pymc3(m5_7_trace)"
   ]
  },
  {
   "cell_type": "code",
   "execution_count": null,
   "id": "66a82e93",
   "metadata": {},
   "outputs": [],
   "source": [
    "pm.forestplot(m5_7_trace)"
   ]
  },
  {
   "cell_type": "markdown",
   "id": "75c5056d",
   "metadata": {},
   "source": [
    "#### Comparing estimates between the separate bivariate models and the multiple regression models. We such much larger effect sizes for mass and neocortex variables.  This is a context in which there are two variables correlated with the outcome, but one is positively correlated with it and the other is negatively correlated with it. In addition, both of the explanatory variables are positively correlated with one another."
   ]
  },
  {
   "cell_type": "code",
   "execution_count": null,
   "id": "a2528892",
   "metadata": {},
   "outputs": [],
   "source": [
    "az.plot_forest(\n",
    "    [m5_7_data, m5_6_data, m5_5_data],\n",
    "    model_names=[\"m5.7\", \"m5.6\", \"m5.5\"],\n",
    "    var_names=[\"bM\", \"bN\"],\n",
    "    combined=True,\n",
    ");"
   ]
  },
  {
   "cell_type": "markdown",
   "id": "e1a270e3",
   "metadata": {},
   "source": [
    "#### This is another case in which multiple regression automatically finds the most revealing cases and uses them to produce inferences. What the regression model does is ask if species that have high neocortex percent for their body mass have higher milk energy. Likewise, the model asks if species with high body massfor their neocortex percent have higher milk energy. Bigger species, like apes, have milk with less energy. But species with more neocortex tend to have richer milk. The fact that these two variables, body size and neocortex, are correlated across species makes it hard to see these relationships, unless we account for both.\n"
   ]
  },
  {
   "cell_type": "markdown",
   "id": "14396064",
   "metadata": {},
   "source": [
    "#### Three possible DAGs are consistent with this data, let M be body mass, N by neocortex percent, K by kcals of milk and U be an unobservable."
   ]
  },
  {
   "cell_type": "code",
   "execution_count": null,
   "id": "d1b82e92",
   "metadata": {},
   "outputs": [],
   "source": [
    "display(Image.open(os.path.join(os.getcwd(),r'data/dag3.png')))"
   ]
  },
  {
   "cell_type": "markdown",
   "id": "4f7c78f5",
   "metadata": {},
   "source": [
    "#### The above graphs have the same set of 'conditional independencies' (in this case there are none since the graphs imply that all of the variables are associated regardless of what we condition on. A set of DAGs with the same conditional independencies is known as a 'Markov Equivalence' set."
   ]
  },
  {
   "cell_type": "markdown",
   "id": "acb2008e",
   "metadata": {},
   "source": [
    "#### Let’s make counterfactual plots to show how the model sees the problem. Once we have multiple predictor variables, we can conduct counterfactual experiments that vary one predictor while holding the others constant. In the real world, such experiments are typically impossible. If we change an animal’s body size, natural selection will then change the other features to match it. But these counterfactual plots do help us see how the model views the association between each predictor and the outcome."
   ]
  },
  {
   "cell_type": "code",
   "execution_count": null,
   "id": "5b97ba66",
   "metadata": {},
   "outputs": [],
   "source": [
    "xseq = np.linspace(milk[\"mass_s\"].min() - 0.15, milk[\"mass_s\"].max() + 0.15, 30)\n",
    "shared_N.set_value(np.zeros(30))\n",
    "shared_M.set_value(xseq)\n",
    "\n",
    "\n",
    "with m5_7:\n",
    "    m5_7_posterior_predictive = pm.sample_posterior_predictive(\n",
    "        m5_7_trace, var_names=[\"mu\"], samples=4000\n",
    "    )\n",
    "\n",
    "mu_mean = m5_7_posterior_predictive[\"mu\"].mean(axis=0)\n",
    "\n",
    "fig, ax = plt.subplots()\n",
    "az.plot_hdi(xseq, m5_7_posterior_predictive[\"mu\"], ax=ax)\n",
    "ax.plot(xseq, mu_mean, c=\"black\")\n",
    "\n",
    "ax.set_ylim(-1.5, 2.2)\n",
    "ax.set_title(\"Counterfactual holding N=0\")\n",
    "ax.set_ylabel(\"kilocal per g (std)\")\n",
    "ax.set_xlabel(\"log body mass (std)\");"
   ]
  },
  {
   "cell_type": "code",
   "execution_count": null,
   "id": "1938b352",
   "metadata": {},
   "outputs": [],
   "source": []
  }
 ],
 "metadata": {
  "kernelspec": {
   "display_name": "Python 3",
   "language": "python",
   "name": "python3"
  },
  "language_info": {
   "codemirror_mode": {
    "name": "ipython",
    "version": 3
   },
   "file_extension": ".py",
   "mimetype": "text/x-python",
   "name": "python",
   "nbconvert_exporter": "python",
   "pygments_lexer": "ipython3",
   "version": "3.8.8"
  }
 },
 "nbformat": 4,
 "nbformat_minor": 5
}
